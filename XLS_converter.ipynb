{
  "nbformat": 4,
  "nbformat_minor": 0,
  "metadata": {
    "colab": {
      "name": "XLS_converter.ipynb",
      "provenance": [],
      "authorship_tag": "ABX9TyPA0G802PJuwXSdNw87riJl",
      "include_colab_link": true
    },
    "kernelspec": {
      "name": "python3",
      "display_name": "Python 3"
    },
    "language_info": {
      "name": "python"
    }
  },
  "cells": [
    {
      "cell_type": "markdown",
      "metadata": {
        "id": "view-in-github",
        "colab_type": "text"
      },
      "source": [
        "<a href=\"https://colab.research.google.com/github/sipocz/XLS_Conv/blob/main/XLS_converter.ipynb\" target=\"_parent\"><img src=\"https://colab.research.google.com/assets/colab-badge.svg\" alt=\"Open In Colab\"/></a>"
      ]
    },
    {
      "cell_type": "code",
      "metadata": {
        "id": "nauIEJwU_0eR"
      },
      "source": [
        "import pandas as pd\n",
        "import os"
      ],
      "execution_count": 586,
      "outputs": []
    },
    {
      "cell_type": "code",
      "metadata": {
        "id": "B8dCwSpAAp77"
      },
      "source": [
        "!rm *.xlsx*"
      ],
      "execution_count": 587,
      "outputs": []
    },
    {
      "cell_type": "code",
      "metadata": {
        "id": "15mhY8XZAZsY"
      },
      "source": [
        "urlname=\"https://github.com/sipocz/XLS_Conv/raw/e052e5c75f5690d62793dc2f31af7d22b564e405/U113_20210705.xlsx\"\n",
        "urlname=\"https://github.com/sipocz/XLS_Conv/raw/e052e5c75f5690d62793dc2f31af7d22b564e405/U113_20210628.xlsx\"\n",
        "urlname=\"https://github.com/sipocz/XLS_Conv/raw/e052e5c75f5690d62793dc2f31af7d22b564e405/U113_20210621.xlsx\"\n",
        "urlname=\"https://github.com/sipocz/XLS_Conv/raw/e052e5c75f5690d62793dc2f31af7d22b564e405/U113_20210614.xlsx\"\n",
        "urlname=\"https://github.com/sipocz/XLS_Conv/raw/e052e5c75f5690d62793dc2f31af7d22b564e405/U113_20210607.xlsx\"\n",
        "\n",
        "\n",
        "\n",
        "\n",
        "_,fname= os.path.split(urlname)"
      ],
      "execution_count": 588,
      "outputs": []
    },
    {
      "cell_type": "code",
      "metadata": {
        "id": "n_BQX4J-B165"
      },
      "source": [
        ""
      ],
      "execution_count": 588,
      "outputs": []
    },
    {
      "cell_type": "code",
      "metadata": {
        "colab": {
          "base_uri": "https://localhost:8080/"
        },
        "id": "h6RS-a75_8u5",
        "outputId": "0e887ce8-945e-4e14-dbba-535436953bd9"
      },
      "source": [
        "!wget $urlname"
      ],
      "execution_count": 589,
      "outputs": [
        {
          "output_type": "stream",
          "name": "stdout",
          "text": [
            "--2021-10-01 20:39:34--  https://github.com/sipocz/XLS_Conv/raw/e052e5c75f5690d62793dc2f31af7d22b564e405/U113_20210607.xlsx\n",
            "Resolving github.com (github.com)... 140.82.113.4\n",
            "Connecting to github.com (github.com)|140.82.113.4|:443... connected.\n",
            "HTTP request sent, awaiting response... 302 Found\n",
            "Location: https://raw.githubusercontent.com/sipocz/XLS_Conv/e052e5c75f5690d62793dc2f31af7d22b564e405/U113_20210607.xlsx [following]\n",
            "--2021-10-01 20:39:34--  https://raw.githubusercontent.com/sipocz/XLS_Conv/e052e5c75f5690d62793dc2f31af7d22b564e405/U113_20210607.xlsx\n",
            "Resolving raw.githubusercontent.com (raw.githubusercontent.com)... 185.199.108.133, 185.199.109.133, 185.199.110.133, ...\n",
            "Connecting to raw.githubusercontent.com (raw.githubusercontent.com)|185.199.108.133|:443... connected.\n",
            "HTTP request sent, awaiting response... 200 OK\n",
            "Length: 5661857 (5.4M) [application/octet-stream]\n",
            "Saving to: ‘U113_20210607.xlsx’\n",
            "\n",
            "U113_20210607.xlsx  100%[===================>]   5.40M  --.-KB/s    in 0.08s   \n",
            "\n",
            "2021-10-01 20:39:34 (64.6 MB/s) - ‘U113_20210607.xlsx’ saved [5661857/5661857]\n",
            "\n"
          ]
        }
      ]
    },
    {
      "cell_type": "code",
      "metadata": {
        "id": "DxqdvnRkARhK"
      },
      "source": [
        "df=pd.read_excel(fname,sheet_name=3)"
      ],
      "execution_count": 590,
      "outputs": []
    },
    {
      "cell_type": "code",
      "metadata": {
        "id": "bwxlDg1yEPOf"
      },
      "source": [
        "df.columns=[\"Date\",\"Value\",\"Status\"]"
      ],
      "execution_count": 591,
      "outputs": []
    },
    {
      "cell_type": "code",
      "metadata": {
        "colab": {
          "base_uri": "https://localhost:8080/",
          "height": 205
        },
        "id": "NRFMv3-vB_8r",
        "outputId": "d9b20a44-8ac3-4f85-e7de-98ba80885ab7"
      },
      "source": [
        "df.tail()"
      ],
      "execution_count": 592,
      "outputs": [
        {
          "output_type": "execute_result",
          "data": {
            "text/html": [
              "<div>\n",
              "<style scoped>\n",
              "    .dataframe tbody tr th:only-of-type {\n",
              "        vertical-align: middle;\n",
              "    }\n",
              "\n",
              "    .dataframe tbody tr th {\n",
              "        vertical-align: top;\n",
              "    }\n",
              "\n",
              "    .dataframe thead th {\n",
              "        text-align: right;\n",
              "    }\n",
              "</style>\n",
              "<table border=\"1\" class=\"dataframe\">\n",
              "  <thead>\n",
              "    <tr style=\"text-align: right;\">\n",
              "      <th></th>\n",
              "      <th>Date</th>\n",
              "      <th>Value</th>\n",
              "      <th>Status</th>\n",
              "    </tr>\n",
              "  </thead>\n",
              "  <tbody>\n",
              "    <tr>\n",
              "      <th>29495</th>\n",
              "      <td>2021-06-11 23:58:50</td>\n",
              "      <td>36.285957</td>\n",
              "      <td>OK</td>\n",
              "    </tr>\n",
              "    <tr>\n",
              "      <th>29496</th>\n",
              "      <td>2021-06-11 23:59:10</td>\n",
              "      <td>36.285957</td>\n",
              "      <td>OK</td>\n",
              "    </tr>\n",
              "    <tr>\n",
              "      <th>29497</th>\n",
              "      <td>2021-06-11 23:59:22</td>\n",
              "      <td>36.182953</td>\n",
              "      <td>OK</td>\n",
              "    </tr>\n",
              "    <tr>\n",
              "      <th>29498</th>\n",
              "      <td>2021-06-11 23:59:42</td>\n",
              "      <td>36.182953</td>\n",
              "      <td>OK</td>\n",
              "    </tr>\n",
              "    <tr>\n",
              "      <th>29499</th>\n",
              "      <td>True</td>\n",
              "      <td>NaN</td>\n",
              "      <td>NaN</td>\n",
              "    </tr>\n",
              "  </tbody>\n",
              "</table>\n",
              "</div>"
            ],
            "text/plain": [
              "                      Date      Value Status\n",
              "29495  2021-06-11 23:58:50  36.285957     OK\n",
              "29496  2021-06-11 23:59:10  36.285957     OK\n",
              "29497  2021-06-11 23:59:22  36.182953     OK\n",
              "29498  2021-06-11 23:59:42  36.182953     OK\n",
              "29499                 True        NaN    NaN"
            ]
          },
          "metadata": {},
          "execution_count": 592
        }
      ]
    },
    {
      "cell_type": "code",
      "metadata": {
        "id": "flflyrJKd_kl"
      },
      "source": [
        "df.dropna(inplace=True)"
      ],
      "execution_count": 593,
      "outputs": []
    },
    {
      "cell_type": "code",
      "metadata": {
        "colab": {
          "base_uri": "https://localhost:8080/"
        },
        "id": "YXNURyA3IwDn",
        "outputId": "32362f3f-b226-48f3-a69c-f11932a9bce9"
      },
      "source": [
        "df.Date[0]"
      ],
      "execution_count": 594,
      "outputs": [
        {
          "output_type": "execute_result",
          "data": {
            "text/plain": [
              "datetime.datetime(2021, 6, 7, 0, 0, 25)"
            ]
          },
          "metadata": {},
          "execution_count": 594
        }
      ]
    },
    {
      "cell_type": "code",
      "metadata": {
        "id": "jy1NKgXLGhlE"
      },
      "source": [
        "#pd.to_datetime(df.Date, format=\"%Y-%m-%d %H:%M:%S\")"
      ],
      "execution_count": 595,
      "outputs": []
    },
    {
      "cell_type": "code",
      "metadata": {
        "id": "SoIxMQbXKo04"
      },
      "source": [
        "df.index=df.Date"
      ],
      "execution_count": 596,
      "outputs": []
    },
    {
      "cell_type": "code",
      "metadata": {
        "colab": {
          "base_uri": "https://localhost:8080/",
          "height": 299
        },
        "id": "5aZE66prEU5r",
        "outputId": "67fb0aba-391f-4ca7-fa52-0679328e1dc5"
      },
      "source": [
        "df.describe()"
      ],
      "execution_count": 597,
      "outputs": [
        {
          "output_type": "execute_result",
          "data": {
            "text/html": [
              "<div>\n",
              "<style scoped>\n",
              "    .dataframe tbody tr th:only-of-type {\n",
              "        vertical-align: middle;\n",
              "    }\n",
              "\n",
              "    .dataframe tbody tr th {\n",
              "        vertical-align: top;\n",
              "    }\n",
              "\n",
              "    .dataframe thead th {\n",
              "        text-align: right;\n",
              "    }\n",
              "</style>\n",
              "<table border=\"1\" class=\"dataframe\">\n",
              "  <thead>\n",
              "    <tr style=\"text-align: right;\">\n",
              "      <th></th>\n",
              "      <th>Value</th>\n",
              "    </tr>\n",
              "  </thead>\n",
              "  <tbody>\n",
              "    <tr>\n",
              "      <th>count</th>\n",
              "      <td>29499.000000</td>\n",
              "    </tr>\n",
              "    <tr>\n",
              "      <th>mean</th>\n",
              "      <td>58.158668</td>\n",
              "    </tr>\n",
              "    <tr>\n",
              "      <th>std</th>\n",
              "      <td>11.913623</td>\n",
              "    </tr>\n",
              "    <tr>\n",
              "      <th>min</th>\n",
              "      <td>24.155029</td>\n",
              "    </tr>\n",
              "    <tr>\n",
              "      <th>25%</th>\n",
              "      <td>58.373390</td>\n",
              "    </tr>\n",
              "    <tr>\n",
              "      <th>50%</th>\n",
              "      <td>59.216446</td>\n",
              "    </tr>\n",
              "    <tr>\n",
              "      <th>75%</th>\n",
              "      <td>67.494469</td>\n",
              "    </tr>\n",
              "    <tr>\n",
              "      <th>max</th>\n",
              "      <td>73.971924</td>\n",
              "    </tr>\n",
              "  </tbody>\n",
              "</table>\n",
              "</div>"
            ],
            "text/plain": [
              "              Value\n",
              "count  29499.000000\n",
              "mean      58.158668\n",
              "std       11.913623\n",
              "min       24.155029\n",
              "25%       58.373390\n",
              "50%       59.216446\n",
              "75%       67.494469\n",
              "max       73.971924"
            ]
          },
          "metadata": {},
          "execution_count": 597
        }
      ]
    },
    {
      "cell_type": "code",
      "metadata": {
        "colab": {
          "base_uri": "https://localhost:8080/"
        },
        "id": "piAkz2k_JMyZ",
        "outputId": "762419ab-c636-4eb2-c498-05d17d7ba556"
      },
      "source": [
        "df.Date.values[-1]"
      ],
      "execution_count": 598,
      "outputs": [
        {
          "output_type": "execute_result",
          "data": {
            "text/plain": [
              "datetime.datetime(2021, 6, 11, 23, 59, 42)"
            ]
          },
          "metadata": {},
          "execution_count": 598
        }
      ]
    },
    {
      "cell_type": "code",
      "metadata": {
        "id": "8FK7nslyEh2l"
      },
      "source": [
        "new_range = pd.date_range(df.Date.values[0], df.Date.values[-2], freq='10S')"
      ],
      "execution_count": 599,
      "outputs": []
    },
    {
      "cell_type": "code",
      "metadata": {
        "colab": {
          "base_uri": "https://localhost:8080/"
        },
        "id": "mZtEs6KhK3GX",
        "outputId": "7c2f5c2d-0523-4297-f138-63e233b42bdc"
      },
      "source": [
        "new_range"
      ],
      "execution_count": 600,
      "outputs": [
        {
          "output_type": "execute_result",
          "data": {
            "text/plain": [
              "DatetimeIndex(['2021-06-07 00:00:25', '2021-06-07 00:00:35',\n",
              "               '2021-06-07 00:00:45', '2021-06-07 00:00:55',\n",
              "               '2021-06-07 00:01:05', '2021-06-07 00:01:15',\n",
              "               '2021-06-07 00:01:25', '2021-06-07 00:01:35',\n",
              "               '2021-06-07 00:01:45', '2021-06-07 00:01:55',\n",
              "               ...\n",
              "               '2021-06-11 23:57:45', '2021-06-11 23:57:55',\n",
              "               '2021-06-11 23:58:05', '2021-06-11 23:58:15',\n",
              "               '2021-06-11 23:58:25', '2021-06-11 23:58:35',\n",
              "               '2021-06-11 23:58:45', '2021-06-11 23:58:55',\n",
              "               '2021-06-11 23:59:05', '2021-06-11 23:59:15'],\n",
              "              dtype='datetime64[ns]', length=43194, freq='10S')"
            ]
          },
          "metadata": {},
          "execution_count": 600
        }
      ]
    },
    {
      "cell_type": "code",
      "metadata": {
        "colab": {
          "base_uri": "https://localhost:8080/"
        },
        "id": "mKFMoS2iOWIw",
        "outputId": "0e143be3-37d2-44a5-bbfc-9d957a4213ab"
      },
      "source": [
        "type(df)"
      ],
      "execution_count": 601,
      "outputs": [
        {
          "output_type": "execute_result",
          "data": {
            "text/plain": [
              "pandas.core.frame.DataFrame"
            ]
          },
          "metadata": {},
          "execution_count": 601
        }
      ]
    },
    {
      "cell_type": "code",
      "metadata": {
        "id": "tLr_xFnDLnKk"
      },
      "source": [
        "df.set_index(\"Date\",inplace=True)"
      ],
      "execution_count": 602,
      "outputs": []
    },
    {
      "cell_type": "code",
      "metadata": {
        "colab": {
          "base_uri": "https://localhost:8080/",
          "height": 236
        },
        "id": "PBw3z1UxTZnT",
        "outputId": "b831c927-d4d7-4185-d9d1-5e2512466cef"
      },
      "source": [
        "df.head()"
      ],
      "execution_count": 603,
      "outputs": [
        {
          "output_type": "execute_result",
          "data": {
            "text/html": [
              "<div>\n",
              "<style scoped>\n",
              "    .dataframe tbody tr th:only-of-type {\n",
              "        vertical-align: middle;\n",
              "    }\n",
              "\n",
              "    .dataframe tbody tr th {\n",
              "        vertical-align: top;\n",
              "    }\n",
              "\n",
              "    .dataframe thead th {\n",
              "        text-align: right;\n",
              "    }\n",
              "</style>\n",
              "<table border=\"1\" class=\"dataframe\">\n",
              "  <thead>\n",
              "    <tr style=\"text-align: right;\">\n",
              "      <th></th>\n",
              "      <th>Value</th>\n",
              "      <th>Status</th>\n",
              "    </tr>\n",
              "    <tr>\n",
              "      <th>Date</th>\n",
              "      <th></th>\n",
              "      <th></th>\n",
              "    </tr>\n",
              "  </thead>\n",
              "  <tbody>\n",
              "    <tr>\n",
              "      <th>2021-06-07 00:00:25</th>\n",
              "      <td>31.860840</td>\n",
              "      <td>OK</td>\n",
              "    </tr>\n",
              "    <tr>\n",
              "      <th>2021-06-07 00:00:35</th>\n",
              "      <td>31.960022</td>\n",
              "      <td>OK</td>\n",
              "    </tr>\n",
              "    <tr>\n",
              "      <th>2021-06-07 00:00:55</th>\n",
              "      <td>31.960022</td>\n",
              "      <td>OK</td>\n",
              "    </tr>\n",
              "    <tr>\n",
              "      <th>2021-06-07 00:00:56</th>\n",
              "      <td>31.860840</td>\n",
              "      <td>OK</td>\n",
              "    </tr>\n",
              "    <tr>\n",
              "      <th>2021-06-07 00:01:06</th>\n",
              "      <td>31.960022</td>\n",
              "      <td>OK</td>\n",
              "    </tr>\n",
              "  </tbody>\n",
              "</table>\n",
              "</div>"
            ],
            "text/plain": [
              "                         Value Status\n",
              "Date                                 \n",
              "2021-06-07 00:00:25  31.860840     OK\n",
              "2021-06-07 00:00:35  31.960022     OK\n",
              "2021-06-07 00:00:55  31.960022     OK\n",
              "2021-06-07 00:00:56  31.860840     OK\n",
              "2021-06-07 00:01:06  31.960022     OK"
            ]
          },
          "metadata": {},
          "execution_count": 603
        }
      ]
    },
    {
      "cell_type": "code",
      "metadata": {
        "id": "9lNusBvkdZHL"
      },
      "source": [
        ""
      ],
      "execution_count": 603,
      "outputs": []
    },
    {
      "cell_type": "code",
      "metadata": {
        "id": "OKD0EMhmPCa6"
      },
      "source": [
        ""
      ],
      "execution_count": 603,
      "outputs": []
    },
    {
      "cell_type": "code",
      "metadata": {
        "colab": {
          "base_uri": "https://localhost:8080/",
          "height": 236
        },
        "id": "QuikGNIpMW0j",
        "outputId": "57ef6c13-d1b0-47f8-de41-5a3169cf8882"
      },
      "source": [
        "df.head()"
      ],
      "execution_count": 604,
      "outputs": [
        {
          "output_type": "execute_result",
          "data": {
            "text/html": [
              "<div>\n",
              "<style scoped>\n",
              "    .dataframe tbody tr th:only-of-type {\n",
              "        vertical-align: middle;\n",
              "    }\n",
              "\n",
              "    .dataframe tbody tr th {\n",
              "        vertical-align: top;\n",
              "    }\n",
              "\n",
              "    .dataframe thead th {\n",
              "        text-align: right;\n",
              "    }\n",
              "</style>\n",
              "<table border=\"1\" class=\"dataframe\">\n",
              "  <thead>\n",
              "    <tr style=\"text-align: right;\">\n",
              "      <th></th>\n",
              "      <th>Value</th>\n",
              "      <th>Status</th>\n",
              "    </tr>\n",
              "    <tr>\n",
              "      <th>Date</th>\n",
              "      <th></th>\n",
              "      <th></th>\n",
              "    </tr>\n",
              "  </thead>\n",
              "  <tbody>\n",
              "    <tr>\n",
              "      <th>2021-06-07 00:00:25</th>\n",
              "      <td>31.860840</td>\n",
              "      <td>OK</td>\n",
              "    </tr>\n",
              "    <tr>\n",
              "      <th>2021-06-07 00:00:35</th>\n",
              "      <td>31.960022</td>\n",
              "      <td>OK</td>\n",
              "    </tr>\n",
              "    <tr>\n",
              "      <th>2021-06-07 00:00:55</th>\n",
              "      <td>31.960022</td>\n",
              "      <td>OK</td>\n",
              "    </tr>\n",
              "    <tr>\n",
              "      <th>2021-06-07 00:00:56</th>\n",
              "      <td>31.860840</td>\n",
              "      <td>OK</td>\n",
              "    </tr>\n",
              "    <tr>\n",
              "      <th>2021-06-07 00:01:06</th>\n",
              "      <td>31.960022</td>\n",
              "      <td>OK</td>\n",
              "    </tr>\n",
              "  </tbody>\n",
              "</table>\n",
              "</div>"
            ],
            "text/plain": [
              "                         Value Status\n",
              "Date                                 \n",
              "2021-06-07 00:00:25  31.860840     OK\n",
              "2021-06-07 00:00:35  31.960022     OK\n",
              "2021-06-07 00:00:55  31.960022     OK\n",
              "2021-06-07 00:00:56  31.860840     OK\n",
              "2021-06-07 00:01:06  31.960022     OK"
            ]
          },
          "metadata": {},
          "execution_count": 604
        }
      ]
    },
    {
      "cell_type": "code",
      "metadata": {
        "id": "jBFd6zuIRWYX"
      },
      "source": [
        "bad_data=df[df[\"Status\"]==\"Bad Data\"].index"
      ],
      "execution_count": 605,
      "outputs": []
    },
    {
      "cell_type": "code",
      "metadata": {
        "colab": {
          "base_uri": "https://localhost:8080/"
        },
        "id": "fheQ1NQBRxhC",
        "outputId": "0ab90277-3ba6-4646-d433-2f71868fd4e2"
      },
      "source": [
        "bad_data"
      ],
      "execution_count": 606,
      "outputs": [
        {
          "output_type": "execute_result",
          "data": {
            "text/plain": [
              "DatetimeIndex([], dtype='datetime64[ns]', name='Date', freq=None)"
            ]
          },
          "metadata": {},
          "execution_count": 606
        }
      ]
    },
    {
      "cell_type": "code",
      "metadata": {
        "id": "xZPnVWMccTEH"
      },
      "source": [
        ""
      ],
      "execution_count": 606,
      "outputs": []
    },
    {
      "cell_type": "code",
      "metadata": {
        "colab": {
          "base_uri": "https://localhost:8080/",
          "height": 454
        },
        "id": "zJKVOeG7clxL",
        "outputId": "96467fb0-f526-458f-d2a4-e8e3cacc9ce9"
      },
      "source": [
        "df"
      ],
      "execution_count": 607,
      "outputs": [
        {
          "output_type": "execute_result",
          "data": {
            "text/html": [
              "<div>\n",
              "<style scoped>\n",
              "    .dataframe tbody tr th:only-of-type {\n",
              "        vertical-align: middle;\n",
              "    }\n",
              "\n",
              "    .dataframe tbody tr th {\n",
              "        vertical-align: top;\n",
              "    }\n",
              "\n",
              "    .dataframe thead th {\n",
              "        text-align: right;\n",
              "    }\n",
              "</style>\n",
              "<table border=\"1\" class=\"dataframe\">\n",
              "  <thead>\n",
              "    <tr style=\"text-align: right;\">\n",
              "      <th></th>\n",
              "      <th>Value</th>\n",
              "      <th>Status</th>\n",
              "    </tr>\n",
              "    <tr>\n",
              "      <th>Date</th>\n",
              "      <th></th>\n",
              "      <th></th>\n",
              "    </tr>\n",
              "  </thead>\n",
              "  <tbody>\n",
              "    <tr>\n",
              "      <th>2021-06-07 00:00:25</th>\n",
              "      <td>31.860840</td>\n",
              "      <td>OK</td>\n",
              "    </tr>\n",
              "    <tr>\n",
              "      <th>2021-06-07 00:00:35</th>\n",
              "      <td>31.960022</td>\n",
              "      <td>OK</td>\n",
              "    </tr>\n",
              "    <tr>\n",
              "      <th>2021-06-07 00:00:55</th>\n",
              "      <td>31.960022</td>\n",
              "      <td>OK</td>\n",
              "    </tr>\n",
              "    <tr>\n",
              "      <th>2021-06-07 00:00:56</th>\n",
              "      <td>31.860840</td>\n",
              "      <td>OK</td>\n",
              "    </tr>\n",
              "    <tr>\n",
              "      <th>2021-06-07 00:01:06</th>\n",
              "      <td>31.960022</td>\n",
              "      <td>OK</td>\n",
              "    </tr>\n",
              "    <tr>\n",
              "      <th>...</th>\n",
              "      <td>...</td>\n",
              "      <td>...</td>\n",
              "    </tr>\n",
              "    <tr>\n",
              "      <th>2021-06-11 23:58:30</th>\n",
              "      <td>36.385139</td>\n",
              "      <td>OK</td>\n",
              "    </tr>\n",
              "    <tr>\n",
              "      <th>2021-06-11 23:58:50</th>\n",
              "      <td>36.285957</td>\n",
              "      <td>OK</td>\n",
              "    </tr>\n",
              "    <tr>\n",
              "      <th>2021-06-11 23:59:10</th>\n",
              "      <td>36.285957</td>\n",
              "      <td>OK</td>\n",
              "    </tr>\n",
              "    <tr>\n",
              "      <th>2021-06-11 23:59:22</th>\n",
              "      <td>36.182953</td>\n",
              "      <td>OK</td>\n",
              "    </tr>\n",
              "    <tr>\n",
              "      <th>2021-06-11 23:59:42</th>\n",
              "      <td>36.182953</td>\n",
              "      <td>OK</td>\n",
              "    </tr>\n",
              "  </tbody>\n",
              "</table>\n",
              "<p>29499 rows × 2 columns</p>\n",
              "</div>"
            ],
            "text/plain": [
              "                         Value Status\n",
              "Date                                 \n",
              "2021-06-07 00:00:25  31.860840     OK\n",
              "2021-06-07 00:00:35  31.960022     OK\n",
              "2021-06-07 00:00:55  31.960022     OK\n",
              "2021-06-07 00:00:56  31.860840     OK\n",
              "2021-06-07 00:01:06  31.960022     OK\n",
              "...                        ...    ...\n",
              "2021-06-11 23:58:30  36.385139     OK\n",
              "2021-06-11 23:58:50  36.285957     OK\n",
              "2021-06-11 23:59:10  36.285957     OK\n",
              "2021-06-11 23:59:22  36.182953     OK\n",
              "2021-06-11 23:59:42  36.182953     OK\n",
              "\n",
              "[29499 rows x 2 columns]"
            ]
          },
          "metadata": {},
          "execution_count": 607
        }
      ]
    },
    {
      "cell_type": "code",
      "metadata": {
        "id": "LFtHG_ROQTgo"
      },
      "source": [
        "#df.drop(index=bad_data,inplace=True)"
      ],
      "execution_count": 608,
      "outputs": []
    },
    {
      "cell_type": "code",
      "metadata": {
        "colab": {
          "base_uri": "https://localhost:8080/"
        },
        "id": "yRewMi8KMgSs",
        "outputId": "055b5611-e39f-40ff-eae3-e396dd8d88e6"
      },
      "source": [
        "type(df)"
      ],
      "execution_count": 609,
      "outputs": [
        {
          "output_type": "execute_result",
          "data": {
            "text/plain": [
              "pandas.core.frame.DataFrame"
            ]
          },
          "metadata": {},
          "execution_count": 609
        }
      ]
    },
    {
      "cell_type": "code",
      "metadata": {
        "colab": {
          "base_uri": "https://localhost:8080/",
          "height": 299
        },
        "id": "I746QkypLVQ0",
        "outputId": "afe3fe5a-a4ab-4372-f807-28eeae3f7f42"
      },
      "source": [
        "df.describe()"
      ],
      "execution_count": 610,
      "outputs": [
        {
          "output_type": "execute_result",
          "data": {
            "text/html": [
              "<div>\n",
              "<style scoped>\n",
              "    .dataframe tbody tr th:only-of-type {\n",
              "        vertical-align: middle;\n",
              "    }\n",
              "\n",
              "    .dataframe tbody tr th {\n",
              "        vertical-align: top;\n",
              "    }\n",
              "\n",
              "    .dataframe thead th {\n",
              "        text-align: right;\n",
              "    }\n",
              "</style>\n",
              "<table border=\"1\" class=\"dataframe\">\n",
              "  <thead>\n",
              "    <tr style=\"text-align: right;\">\n",
              "      <th></th>\n",
              "      <th>Value</th>\n",
              "    </tr>\n",
              "  </thead>\n",
              "  <tbody>\n",
              "    <tr>\n",
              "      <th>count</th>\n",
              "      <td>29499.000000</td>\n",
              "    </tr>\n",
              "    <tr>\n",
              "      <th>mean</th>\n",
              "      <td>58.158668</td>\n",
              "    </tr>\n",
              "    <tr>\n",
              "      <th>std</th>\n",
              "      <td>11.913623</td>\n",
              "    </tr>\n",
              "    <tr>\n",
              "      <th>min</th>\n",
              "      <td>24.155029</td>\n",
              "    </tr>\n",
              "    <tr>\n",
              "      <th>25%</th>\n",
              "      <td>58.373390</td>\n",
              "    </tr>\n",
              "    <tr>\n",
              "      <th>50%</th>\n",
              "      <td>59.216446</td>\n",
              "    </tr>\n",
              "    <tr>\n",
              "      <th>75%</th>\n",
              "      <td>67.494469</td>\n",
              "    </tr>\n",
              "    <tr>\n",
              "      <th>max</th>\n",
              "      <td>73.971924</td>\n",
              "    </tr>\n",
              "  </tbody>\n",
              "</table>\n",
              "</div>"
            ],
            "text/plain": [
              "              Value\n",
              "count  29499.000000\n",
              "mean      58.158668\n",
              "std       11.913623\n",
              "min       24.155029\n",
              "25%       58.373390\n",
              "50%       59.216446\n",
              "75%       67.494469\n",
              "max       73.971924"
            ]
          },
          "metadata": {},
          "execution_count": 610
        }
      ]
    },
    {
      "cell_type": "code",
      "metadata": {
        "colab": {
          "base_uri": "https://localhost:8080/",
          "height": 236
        },
        "id": "GEwYLlJUPk1B",
        "outputId": "c15553ce-b5e8-4c57-a8b6-5f1bc1d3a5a1"
      },
      "source": [
        "df.head()"
      ],
      "execution_count": 611,
      "outputs": [
        {
          "output_type": "execute_result",
          "data": {
            "text/html": [
              "<div>\n",
              "<style scoped>\n",
              "    .dataframe tbody tr th:only-of-type {\n",
              "        vertical-align: middle;\n",
              "    }\n",
              "\n",
              "    .dataframe tbody tr th {\n",
              "        vertical-align: top;\n",
              "    }\n",
              "\n",
              "    .dataframe thead th {\n",
              "        text-align: right;\n",
              "    }\n",
              "</style>\n",
              "<table border=\"1\" class=\"dataframe\">\n",
              "  <thead>\n",
              "    <tr style=\"text-align: right;\">\n",
              "      <th></th>\n",
              "      <th>Value</th>\n",
              "      <th>Status</th>\n",
              "    </tr>\n",
              "    <tr>\n",
              "      <th>Date</th>\n",
              "      <th></th>\n",
              "      <th></th>\n",
              "    </tr>\n",
              "  </thead>\n",
              "  <tbody>\n",
              "    <tr>\n",
              "      <th>2021-06-07 00:00:25</th>\n",
              "      <td>31.860840</td>\n",
              "      <td>OK</td>\n",
              "    </tr>\n",
              "    <tr>\n",
              "      <th>2021-06-07 00:00:35</th>\n",
              "      <td>31.960022</td>\n",
              "      <td>OK</td>\n",
              "    </tr>\n",
              "    <tr>\n",
              "      <th>2021-06-07 00:00:55</th>\n",
              "      <td>31.960022</td>\n",
              "      <td>OK</td>\n",
              "    </tr>\n",
              "    <tr>\n",
              "      <th>2021-06-07 00:00:56</th>\n",
              "      <td>31.860840</td>\n",
              "      <td>OK</td>\n",
              "    </tr>\n",
              "    <tr>\n",
              "      <th>2021-06-07 00:01:06</th>\n",
              "      <td>31.960022</td>\n",
              "      <td>OK</td>\n",
              "    </tr>\n",
              "  </tbody>\n",
              "</table>\n",
              "</div>"
            ],
            "text/plain": [
              "                         Value Status\n",
              "Date                                 \n",
              "2021-06-07 00:00:25  31.860840     OK\n",
              "2021-06-07 00:00:35  31.960022     OK\n",
              "2021-06-07 00:00:55  31.960022     OK\n",
              "2021-06-07 00:00:56  31.860840     OK\n",
              "2021-06-07 00:01:06  31.960022     OK"
            ]
          },
          "metadata": {},
          "execution_count": 611
        }
      ]
    },
    {
      "cell_type": "code",
      "metadata": {
        "id": "y4ZJQCYRLKZX"
      },
      "source": [
        "df.reset_index(inplace=True)"
      ],
      "execution_count": 612,
      "outputs": []
    },
    {
      "cell_type": "code",
      "metadata": {
        "id": "QaY46S1xXI5s"
      },
      "source": [
        "df.drop(columns=[\"Status\"], inplace=True)"
      ],
      "execution_count": 613,
      "outputs": []
    },
    {
      "cell_type": "code",
      "metadata": {
        "id": "4S4cr1lQEcz3"
      },
      "source": [
        ""
      ],
      "execution_count": 613,
      "outputs": []
    },
    {
      "cell_type": "code",
      "metadata": {
        "id": "D1b8EzcVhD3u"
      },
      "source": [
        "new_range = pd.date_range(df.index.values[0], df.index.values[-1], freq='10S')"
      ],
      "execution_count": 614,
      "outputs": []
    },
    {
      "cell_type": "code",
      "metadata": {
        "colab": {
          "base_uri": "https://localhost:8080/"
        },
        "id": "MWCFjph4jh_-",
        "outputId": "b7db88a7-bc07-48a9-bb81-5063ec2a2cbf"
      },
      "source": [
        "new_range"
      ],
      "execution_count": 615,
      "outputs": [
        {
          "output_type": "execute_result",
          "data": {
            "text/plain": [
              "DatetimeIndex(['1970-01-01'], dtype='datetime64[ns]', freq='10S')"
            ]
          },
          "metadata": {},
          "execution_count": 615
        }
      ]
    },
    {
      "cell_type": "code",
      "metadata": {
        "colab": {
          "base_uri": "https://localhost:8080/",
          "height": 422
        },
        "id": "Nl5V3bD9MyS1",
        "outputId": "0455ef73-a519-4f28-cdf0-3f6eee6a42a6"
      },
      "source": [
        "df.reindex()"
      ],
      "execution_count": 616,
      "outputs": [
        {
          "output_type": "execute_result",
          "data": {
            "text/html": [
              "<div>\n",
              "<style scoped>\n",
              "    .dataframe tbody tr th:only-of-type {\n",
              "        vertical-align: middle;\n",
              "    }\n",
              "\n",
              "    .dataframe tbody tr th {\n",
              "        vertical-align: top;\n",
              "    }\n",
              "\n",
              "    .dataframe thead th {\n",
              "        text-align: right;\n",
              "    }\n",
              "</style>\n",
              "<table border=\"1\" class=\"dataframe\">\n",
              "  <thead>\n",
              "    <tr style=\"text-align: right;\">\n",
              "      <th></th>\n",
              "      <th>Date</th>\n",
              "      <th>Value</th>\n",
              "    </tr>\n",
              "  </thead>\n",
              "  <tbody>\n",
              "    <tr>\n",
              "      <th>0</th>\n",
              "      <td>2021-06-07 00:00:25</td>\n",
              "      <td>31.860840</td>\n",
              "    </tr>\n",
              "    <tr>\n",
              "      <th>1</th>\n",
              "      <td>2021-06-07 00:00:35</td>\n",
              "      <td>31.960022</td>\n",
              "    </tr>\n",
              "    <tr>\n",
              "      <th>2</th>\n",
              "      <td>2021-06-07 00:00:55</td>\n",
              "      <td>31.960022</td>\n",
              "    </tr>\n",
              "    <tr>\n",
              "      <th>3</th>\n",
              "      <td>2021-06-07 00:00:56</td>\n",
              "      <td>31.860840</td>\n",
              "    </tr>\n",
              "    <tr>\n",
              "      <th>4</th>\n",
              "      <td>2021-06-07 00:01:06</td>\n",
              "      <td>31.960022</td>\n",
              "    </tr>\n",
              "    <tr>\n",
              "      <th>...</th>\n",
              "      <td>...</td>\n",
              "      <td>...</td>\n",
              "    </tr>\n",
              "    <tr>\n",
              "      <th>29494</th>\n",
              "      <td>2021-06-11 23:58:30</td>\n",
              "      <td>36.385139</td>\n",
              "    </tr>\n",
              "    <tr>\n",
              "      <th>29495</th>\n",
              "      <td>2021-06-11 23:58:50</td>\n",
              "      <td>36.285957</td>\n",
              "    </tr>\n",
              "    <tr>\n",
              "      <th>29496</th>\n",
              "      <td>2021-06-11 23:59:10</td>\n",
              "      <td>36.285957</td>\n",
              "    </tr>\n",
              "    <tr>\n",
              "      <th>29497</th>\n",
              "      <td>2021-06-11 23:59:22</td>\n",
              "      <td>36.182953</td>\n",
              "    </tr>\n",
              "    <tr>\n",
              "      <th>29498</th>\n",
              "      <td>2021-06-11 23:59:42</td>\n",
              "      <td>36.182953</td>\n",
              "    </tr>\n",
              "  </tbody>\n",
              "</table>\n",
              "<p>29499 rows × 2 columns</p>\n",
              "</div>"
            ],
            "text/plain": [
              "                     Date      Value\n",
              "0     2021-06-07 00:00:25  31.860840\n",
              "1     2021-06-07 00:00:35  31.960022\n",
              "2     2021-06-07 00:00:55  31.960022\n",
              "3     2021-06-07 00:00:56  31.860840\n",
              "4     2021-06-07 00:01:06  31.960022\n",
              "...                   ...        ...\n",
              "29494 2021-06-11 23:58:30  36.385139\n",
              "29495 2021-06-11 23:58:50  36.285957\n",
              "29496 2021-06-11 23:59:10  36.285957\n",
              "29497 2021-06-11 23:59:22  36.182953\n",
              "29498 2021-06-11 23:59:42  36.182953\n",
              "\n",
              "[29499 rows x 2 columns]"
            ]
          },
          "metadata": {},
          "execution_count": 616
        }
      ]
    },
    {
      "cell_type": "code",
      "metadata": {
        "id": "htzJCeRGdoQu"
      },
      "source": [
        "df.set_index(\"Date\",inplace=True)"
      ],
      "execution_count": 617,
      "outputs": []
    },
    {
      "cell_type": "code",
      "metadata": {
        "colab": {
          "base_uri": "https://localhost:8080/",
          "height": 454
        },
        "id": "893GVVhue6Wo",
        "outputId": "a5321db0-d2f7-4ef3-ea3e-1c3c58d5acc9"
      },
      "source": [
        "df"
      ],
      "execution_count": 618,
      "outputs": [
        {
          "output_type": "execute_result",
          "data": {
            "text/html": [
              "<div>\n",
              "<style scoped>\n",
              "    .dataframe tbody tr th:only-of-type {\n",
              "        vertical-align: middle;\n",
              "    }\n",
              "\n",
              "    .dataframe tbody tr th {\n",
              "        vertical-align: top;\n",
              "    }\n",
              "\n",
              "    .dataframe thead th {\n",
              "        text-align: right;\n",
              "    }\n",
              "</style>\n",
              "<table border=\"1\" class=\"dataframe\">\n",
              "  <thead>\n",
              "    <tr style=\"text-align: right;\">\n",
              "      <th></th>\n",
              "      <th>Value</th>\n",
              "    </tr>\n",
              "    <tr>\n",
              "      <th>Date</th>\n",
              "      <th></th>\n",
              "    </tr>\n",
              "  </thead>\n",
              "  <tbody>\n",
              "    <tr>\n",
              "      <th>2021-06-07 00:00:25</th>\n",
              "      <td>31.860840</td>\n",
              "    </tr>\n",
              "    <tr>\n",
              "      <th>2021-06-07 00:00:35</th>\n",
              "      <td>31.960022</td>\n",
              "    </tr>\n",
              "    <tr>\n",
              "      <th>2021-06-07 00:00:55</th>\n",
              "      <td>31.960022</td>\n",
              "    </tr>\n",
              "    <tr>\n",
              "      <th>2021-06-07 00:00:56</th>\n",
              "      <td>31.860840</td>\n",
              "    </tr>\n",
              "    <tr>\n",
              "      <th>2021-06-07 00:01:06</th>\n",
              "      <td>31.960022</td>\n",
              "    </tr>\n",
              "    <tr>\n",
              "      <th>...</th>\n",
              "      <td>...</td>\n",
              "    </tr>\n",
              "    <tr>\n",
              "      <th>2021-06-11 23:58:30</th>\n",
              "      <td>36.385139</td>\n",
              "    </tr>\n",
              "    <tr>\n",
              "      <th>2021-06-11 23:58:50</th>\n",
              "      <td>36.285957</td>\n",
              "    </tr>\n",
              "    <tr>\n",
              "      <th>2021-06-11 23:59:10</th>\n",
              "      <td>36.285957</td>\n",
              "    </tr>\n",
              "    <tr>\n",
              "      <th>2021-06-11 23:59:22</th>\n",
              "      <td>36.182953</td>\n",
              "    </tr>\n",
              "    <tr>\n",
              "      <th>2021-06-11 23:59:42</th>\n",
              "      <td>36.182953</td>\n",
              "    </tr>\n",
              "  </tbody>\n",
              "</table>\n",
              "<p>29499 rows × 1 columns</p>\n",
              "</div>"
            ],
            "text/plain": [
              "                         Value\n",
              "Date                          \n",
              "2021-06-07 00:00:25  31.860840\n",
              "2021-06-07 00:00:35  31.960022\n",
              "2021-06-07 00:00:55  31.960022\n",
              "2021-06-07 00:00:56  31.860840\n",
              "2021-06-07 00:01:06  31.960022\n",
              "...                        ...\n",
              "2021-06-11 23:58:30  36.385139\n",
              "2021-06-11 23:58:50  36.285957\n",
              "2021-06-11 23:59:10  36.285957\n",
              "2021-06-11 23:59:22  36.182953\n",
              "2021-06-11 23:59:42  36.182953\n",
              "\n",
              "[29499 rows x 1 columns]"
            ]
          },
          "metadata": {},
          "execution_count": 618
        }
      ]
    },
    {
      "cell_type": "code",
      "metadata": {
        "colab": {
          "base_uri": "https://localhost:8080/"
        },
        "id": "i0wnn0SCjNJY",
        "outputId": "fcf490be-5993-4c03-deaa-4a9b47991651"
      },
      "source": [
        "index = pd.date_range('1/1/2019', periods=8, freq='T')\n",
        "series = pd.Series(range(8), index=index)\n",
        "series"
      ],
      "execution_count": 619,
      "outputs": [
        {
          "output_type": "execute_result",
          "data": {
            "text/plain": [
              "2019-01-01 00:00:00    0\n",
              "2019-01-01 00:01:00    1\n",
              "2019-01-01 00:02:00    2\n",
              "2019-01-01 00:03:00    3\n",
              "2019-01-01 00:04:00    4\n",
              "2019-01-01 00:05:00    5\n",
              "2019-01-01 00:06:00    6\n",
              "2019-01-01 00:07:00    7\n",
              "Freq: T, dtype: int64"
            ]
          },
          "metadata": {},
          "execution_count": 619
        }
      ]
    },
    {
      "cell_type": "code",
      "metadata": {
        "id": "8sWpLwEhjVlE"
      },
      "source": [
        "df3=df.resample(\"1s\").mean()"
      ],
      "execution_count": 620,
      "outputs": []
    },
    {
      "cell_type": "code",
      "metadata": {
        "colab": {
          "base_uri": "https://localhost:8080/",
          "height": 1000
        },
        "id": "7h5IIachjhz0",
        "outputId": "c43f99b7-a286-40f6-a7ae-50e82d0cc583"
      },
      "source": [
        "df3.head(30)"
      ],
      "execution_count": 621,
      "outputs": [
        {
          "output_type": "execute_result",
          "data": {
            "text/html": [
              "<div>\n",
              "<style scoped>\n",
              "    .dataframe tbody tr th:only-of-type {\n",
              "        vertical-align: middle;\n",
              "    }\n",
              "\n",
              "    .dataframe tbody tr th {\n",
              "        vertical-align: top;\n",
              "    }\n",
              "\n",
              "    .dataframe thead th {\n",
              "        text-align: right;\n",
              "    }\n",
              "</style>\n",
              "<table border=\"1\" class=\"dataframe\">\n",
              "  <thead>\n",
              "    <tr style=\"text-align: right;\">\n",
              "      <th></th>\n",
              "      <th>Value</th>\n",
              "    </tr>\n",
              "    <tr>\n",
              "      <th>Date</th>\n",
              "      <th></th>\n",
              "    </tr>\n",
              "  </thead>\n",
              "  <tbody>\n",
              "    <tr>\n",
              "      <th>2021-06-07 00:00:25</th>\n",
              "      <td>31.860840</td>\n",
              "    </tr>\n",
              "    <tr>\n",
              "      <th>2021-06-07 00:00:26</th>\n",
              "      <td>NaN</td>\n",
              "    </tr>\n",
              "    <tr>\n",
              "      <th>2021-06-07 00:00:27</th>\n",
              "      <td>NaN</td>\n",
              "    </tr>\n",
              "    <tr>\n",
              "      <th>2021-06-07 00:00:28</th>\n",
              "      <td>NaN</td>\n",
              "    </tr>\n",
              "    <tr>\n",
              "      <th>2021-06-07 00:00:29</th>\n",
              "      <td>NaN</td>\n",
              "    </tr>\n",
              "    <tr>\n",
              "      <th>2021-06-07 00:00:30</th>\n",
              "      <td>NaN</td>\n",
              "    </tr>\n",
              "    <tr>\n",
              "      <th>2021-06-07 00:00:31</th>\n",
              "      <td>NaN</td>\n",
              "    </tr>\n",
              "    <tr>\n",
              "      <th>2021-06-07 00:00:32</th>\n",
              "      <td>NaN</td>\n",
              "    </tr>\n",
              "    <tr>\n",
              "      <th>2021-06-07 00:00:33</th>\n",
              "      <td>NaN</td>\n",
              "    </tr>\n",
              "    <tr>\n",
              "      <th>2021-06-07 00:00:34</th>\n",
              "      <td>NaN</td>\n",
              "    </tr>\n",
              "    <tr>\n",
              "      <th>2021-06-07 00:00:35</th>\n",
              "      <td>31.960022</td>\n",
              "    </tr>\n",
              "    <tr>\n",
              "      <th>2021-06-07 00:00:36</th>\n",
              "      <td>NaN</td>\n",
              "    </tr>\n",
              "    <tr>\n",
              "      <th>2021-06-07 00:00:37</th>\n",
              "      <td>NaN</td>\n",
              "    </tr>\n",
              "    <tr>\n",
              "      <th>2021-06-07 00:00:38</th>\n",
              "      <td>NaN</td>\n",
              "    </tr>\n",
              "    <tr>\n",
              "      <th>2021-06-07 00:00:39</th>\n",
              "      <td>NaN</td>\n",
              "    </tr>\n",
              "    <tr>\n",
              "      <th>2021-06-07 00:00:40</th>\n",
              "      <td>NaN</td>\n",
              "    </tr>\n",
              "    <tr>\n",
              "      <th>2021-06-07 00:00:41</th>\n",
              "      <td>NaN</td>\n",
              "    </tr>\n",
              "    <tr>\n",
              "      <th>2021-06-07 00:00:42</th>\n",
              "      <td>NaN</td>\n",
              "    </tr>\n",
              "    <tr>\n",
              "      <th>2021-06-07 00:00:43</th>\n",
              "      <td>NaN</td>\n",
              "    </tr>\n",
              "    <tr>\n",
              "      <th>2021-06-07 00:00:44</th>\n",
              "      <td>NaN</td>\n",
              "    </tr>\n",
              "    <tr>\n",
              "      <th>2021-06-07 00:00:45</th>\n",
              "      <td>NaN</td>\n",
              "    </tr>\n",
              "    <tr>\n",
              "      <th>2021-06-07 00:00:46</th>\n",
              "      <td>NaN</td>\n",
              "    </tr>\n",
              "    <tr>\n",
              "      <th>2021-06-07 00:00:47</th>\n",
              "      <td>NaN</td>\n",
              "    </tr>\n",
              "    <tr>\n",
              "      <th>2021-06-07 00:00:48</th>\n",
              "      <td>NaN</td>\n",
              "    </tr>\n",
              "    <tr>\n",
              "      <th>2021-06-07 00:00:49</th>\n",
              "      <td>NaN</td>\n",
              "    </tr>\n",
              "    <tr>\n",
              "      <th>2021-06-07 00:00:50</th>\n",
              "      <td>NaN</td>\n",
              "    </tr>\n",
              "    <tr>\n",
              "      <th>2021-06-07 00:00:51</th>\n",
              "      <td>NaN</td>\n",
              "    </tr>\n",
              "    <tr>\n",
              "      <th>2021-06-07 00:00:52</th>\n",
              "      <td>NaN</td>\n",
              "    </tr>\n",
              "    <tr>\n",
              "      <th>2021-06-07 00:00:53</th>\n",
              "      <td>NaN</td>\n",
              "    </tr>\n",
              "    <tr>\n",
              "      <th>2021-06-07 00:00:54</th>\n",
              "      <td>NaN</td>\n",
              "    </tr>\n",
              "  </tbody>\n",
              "</table>\n",
              "</div>"
            ],
            "text/plain": [
              "                         Value\n",
              "Date                          \n",
              "2021-06-07 00:00:25  31.860840\n",
              "2021-06-07 00:00:26        NaN\n",
              "2021-06-07 00:00:27        NaN\n",
              "2021-06-07 00:00:28        NaN\n",
              "2021-06-07 00:00:29        NaN\n",
              "2021-06-07 00:00:30        NaN\n",
              "2021-06-07 00:00:31        NaN\n",
              "2021-06-07 00:00:32        NaN\n",
              "2021-06-07 00:00:33        NaN\n",
              "2021-06-07 00:00:34        NaN\n",
              "2021-06-07 00:00:35  31.960022\n",
              "2021-06-07 00:00:36        NaN\n",
              "2021-06-07 00:00:37        NaN\n",
              "2021-06-07 00:00:38        NaN\n",
              "2021-06-07 00:00:39        NaN\n",
              "2021-06-07 00:00:40        NaN\n",
              "2021-06-07 00:00:41        NaN\n",
              "2021-06-07 00:00:42        NaN\n",
              "2021-06-07 00:00:43        NaN\n",
              "2021-06-07 00:00:44        NaN\n",
              "2021-06-07 00:00:45        NaN\n",
              "2021-06-07 00:00:46        NaN\n",
              "2021-06-07 00:00:47        NaN\n",
              "2021-06-07 00:00:48        NaN\n",
              "2021-06-07 00:00:49        NaN\n",
              "2021-06-07 00:00:50        NaN\n",
              "2021-06-07 00:00:51        NaN\n",
              "2021-06-07 00:00:52        NaN\n",
              "2021-06-07 00:00:53        NaN\n",
              "2021-06-07 00:00:54        NaN"
            ]
          },
          "metadata": {},
          "execution_count": 621
        }
      ]
    },
    {
      "cell_type": "code",
      "metadata": {
        "id": "W3LSZgpbm40L"
      },
      "source": [
        "df3.interpolate('linear',inplace=True)"
      ],
      "execution_count": 622,
      "outputs": []
    },
    {
      "cell_type": "code",
      "metadata": {
        "colab": {
          "base_uri": "https://localhost:8080/",
          "height": 454
        },
        "id": "dbzCAsCsnCDm",
        "outputId": "9b9a50e2-3f12-441d-99f8-01abbfe30892"
      },
      "source": [
        "df3"
      ],
      "execution_count": 623,
      "outputs": [
        {
          "output_type": "execute_result",
          "data": {
            "text/html": [
              "<div>\n",
              "<style scoped>\n",
              "    .dataframe tbody tr th:only-of-type {\n",
              "        vertical-align: middle;\n",
              "    }\n",
              "\n",
              "    .dataframe tbody tr th {\n",
              "        vertical-align: top;\n",
              "    }\n",
              "\n",
              "    .dataframe thead th {\n",
              "        text-align: right;\n",
              "    }\n",
              "</style>\n",
              "<table border=\"1\" class=\"dataframe\">\n",
              "  <thead>\n",
              "    <tr style=\"text-align: right;\">\n",
              "      <th></th>\n",
              "      <th>Value</th>\n",
              "    </tr>\n",
              "    <tr>\n",
              "      <th>Date</th>\n",
              "      <th></th>\n",
              "    </tr>\n",
              "  </thead>\n",
              "  <tbody>\n",
              "    <tr>\n",
              "      <th>2021-06-07 00:00:25</th>\n",
              "      <td>31.860840</td>\n",
              "    </tr>\n",
              "    <tr>\n",
              "      <th>2021-06-07 00:00:26</th>\n",
              "      <td>31.870758</td>\n",
              "    </tr>\n",
              "    <tr>\n",
              "      <th>2021-06-07 00:00:27</th>\n",
              "      <td>31.880676</td>\n",
              "    </tr>\n",
              "    <tr>\n",
              "      <th>2021-06-07 00:00:28</th>\n",
              "      <td>31.890594</td>\n",
              "    </tr>\n",
              "    <tr>\n",
              "      <th>2021-06-07 00:00:29</th>\n",
              "      <td>31.900513</td>\n",
              "    </tr>\n",
              "    <tr>\n",
              "      <th>...</th>\n",
              "      <td>...</td>\n",
              "    </tr>\n",
              "    <tr>\n",
              "      <th>2021-06-11 23:59:38</th>\n",
              "      <td>36.182953</td>\n",
              "    </tr>\n",
              "    <tr>\n",
              "      <th>2021-06-11 23:59:39</th>\n",
              "      <td>36.182953</td>\n",
              "    </tr>\n",
              "    <tr>\n",
              "      <th>2021-06-11 23:59:40</th>\n",
              "      <td>36.182953</td>\n",
              "    </tr>\n",
              "    <tr>\n",
              "      <th>2021-06-11 23:59:41</th>\n",
              "      <td>36.182953</td>\n",
              "    </tr>\n",
              "    <tr>\n",
              "      <th>2021-06-11 23:59:42</th>\n",
              "      <td>36.182953</td>\n",
              "    </tr>\n",
              "  </tbody>\n",
              "</table>\n",
              "<p>431958 rows × 1 columns</p>\n",
              "</div>"
            ],
            "text/plain": [
              "                         Value\n",
              "Date                          \n",
              "2021-06-07 00:00:25  31.860840\n",
              "2021-06-07 00:00:26  31.870758\n",
              "2021-06-07 00:00:27  31.880676\n",
              "2021-06-07 00:00:28  31.890594\n",
              "2021-06-07 00:00:29  31.900513\n",
              "...                        ...\n",
              "2021-06-11 23:59:38  36.182953\n",
              "2021-06-11 23:59:39  36.182953\n",
              "2021-06-11 23:59:40  36.182953\n",
              "2021-06-11 23:59:41  36.182953\n",
              "2021-06-11 23:59:42  36.182953\n",
              "\n",
              "[431958 rows x 1 columns]"
            ]
          },
          "metadata": {},
          "execution_count": 623
        }
      ]
    },
    {
      "cell_type": "code",
      "metadata": {
        "colab": {
          "base_uri": "https://localhost:8080/",
          "height": 301
        },
        "id": "p1Z6oiSvoAcu",
        "outputId": "f2b0f9dd-e540-4285-f6f9-482e408197c4"
      },
      "source": [
        "df3.plot();"
      ],
      "execution_count": 624,
      "outputs": [
        {
          "output_type": "display_data",
          "data": {
            "image/png": "[encoded data removed]",
            "text/plain": [
              "<Figure size 432x288 with 1 Axes>"
            ]
          },
          "metadata": {
            "needs_background": "light"
          }
        }
      ]
    },
    {
      "cell_type": "code",
      "metadata": {
        "colab": {
          "base_uri": "https://localhost:8080/"
        },
        "id": "2TTb4hhuuDBP",
        "outputId": "d9dd5b76-3352-43af-fa83-f0132c520a18"
      },
      "source": [
        "tabs = pd.ExcelFile(fname).sheet_names \n",
        "print(tabs)"
      ],
      "execution_count": 625,
      "outputs": [
        {
          "output_type": "stream",
          "name": "stdout",
          "text": [
            "['AS_P113B', 'AS_PH113', 'AS_T113F', 'AS_T1131', 'AS_T1132', 'AS_T1133', 'AS_T1134', 'AS_T1135']\n"
          ]
        }
      ]
    },
    {
      "cell_type": "code",
      "metadata": {
        "id": "zNadyJKAxbVg"
      },
      "source": [
        "def get_data1s(fname,sheet_name):\n",
        "    import pandas as pd\n",
        "    df=pd.read_excel(fname,sheet_name=sheet_name)\n",
        "    df.columns=[\"Date\",\"Value\",\"Status\"]\n",
        "    bad_data=df[df[\"Status\"]==\"Bad Data\"].index\n",
        "    df.drop(index=bad_data,inplace=True)\n",
        "    df.dropna(inplace=True)\n",
        "    df.index=df.Date\n",
        "    df.set_index(\"Date\",inplace=True)\n",
        "    df.drop(columns=[\"Status\"], inplace=True)\n",
        "    dfout=df.resample(\"1s\").mean()\n",
        "    dfout.interpolate('linear',inplace=True)\n",
        "    dfout=dfout.resample(\"10s\").mean()\n",
        "\n",
        "    return(dfout)\n",
        "\n"
      ],
      "execution_count": 626,
      "outputs": []
    },
    {
      "cell_type": "code",
      "metadata": {
        "id": "D9vLTfCfB06A"
      },
      "source": [
        ""
      ],
      "execution_count": 626,
      "outputs": []
    },
    {
      "cell_type": "code",
      "metadata": {
        "id": "SAYE8TEM2eGh"
      },
      "source": [
        ""
      ],
      "execution_count": 626,
      "outputs": []
    },
    {
      "cell_type": "code",
      "metadata": {
        "id": "dPYKBqog3HJe"
      },
      "source": [
        "df0=get_data1s(fname,tabs[0])"
      ],
      "execution_count": null,
      "outputs": []
    },
    {
      "cell_type": "code",
      "metadata": {
        "id": "EFxK1IQF3RCL"
      },
      "source": [
        "df0.plot();"
      ],
      "execution_count": null,
      "outputs": []
    },
    {
      "cell_type": "code",
      "metadata": {
        "id": "qWsmr8k02hz-"
      },
      "source": [
        "df1=get_data1s(fname,tabs[1])"
      ],
      "execution_count": null,
      "outputs": []
    },
    {
      "cell_type": "code",
      "metadata": {
        "id": "zcCMJdmV0VHM"
      },
      "source": [
        "df1.plot();"
      ],
      "execution_count": null,
      "outputs": []
    },
    {
      "cell_type": "code",
      "metadata": {
        "id": "VnKPBpJHzFGP"
      },
      "source": [
        "df2=get_data1s(fname,tabs[2])"
      ],
      "execution_count": null,
      "outputs": []
    },
    {
      "cell_type": "code",
      "metadata": {
        "id": "sYkzwV7U4Haq"
      },
      "source": [
        "df2.plot()"
      ],
      "execution_count": null,
      "outputs": []
    },
    {
      "cell_type": "code",
      "metadata": {
        "id": "czN2wT5KKy0r"
      },
      "source": [
        ""
      ],
      "execution_count": null,
      "outputs": []
    },
    {
      "cell_type": "code",
      "metadata": {
        "id": "kf7hMC9uKzDv"
      },
      "source": [
        "df3=get_data1s(fname,tabs[3])"
      ],
      "execution_count": null,
      "outputs": []
    },
    {
      "cell_type": "code",
      "metadata": {
        "id": "lIoAlTgmKzDv"
      },
      "source": [
        "df3.plot()"
      ],
      "execution_count": null,
      "outputs": []
    },
    {
      "cell_type": "code",
      "metadata": {
        "id": "Kc_qFG8f55eS"
      },
      "source": [
        "def df_list(fname,tabs):\n",
        "    out_df_list=[]\n",
        "    for tabx in tabs:\n",
        "        dftab=get_data1s(fname,tabx)\n",
        "        dftab.plot()\n",
        "        out_df_list.append(dftab)\n",
        "    return out_df_list "
      ],
      "execution_count": null,
      "outputs": []
    },
    {
      "cell_type": "code",
      "metadata": {
        "id": "ltcXpBYWLYsC"
      },
      "source": [
        "all_df=df_list(fname,tabs)"
      ],
      "execution_count": null,
      "outputs": []
    },
    {
      "cell_type": "code",
      "metadata": {
        "id": "RBtHagV229aO"
      },
      "source": [
        "def df_concat(dflist,df_heads):\n",
        "    for index,name in enumerate(df_heads):\n",
        "        dflist[index].columns=[name]\n",
        "    out_df=pd.concat(dflist,axis=1)\n",
        "    #out_df.head=df_heads\n",
        "    out_df.dropna(inplace=True)\n",
        "    return(out_df)"
      ],
      "execution_count": null,
      "outputs": []
    },
    {
      "cell_type": "code",
      "metadata": {
        "id": "UncVY97aKhyN"
      },
      "source": [
        "\n",
        "\n",
        "allDF=df_concat(all_df,tabs)"
      ],
      "execution_count": null,
      "outputs": []
    },
    {
      "cell_type": "code",
      "metadata": {
        "id": "S_7j7jJ7PCvR"
      },
      "source": [
        "all_df[0].head()"
      ],
      "execution_count": null,
      "outputs": []
    },
    {
      "cell_type": "code",
      "metadata": {
        "id": "Qn9Qwk0fNRBd"
      },
      "source": [
        "allDF.head()"
      ],
      "execution_count": null,
      "outputs": []
    },
    {
      "cell_type": "code",
      "metadata": {
        "id": "5Sb1mPjdSulb"
      },
      "source": [
        "allDF.to_csv(\"20210621.csv\",sep=\";\")"
      ],
      "execution_count": null,
      "outputs": []
    },
    {
      "cell_type": "code",
      "metadata": {
        "id": "nhJeAYX0VzpZ"
      },
      "source": [
        "allDF.describe()"
      ],
      "execution_count": null,
      "outputs": []
    },
    {
      "cell_type": "code",
      "metadata": {
        "id": "gKa7uLRGW0y-"
      },
      "source": [
        "# Készítsünk egy scatter plotot!\n",
        "from pandas.plotting import scatter_matrix\n",
        "\n",
        "#scatter_matrix(allDF, alpha = 0.2, figsize = (10, 10), diagonal = 'kde');"
      ],
      "execution_count": null,
      "outputs": []
    },
    {
      "cell_type": "code",
      "metadata": {
        "id": "EejxeR-UCd6t"
      },
      "source": [
        "allDF.head()"
      ],
      "execution_count": null,
      "outputs": []
    },
    {
      "cell_type": "code",
      "metadata": {
        "id": "yja1NrdHNK0Y"
      },
      "source": [
        "l1=allDF[\"AS_T1134\"] >175\n",
        "aa=allDF.loc[l1]"
      ],
      "execution_count": null,
      "outputs": []
    },
    {
      "cell_type": "code",
      "metadata": {
        "id": "WRGPO1a-N3_C"
      },
      "source": [
        "aa.index[-1]"
      ],
      "execution_count": null,
      "outputs": []
    },
    {
      "cell_type": "code",
      "metadata": {
        "id": "tyVrSXpCgAe2"
      },
      "source": [
        "start_time =aa.index[0]    #pd.Timestamp(\"2021-07-06 00:00:00\")\n",
        "end_time   =aa.index[-1]   #pd.Timestamp(\"2021-07-09 00:00:00\")\n",
        "print(allDF.loc[start_time])\n",
        "print(\"-\"*30)\n",
        "print(allDF.loc[end_time])"
      ],
      "execution_count": null,
      "outputs": []
    },
    {
      "cell_type": "code",
      "metadata": {
        "id": "OSWJ5VizfT6O"
      },
      "source": [
        "allDF.tail()\n"
      ],
      "execution_count": null,
      "outputs": []
    },
    {
      "cell_type": "code",
      "metadata": {
        "id": "ciw_70Hq6_WL"
      },
      "source": [
        "actual_df = allDF[\n",
        "    (allDF.index > start_time ) &\n",
        "    (allDF.index < end_time)\n",
        "]"
      ],
      "execution_count": null,
      "outputs": []
    },
    {
      "cell_type": "code",
      "metadata": {
        "id": "-vdtBAxo5z2c"
      },
      "source": [
        "actual_df.head()"
      ],
      "execution_count": null,
      "outputs": []
    },
    {
      "cell_type": "code",
      "metadata": {
        "id": "r5ymqeMeRkR_"
      },
      "source": [
        "actual_df.describe()"
      ],
      "execution_count": null,
      "outputs": []
    },
    {
      "cell_type": "code",
      "metadata": {
        "id": "liDPYTwn7zam"
      },
      "source": [
        "\n",
        "#scatter_matrix(actual_df, alpha = 0.2, figsize = (10, 10), diagonal = 'kde');"
      ],
      "execution_count": null,
      "outputs": []
    },
    {
      "cell_type": "code",
      "metadata": {
        "id": "3uLqeI_Y_uTq"
      },
      "source": [
        "import pandas as pd\n",
        "import matplotlib.pyplot as plt\n",
        "import statsmodels.api as sm\n",
        "dta = actual_df.AS_P113B[:]\n",
        "dta.index = actual_df.index[:]\n",
        "\n",
        "\n",
        "sm.graphics.tsa.plot_acf(dta.values.squeeze(), lags=200)\n",
        "plt.show()"
      ],
      "execution_count": null,
      "outputs": []
    },
    {
      "cell_type": "code",
      "metadata": {
        "id": "bNdMRphMBgyV"
      },
      "source": [
        "dta = actual_df.AS_PH113[:]\n",
        "dta.index = actual_df.index[:]\n",
        "\n",
        "\n",
        "sm.graphics.tsa.plot_acf(dta.values.squeeze(), lags=2000)\n",
        "plt.show()"
      ],
      "execution_count": null,
      "outputs": []
    },
    {
      "cell_type": "code",
      "metadata": {
        "id": "oGVNYQ4oEdbW"
      },
      "source": [
        "features=tabs\n",
        "from sklearn.preprocessing import StandardScaler\n",
        "x = dta = actual_df.loc[:, features].values\n",
        "x = StandardScaler().fit_transform(x) # normalizing the features"
      ],
      "execution_count": null,
      "outputs": []
    },
    {
      "cell_type": "code",
      "metadata": {
        "id": "4Y04Bm3wExDs"
      },
      "source": [
        "x"
      ],
      "execution_count": null,
      "outputs": []
    },
    {
      "cell_type": "code",
      "metadata": {
        "id": "lXlrnGjQE5qE"
      },
      "source": [
        "from sklearn.decomposition import PCA\n",
        "pca_113 = PCA(n_components=2)\n",
        "principal113 = pca_113.fit_transform(x)"
      ],
      "execution_count": null,
      "outputs": []
    },
    {
      "cell_type": "code",
      "metadata": {
        "id": "cKheygvUFbns"
      },
      "source": [
        "principal113"
      ],
      "execution_count": null,
      "outputs": []
    },
    {
      "cell_type": "code",
      "metadata": {
        "id": "izE_q2cpFPSv"
      },
      "source": [
        "plt.figure()\n",
        "plt.figure(figsize=(10,10))\n",
        "plt.xticks(fontsize=12)\n",
        "plt.yticks(fontsize=14)\n",
        "plt.xlabel('Principal Component - 1',fontsize=20)\n",
        "plt.ylabel('Principal Component - 2',fontsize=20)\n",
        "plt.title(\"Principal Component Analysis of reactor 113\",fontsize=20)\n",
        "targets = ['P1', 'P2']\n",
        "colors = x[:,1]\n",
        "color = actual_df.loc[:, \"AS_PH113\"].values\n",
        "plt.scatter(principal113[:,0],principal113[:,1] , c = color, s = 1,)\n",
        "plt.colorbar()\n",
        "plt.legend(targets,prop={'size': 20})"
      ],
      "execution_count": null,
      "outputs": []
    },
    {
      "cell_type": "code",
      "metadata": {
        "id": "_HucwXNZc8C6"
      },
      "source": [
        "pca_113.components_"
      ],
      "execution_count": null,
      "outputs": []
    },
    {
      "cell_type": "markdown",
      "metadata": {
        "id": "wlIbxuHzd19j"
      },
      "source": [
        "array([[ 0.01670607,  0.05312135, -0.40868632, -0.44066814, -0.42976667,\n",
        "        -0.43431946, -0.4122653 , -0.3039583 ],\n",
        "       [ 0.21560599, -0.70138045,  0.17989372, -0.16032836, -0.24443999,\n",
        "        -0.22447836,  0.00337312,  0.54162695]])"
      ]
    },
    {
      "cell_type": "code",
      "metadata": {
        "id": "c0oucQyJQcwk"
      },
      "source": [
        "print(pca_113)"
      ],
      "execution_count": null,
      "outputs": []
    },
    {
      "cell_type": "code",
      "metadata": {
        "id": "gElw9x9yrhDg"
      },
      "source": [
        "actual_df.plot()"
      ],
      "execution_count": null,
      "outputs": []
    },
    {
      "cell_type": "code",
      "metadata": {
        "id": "TjqZuiMYsUi2"
      },
      "source": [
        "actual_df.AS_PH113.plot()"
      ],
      "execution_count": null,
      "outputs": []
    },
    {
      "cell_type": "code",
      "metadata": {
        "id": "1Ulv2XzWWFkq"
      },
      "source": [
        "from sklearn.cluster import DBSCAN\n",
        "from sklearn import metrics\n",
        "from sklearn.datasets import make_blobs\n",
        "from sklearn.preprocessing import StandardScaler\n"
      ],
      "execution_count": null,
      "outputs": []
    },
    {
      "cell_type": "code",
      "metadata": {
        "id": "7gTo51g-WN-5"
      },
      "source": [
        "db=DBSCAN(eps=0.4,).fit(x)"
      ],
      "execution_count": null,
      "outputs": []
    },
    {
      "cell_type": "code",
      "metadata": {
        "id": "LHaovpeHXj7T"
      },
      "source": [
        "print(db.labels_)\n",
        "print(max(db.labels_))"
      ],
      "execution_count": null,
      "outputs": []
    },
    {
      "cell_type": "code",
      "metadata": {
        "id": "dRZvJzRIhtkD"
      },
      "source": [
        "!rm alma*"
      ],
      "execution_count": null,
      "outputs": []
    },
    {
      "cell_type": "code",
      "metadata": {
        "id": "Rut2bUUuX0QF"
      },
      "source": [
        "\n",
        "fig=plt.figure(figsize=(20,10))\n",
        "plt.xticks(fontsize=12)\n",
        "plt.yticks(fontsize=14)\n",
        "plt.xlabel('Principal Component - 1',fontsize=20)\n",
        "plt.ylabel('Principal Component - 2',fontsize=20)\n",
        "plt.title(\"Principal Component Analysis of reactor 113\",fontsize=20)\n",
        "targets = ['P1', 'P2']\n",
        "colors = x[:,1]\n",
        "color = db.labels_\n",
        "plt.scatter(principal113[:,0],principal113[:,1] , c = color, s = 18,alpha=0.5,marker=\"o\",)\n",
        "plt.colorbar()\n",
        "plt.legend(targets,prop={'size': 20})\n",
        "plt.show()\n",
        "fig.savefig(fname+\".png\")"
      ],
      "execution_count": null,
      "outputs": []
    }
  ]
}