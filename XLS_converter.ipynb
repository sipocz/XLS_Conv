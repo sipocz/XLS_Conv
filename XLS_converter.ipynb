{
  "nbformat": 4,
  "nbformat_minor": 0,
  "metadata": {
    "colab": {
      "name": "XLS_converter.ipynb",
      "provenance": [],
      "authorship_tag": "ABX9TyOHIUtvzRUnmXALOjy43aOS",
      "include_colab_link": true
    },
    "kernelspec": {
      "name": "python3",
      "display_name": "Python 3"
    },
    "language_info": {
      "name": "python"
    }
  },
  "cells": [
    {
      "cell_type": "markdown",
      "metadata": {
        "id": "view-in-github",
        "colab_type": "text"
      },
      "source": [
        "<a href=\"https://colab.research.google.com/github/sipocz/XLS_Conv/blob/main/XLS_converter.ipynb\" target=\"_parent\"><img src=\"https://colab.research.google.com/assets/colab-badge.svg\" alt=\"Open In Colab\"/></a>"
      ]
    },
    {
      "cell_type": "code",
      "metadata": {
        "id": "nauIEJwU_0eR"
      },
      "source": [
        "import pandas as pd\n",
        "import os"
      ],
      "execution_count": 127,
      "outputs": []
    },
    {
      "cell_type": "code",
      "metadata": {
        "id": "B8dCwSpAAp77"
      },
      "source": [
        "!rm *.xlsx*"
      ],
      "execution_count": 128,
      "outputs": []
    },
    {
      "cell_type": "code",
      "metadata": {
        "id": "15mhY8XZAZsY"
      },
      "source": [
        "urlname=\"https://github.com/sipocz/XLS_Conv/raw/main/U113_20210621.xlsx\"\n",
        "_,fname= os.path.split(urlname)"
      ],
      "execution_count": 129,
      "outputs": []
    },
    {
      "cell_type": "code",
      "metadata": {
        "id": "n_BQX4J-B165"
      },
      "source": [
        ""
      ],
      "execution_count": 129,
      "outputs": []
    },
    {
      "cell_type": "code",
      "metadata": {
        "colab": {
          "base_uri": "https://localhost:8080/"
        },
        "id": "h6RS-a75_8u5",
        "outputId": "b4c70388-64ff-4395-d72f-fbd718e6ec23"
      },
      "source": [
        "!wget $urlname"
      ],
      "execution_count": 130,
      "outputs": [
        {
          "output_type": "stream",
          "name": "stdout",
          "text": [
            "--2021-09-25 15:48:11--  https://github.com/sipocz/XLS_Conv/raw/main/U113_20210621.xlsx\n",
            "Resolving github.com (github.com)... 140.82.114.3\n",
            "Connecting to github.com (github.com)|140.82.114.3|:443... connected.\n",
            "HTTP request sent, awaiting response... 302 Found\n",
            "Location: https://raw.githubusercontent.com/sipocz/XLS_Conv/main/U113_20210621.xlsx [following]\n",
            "--2021-09-25 15:48:11--  https://raw.githubusercontent.com/sipocz/XLS_Conv/main/U113_20210621.xlsx\n",
            "Resolving raw.githubusercontent.com (raw.githubusercontent.com)... 185.199.108.133, 185.199.109.133, 185.199.110.133, ...\n",
            "Connecting to raw.githubusercontent.com (raw.githubusercontent.com)|185.199.108.133|:443... connected.\n",
            "HTTP request sent, awaiting response... 200 OK\n",
            "Length: 5550077 (5.3M) [application/octet-stream]\n",
            "Saving to: ‘U113_20210621.xlsx’\n",
            "\n",
            "U113_20210621.xlsx  100%[===================>]   5.29M  --.-KB/s    in 0.06s   \n",
            "\n",
            "2021-09-25 15:48:11 (83.3 MB/s) - ‘U113_20210621.xlsx’ saved [5550077/5550077]\n",
            "\n"
          ]
        }
      ]
    },
    {
      "cell_type": "code",
      "metadata": {
        "id": "DxqdvnRkARhK"
      },
      "source": [
        "df=pd.read_excel(fname,sheet_name=3)"
      ],
      "execution_count": 131,
      "outputs": []
    },
    {
      "cell_type": "code",
      "metadata": {
        "id": "bwxlDg1yEPOf"
      },
      "source": [
        "df.columns=[\"Date\",\"Value\",\"Status\"]"
      ],
      "execution_count": 132,
      "outputs": []
    },
    {
      "cell_type": "code",
      "metadata": {
        "colab": {
          "base_uri": "https://localhost:8080/",
          "height": 205
        },
        "id": "NRFMv3-vB_8r",
        "outputId": "04756b10-37f8-42f1-e82e-7eea60834b65"
      },
      "source": [
        "df.tail()"
      ],
      "execution_count": 133,
      "outputs": [
        {
          "output_type": "execute_result",
          "data": {
            "text/html": [
              "<div>\n",
              "<style scoped>\n",
              "    .dataframe tbody tr th:only-of-type {\n",
              "        vertical-align: middle;\n",
              "    }\n",
              "\n",
              "    .dataframe tbody tr th {\n",
              "        vertical-align: top;\n",
              "    }\n",
              "\n",
              "    .dataframe thead th {\n",
              "        text-align: right;\n",
              "    }\n",
              "</style>\n",
              "<table border=\"1\" class=\"dataframe\">\n",
              "  <thead>\n",
              "    <tr style=\"text-align: right;\">\n",
              "      <th></th>\n",
              "      <th>Date</th>\n",
              "      <th>Value</th>\n",
              "      <th>Status</th>\n",
              "    </tr>\n",
              "  </thead>\n",
              "  <tbody>\n",
              "    <tr>\n",
              "      <th>29168</th>\n",
              "      <td>2021-06-25 23:59:00</td>\n",
              "      <td>33.093002</td>\n",
              "      <td>OK</td>\n",
              "    </tr>\n",
              "    <tr>\n",
              "      <th>29169</th>\n",
              "      <td>2021-06-25 23:59:20</td>\n",
              "      <td>33.093002</td>\n",
              "      <td>OK</td>\n",
              "    </tr>\n",
              "    <tr>\n",
              "      <th>29170</th>\n",
              "      <td>2021-06-25 23:59:30</td>\n",
              "      <td>32.993820</td>\n",
              "      <td>OK</td>\n",
              "    </tr>\n",
              "    <tr>\n",
              "      <th>29171</th>\n",
              "      <td>2021-06-25 23:59:50</td>\n",
              "      <td>32.993820</td>\n",
              "      <td>OK</td>\n",
              "    </tr>\n",
              "    <tr>\n",
              "      <th>29172</th>\n",
              "      <td>True</td>\n",
              "      <td>NaN</td>\n",
              "      <td>NaN</td>\n",
              "    </tr>\n",
              "  </tbody>\n",
              "</table>\n",
              "</div>"
            ],
            "text/plain": [
              "                      Date      Value Status\n",
              "29168  2021-06-25 23:59:00  33.093002     OK\n",
              "29169  2021-06-25 23:59:20  33.093002     OK\n",
              "29170  2021-06-25 23:59:30  32.993820     OK\n",
              "29171  2021-06-25 23:59:50  32.993820     OK\n",
              "29172                 True        NaN    NaN"
            ]
          },
          "metadata": {},
          "execution_count": 133
        }
      ]
    },
    {
      "cell_type": "code",
      "metadata": {
        "id": "flflyrJKd_kl"
      },
      "source": [
        "df.dropna(inplace=True)"
      ],
      "execution_count": 134,
      "outputs": []
    },
    {
      "cell_type": "code",
      "metadata": {
        "colab": {
          "base_uri": "https://localhost:8080/"
        },
        "id": "YXNURyA3IwDn",
        "outputId": "61c3a1c8-f96d-44fa-9445-a8795b711516"
      },
      "source": [
        "df.Date[0]"
      ],
      "execution_count": 135,
      "outputs": [
        {
          "output_type": "execute_result",
          "data": {
            "text/plain": [
              "datetime.datetime(2021, 6, 21, 0, 0, 22)"
            ]
          },
          "metadata": {},
          "execution_count": 135
        }
      ]
    },
    {
      "cell_type": "code",
      "metadata": {
        "id": "jy1NKgXLGhlE"
      },
      "source": [
        "#pd.to_datetime(df.Date, format=\"%Y-%m-%d %H:%M:%S\")"
      ],
      "execution_count": 136,
      "outputs": []
    },
    {
      "cell_type": "code",
      "metadata": {
        "id": "SoIxMQbXKo04"
      },
      "source": [
        "df.index=df.Date"
      ],
      "execution_count": 137,
      "outputs": []
    },
    {
      "cell_type": "code",
      "metadata": {
        "colab": {
          "base_uri": "https://localhost:8080/",
          "height": 299
        },
        "id": "5aZE66prEU5r",
        "outputId": "94cdf49d-99d9-435e-e23d-7b40d4b8bff2"
      },
      "source": [
        "df.describe()"
      ],
      "execution_count": 138,
      "outputs": [
        {
          "output_type": "execute_result",
          "data": {
            "text/html": [
              "<div>\n",
              "<style scoped>\n",
              "    .dataframe tbody tr th:only-of-type {\n",
              "        vertical-align: middle;\n",
              "    }\n",
              "\n",
              "    .dataframe tbody tr th {\n",
              "        vertical-align: top;\n",
              "    }\n",
              "\n",
              "    .dataframe thead th {\n",
              "        text-align: right;\n",
              "    }\n",
              "</style>\n",
              "<table border=\"1\" class=\"dataframe\">\n",
              "  <thead>\n",
              "    <tr style=\"text-align: right;\">\n",
              "      <th></th>\n",
              "      <th>Value</th>\n",
              "    </tr>\n",
              "  </thead>\n",
              "  <tbody>\n",
              "    <tr>\n",
              "      <th>count</th>\n",
              "      <td>29172.000000</td>\n",
              "    </tr>\n",
              "    <tr>\n",
              "      <th>mean</th>\n",
              "      <td>61.818723</td>\n",
              "    </tr>\n",
              "    <tr>\n",
              "      <th>std</th>\n",
              "      <td>24.257954</td>\n",
              "    </tr>\n",
              "    <tr>\n",
              "      <th>min</th>\n",
              "      <td>-50.000000</td>\n",
              "    </tr>\n",
              "    <tr>\n",
              "      <th>25%</th>\n",
              "      <td>69.741356</td>\n",
              "    </tr>\n",
              "    <tr>\n",
              "      <th>50%</th>\n",
              "      <td>70.767532</td>\n",
              "    </tr>\n",
              "    <tr>\n",
              "      <th>75%</th>\n",
              "      <td>72.743568</td>\n",
              "    </tr>\n",
              "    <tr>\n",
              "      <th>max</th>\n",
              "      <td>200.000000</td>\n",
              "    </tr>\n",
              "  </tbody>\n",
              "</table>\n",
              "</div>"
            ],
            "text/plain": [
              "              Value\n",
              "count  29172.000000\n",
              "mean      61.818723\n",
              "std       24.257954\n",
              "min      -50.000000\n",
              "25%       69.741356\n",
              "50%       70.767532\n",
              "75%       72.743568\n",
              "max      200.000000"
            ]
          },
          "metadata": {},
          "execution_count": 138
        }
      ]
    },
    {
      "cell_type": "code",
      "metadata": {
        "colab": {
          "base_uri": "https://localhost:8080/"
        },
        "id": "piAkz2k_JMyZ",
        "outputId": "d4724778-856b-4811-cb09-60aa8fc6ac0c"
      },
      "source": [
        "df.Date.values[-1]"
      ],
      "execution_count": 139,
      "outputs": [
        {
          "output_type": "execute_result",
          "data": {
            "text/plain": [
              "datetime.datetime(2021, 6, 25, 23, 59, 50)"
            ]
          },
          "metadata": {},
          "execution_count": 139
        }
      ]
    },
    {
      "cell_type": "code",
      "metadata": {
        "id": "8FK7nslyEh2l"
      },
      "source": [
        "new_range = pd.date_range(df.Date.values[0], df.Date.values[-2], freq='10S')"
      ],
      "execution_count": 140,
      "outputs": []
    },
    {
      "cell_type": "code",
      "metadata": {
        "colab": {
          "base_uri": "https://localhost:8080/"
        },
        "id": "mZtEs6KhK3GX",
        "outputId": "69518a1e-312f-43c7-ff53-96b06d8749e5"
      },
      "source": [
        "new_range"
      ],
      "execution_count": 141,
      "outputs": [
        {
          "output_type": "execute_result",
          "data": {
            "text/plain": [
              "DatetimeIndex(['2021-06-21 00:00:22', '2021-06-21 00:00:32',\n",
              "               '2021-06-21 00:00:42', '2021-06-21 00:00:52',\n",
              "               '2021-06-21 00:01:02', '2021-06-21 00:01:12',\n",
              "               '2021-06-21 00:01:22', '2021-06-21 00:01:32',\n",
              "               '2021-06-21 00:01:42', '2021-06-21 00:01:52',\n",
              "               ...\n",
              "               '2021-06-25 23:57:52', '2021-06-25 23:58:02',\n",
              "               '2021-06-25 23:58:12', '2021-06-25 23:58:22',\n",
              "               '2021-06-25 23:58:32', '2021-06-25 23:58:42',\n",
              "               '2021-06-25 23:58:52', '2021-06-25 23:59:02',\n",
              "               '2021-06-25 23:59:12', '2021-06-25 23:59:22'],\n",
              "              dtype='datetime64[ns]', length=43195, freq='10S')"
            ]
          },
          "metadata": {},
          "execution_count": 141
        }
      ]
    },
    {
      "cell_type": "code",
      "metadata": {
        "colab": {
          "base_uri": "https://localhost:8080/"
        },
        "id": "mKFMoS2iOWIw",
        "outputId": "8a19da77-224c-4277-e928-3917b750c696"
      },
      "source": [
        "type(df)"
      ],
      "execution_count": 142,
      "outputs": [
        {
          "output_type": "execute_result",
          "data": {
            "text/plain": [
              "pandas.core.frame.DataFrame"
            ]
          },
          "metadata": {},
          "execution_count": 142
        }
      ]
    },
    {
      "cell_type": "code",
      "metadata": {
        "id": "tLr_xFnDLnKk"
      },
      "source": [
        "df.set_index(\"Date\",inplace=True)"
      ],
      "execution_count": 143,
      "outputs": []
    },
    {
      "cell_type": "code",
      "metadata": {
        "colab": {
          "base_uri": "https://localhost:8080/",
          "height": 236
        },
        "id": "PBw3z1UxTZnT",
        "outputId": "d5368457-5d77-4eb4-a98c-bf324ec60331"
      },
      "source": [
        "df.head()"
      ],
      "execution_count": 144,
      "outputs": [
        {
          "output_type": "execute_result",
          "data": {
            "text/html": [
              "<div>\n",
              "<style scoped>\n",
              "    .dataframe tbody tr th:only-of-type {\n",
              "        vertical-align: middle;\n",
              "    }\n",
              "\n",
              "    .dataframe tbody tr th {\n",
              "        vertical-align: top;\n",
              "    }\n",
              "\n",
              "    .dataframe thead th {\n",
              "        text-align: right;\n",
              "    }\n",
              "</style>\n",
              "<table border=\"1\" class=\"dataframe\">\n",
              "  <thead>\n",
              "    <tr style=\"text-align: right;\">\n",
              "      <th></th>\n",
              "      <th>Value</th>\n",
              "      <th>Status</th>\n",
              "    </tr>\n",
              "    <tr>\n",
              "      <th>Date</th>\n",
              "      <th></th>\n",
              "      <th></th>\n",
              "    </tr>\n",
              "  </thead>\n",
              "  <tbody>\n",
              "    <tr>\n",
              "      <th>2021-06-21 00:00:22</th>\n",
              "      <td>-50.0</td>\n",
              "      <td>Bad Data</td>\n",
              "    </tr>\n",
              "    <tr>\n",
              "      <th>2021-06-21 00:00:42</th>\n",
              "      <td>-50.0</td>\n",
              "      <td>Bad Data</td>\n",
              "    </tr>\n",
              "    <tr>\n",
              "      <th>2021-06-21 00:01:02</th>\n",
              "      <td>-50.0</td>\n",
              "      <td>Bad Data</td>\n",
              "    </tr>\n",
              "    <tr>\n",
              "      <th>2021-06-21 00:01:22</th>\n",
              "      <td>-50.0</td>\n",
              "      <td>Bad Data</td>\n",
              "    </tr>\n",
              "    <tr>\n",
              "      <th>2021-06-21 00:01:42</th>\n",
              "      <td>-50.0</td>\n",
              "      <td>Bad Data</td>\n",
              "    </tr>\n",
              "  </tbody>\n",
              "</table>\n",
              "</div>"
            ],
            "text/plain": [
              "                     Value    Status\n",
              "Date                                \n",
              "2021-06-21 00:00:22  -50.0  Bad Data\n",
              "2021-06-21 00:00:42  -50.0  Bad Data\n",
              "2021-06-21 00:01:02  -50.0  Bad Data\n",
              "2021-06-21 00:01:22  -50.0  Bad Data\n",
              "2021-06-21 00:01:42  -50.0  Bad Data"
            ]
          },
          "metadata": {},
          "execution_count": 144
        }
      ]
    },
    {
      "cell_type": "code",
      "metadata": {
        "id": "9lNusBvkdZHL"
      },
      "source": [
        ""
      ],
      "execution_count": 144,
      "outputs": []
    },
    {
      "cell_type": "code",
      "metadata": {
        "id": "OKD0EMhmPCa6"
      },
      "source": [
        ""
      ],
      "execution_count": 144,
      "outputs": []
    },
    {
      "cell_type": "code",
      "metadata": {
        "colab": {
          "base_uri": "https://localhost:8080/",
          "height": 236
        },
        "id": "QuikGNIpMW0j",
        "outputId": "d5fd22dd-676f-4548-962b-22ef850e02ea"
      },
      "source": [
        "df.head()"
      ],
      "execution_count": 145,
      "outputs": [
        {
          "output_type": "execute_result",
          "data": {
            "text/html": [
              "<div>\n",
              "<style scoped>\n",
              "    .dataframe tbody tr th:only-of-type {\n",
              "        vertical-align: middle;\n",
              "    }\n",
              "\n",
              "    .dataframe tbody tr th {\n",
              "        vertical-align: top;\n",
              "    }\n",
              "\n",
              "    .dataframe thead th {\n",
              "        text-align: right;\n",
              "    }\n",
              "</style>\n",
              "<table border=\"1\" class=\"dataframe\">\n",
              "  <thead>\n",
              "    <tr style=\"text-align: right;\">\n",
              "      <th></th>\n",
              "      <th>Value</th>\n",
              "      <th>Status</th>\n",
              "    </tr>\n",
              "    <tr>\n",
              "      <th>Date</th>\n",
              "      <th></th>\n",
              "      <th></th>\n",
              "    </tr>\n",
              "  </thead>\n",
              "  <tbody>\n",
              "    <tr>\n",
              "      <th>2021-06-21 00:00:22</th>\n",
              "      <td>-50.0</td>\n",
              "      <td>Bad Data</td>\n",
              "    </tr>\n",
              "    <tr>\n",
              "      <th>2021-06-21 00:00:42</th>\n",
              "      <td>-50.0</td>\n",
              "      <td>Bad Data</td>\n",
              "    </tr>\n",
              "    <tr>\n",
              "      <th>2021-06-21 00:01:02</th>\n",
              "      <td>-50.0</td>\n",
              "      <td>Bad Data</td>\n",
              "    </tr>\n",
              "    <tr>\n",
              "      <th>2021-06-21 00:01:22</th>\n",
              "      <td>-50.0</td>\n",
              "      <td>Bad Data</td>\n",
              "    </tr>\n",
              "    <tr>\n",
              "      <th>2021-06-21 00:01:42</th>\n",
              "      <td>-50.0</td>\n",
              "      <td>Bad Data</td>\n",
              "    </tr>\n",
              "  </tbody>\n",
              "</table>\n",
              "</div>"
            ],
            "text/plain": [
              "                     Value    Status\n",
              "Date                                \n",
              "2021-06-21 00:00:22  -50.0  Bad Data\n",
              "2021-06-21 00:00:42  -50.0  Bad Data\n",
              "2021-06-21 00:01:02  -50.0  Bad Data\n",
              "2021-06-21 00:01:22  -50.0  Bad Data\n",
              "2021-06-21 00:01:42  -50.0  Bad Data"
            ]
          },
          "metadata": {},
          "execution_count": 145
        }
      ]
    },
    {
      "cell_type": "code",
      "metadata": {
        "id": "jBFd6zuIRWYX"
      },
      "source": [
        "bad_data=df[df[\"Status\"]==\"Bad Data\"].index"
      ],
      "execution_count": 146,
      "outputs": []
    },
    {
      "cell_type": "code",
      "metadata": {
        "colab": {
          "base_uri": "https://localhost:8080/"
        },
        "id": "fheQ1NQBRxhC",
        "outputId": "0e897000-f372-4874-d684-f168745438bc"
      },
      "source": [
        "bad_data"
      ],
      "execution_count": 147,
      "outputs": [
        {
          "output_type": "execute_result",
          "data": {
            "text/plain": [
              "DatetimeIndex(['2021-06-21 00:00:22', '2021-06-21 00:00:42',\n",
              "               '2021-06-21 00:01:02', '2021-06-21 00:01:22',\n",
              "               '2021-06-21 00:01:42', '2021-06-21 00:02:02',\n",
              "               '2021-06-21 00:02:22', '2021-06-21 00:02:42',\n",
              "               '2021-06-21 00:03:02', '2021-06-21 00:03:22',\n",
              "               ...\n",
              "               '2021-06-21 05:22:02', '2021-06-21 05:22:22',\n",
              "               '2021-06-21 05:22:42', '2021-06-21 05:23:02',\n",
              "               '2021-06-21 05:23:22', '2021-06-21 05:23:42',\n",
              "               '2021-06-21 05:24:02', '2021-06-21 05:24:22',\n",
              "               '2021-06-21 05:24:42', '2021-06-21 05:25:02'],\n",
              "              dtype='datetime64[ns]', name='Date', length=975, freq=None)"
            ]
          },
          "metadata": {},
          "execution_count": 147
        }
      ]
    },
    {
      "cell_type": "code",
      "metadata": {
        "id": "xZPnVWMccTEH"
      },
      "source": [
        ""
      ],
      "execution_count": 147,
      "outputs": []
    },
    {
      "cell_type": "code",
      "metadata": {
        "colab": {
          "base_uri": "https://localhost:8080/",
          "height": 454
        },
        "id": "zJKVOeG7clxL",
        "outputId": "ae9393da-b7cf-4800-e7d1-22b29c527073"
      },
      "source": [
        "df"
      ],
      "execution_count": 148,
      "outputs": [
        {
          "output_type": "execute_result",
          "data": {
            "text/html": [
              "<div>\n",
              "<style scoped>\n",
              "    .dataframe tbody tr th:only-of-type {\n",
              "        vertical-align: middle;\n",
              "    }\n",
              "\n",
              "    .dataframe tbody tr th {\n",
              "        vertical-align: top;\n",
              "    }\n",
              "\n",
              "    .dataframe thead th {\n",
              "        text-align: right;\n",
              "    }\n",
              "</style>\n",
              "<table border=\"1\" class=\"dataframe\">\n",
              "  <thead>\n",
              "    <tr style=\"text-align: right;\">\n",
              "      <th></th>\n",
              "      <th>Value</th>\n",
              "      <th>Status</th>\n",
              "    </tr>\n",
              "    <tr>\n",
              "      <th>Date</th>\n",
              "      <th></th>\n",
              "      <th></th>\n",
              "    </tr>\n",
              "  </thead>\n",
              "  <tbody>\n",
              "    <tr>\n",
              "      <th>2021-06-21 00:00:22</th>\n",
              "      <td>-50.000000</td>\n",
              "      <td>Bad Data</td>\n",
              "    </tr>\n",
              "    <tr>\n",
              "      <th>2021-06-21 00:00:42</th>\n",
              "      <td>-50.000000</td>\n",
              "      <td>Bad Data</td>\n",
              "    </tr>\n",
              "    <tr>\n",
              "      <th>2021-06-21 00:01:02</th>\n",
              "      <td>-50.000000</td>\n",
              "      <td>Bad Data</td>\n",
              "    </tr>\n",
              "    <tr>\n",
              "      <th>2021-06-21 00:01:22</th>\n",
              "      <td>-50.000000</td>\n",
              "      <td>Bad Data</td>\n",
              "    </tr>\n",
              "    <tr>\n",
              "      <th>2021-06-21 00:01:42</th>\n",
              "      <td>-50.000000</td>\n",
              "      <td>Bad Data</td>\n",
              "    </tr>\n",
              "    <tr>\n",
              "      <th>...</th>\n",
              "      <td>...</td>\n",
              "      <td>...</td>\n",
              "    </tr>\n",
              "    <tr>\n",
              "      <th>2021-06-25 23:58:40</th>\n",
              "      <td>33.093002</td>\n",
              "      <td>OK</td>\n",
              "    </tr>\n",
              "    <tr>\n",
              "      <th>2021-06-25 23:59:00</th>\n",
              "      <td>33.093002</td>\n",
              "      <td>OK</td>\n",
              "    </tr>\n",
              "    <tr>\n",
              "      <th>2021-06-25 23:59:20</th>\n",
              "      <td>33.093002</td>\n",
              "      <td>OK</td>\n",
              "    </tr>\n",
              "    <tr>\n",
              "      <th>2021-06-25 23:59:30</th>\n",
              "      <td>32.993820</td>\n",
              "      <td>OK</td>\n",
              "    </tr>\n",
              "    <tr>\n",
              "      <th>2021-06-25 23:59:50</th>\n",
              "      <td>32.993820</td>\n",
              "      <td>OK</td>\n",
              "    </tr>\n",
              "  </tbody>\n",
              "</table>\n",
              "<p>29172 rows × 2 columns</p>\n",
              "</div>"
            ],
            "text/plain": [
              "                         Value    Status\n",
              "Date                                    \n",
              "2021-06-21 00:00:22 -50.000000  Bad Data\n",
              "2021-06-21 00:00:42 -50.000000  Bad Data\n",
              "2021-06-21 00:01:02 -50.000000  Bad Data\n",
              "2021-06-21 00:01:22 -50.000000  Bad Data\n",
              "2021-06-21 00:01:42 -50.000000  Bad Data\n",
              "...                        ...       ...\n",
              "2021-06-25 23:58:40  33.093002        OK\n",
              "2021-06-25 23:59:00  33.093002        OK\n",
              "2021-06-25 23:59:20  33.093002        OK\n",
              "2021-06-25 23:59:30  32.993820        OK\n",
              "2021-06-25 23:59:50  32.993820        OK\n",
              "\n",
              "[29172 rows x 2 columns]"
            ]
          },
          "metadata": {},
          "execution_count": 148
        }
      ]
    },
    {
      "cell_type": "code",
      "metadata": {
        "id": "LFtHG_ROQTgo"
      },
      "source": [
        "df.drop(index=bad_data,inplace=True)"
      ],
      "execution_count": 149,
      "outputs": []
    },
    {
      "cell_type": "code",
      "metadata": {
        "colab": {
          "base_uri": "https://localhost:8080/"
        },
        "id": "yRewMi8KMgSs",
        "outputId": "1138ea34-60a3-41e0-d2b9-efd9d07d2535"
      },
      "source": [
        "type(df)"
      ],
      "execution_count": 150,
      "outputs": [
        {
          "output_type": "execute_result",
          "data": {
            "text/plain": [
              "pandas.core.frame.DataFrame"
            ]
          },
          "metadata": {},
          "execution_count": 150
        }
      ]
    },
    {
      "cell_type": "code",
      "metadata": {
        "colab": {
          "base_uri": "https://localhost:8080/",
          "height": 299
        },
        "id": "I746QkypLVQ0",
        "outputId": "934d82f9-be78-43b6-b816-4b86b4a281b4"
      },
      "source": [
        "df.describe()"
      ],
      "execution_count": 151,
      "outputs": [
        {
          "output_type": "execute_result",
          "data": {
            "text/html": [
              "<div>\n",
              "<style scoped>\n",
              "    .dataframe tbody tr th:only-of-type {\n",
              "        vertical-align: middle;\n",
              "    }\n",
              "\n",
              "    .dataframe tbody tr th {\n",
              "        vertical-align: top;\n",
              "    }\n",
              "\n",
              "    .dataframe thead th {\n",
              "        text-align: right;\n",
              "    }\n",
              "</style>\n",
              "<table border=\"1\" class=\"dataframe\">\n",
              "  <thead>\n",
              "    <tr style=\"text-align: right;\">\n",
              "      <th></th>\n",
              "      <th>Value</th>\n",
              "    </tr>\n",
              "  </thead>\n",
              "  <tbody>\n",
              "    <tr>\n",
              "      <th>count</th>\n",
              "      <td>28197.000000</td>\n",
              "    </tr>\n",
              "    <tr>\n",
              "      <th>mean</th>\n",
              "      <td>65.685207</td>\n",
              "    </tr>\n",
              "    <tr>\n",
              "      <th>std</th>\n",
              "      <td>12.707699</td>\n",
              "    </tr>\n",
              "    <tr>\n",
              "      <th>min</th>\n",
              "      <td>27.264061</td>\n",
              "    </tr>\n",
              "    <tr>\n",
              "      <th>25%</th>\n",
              "      <td>70.126648</td>\n",
              "    </tr>\n",
              "    <tr>\n",
              "      <th>50%</th>\n",
              "      <td>70.767532</td>\n",
              "    </tr>\n",
              "    <tr>\n",
              "      <th>75%</th>\n",
              "      <td>72.846573</td>\n",
              "    </tr>\n",
              "    <tr>\n",
              "      <th>max</th>\n",
              "      <td>200.000000</td>\n",
              "    </tr>\n",
              "  </tbody>\n",
              "</table>\n",
              "</div>"
            ],
            "text/plain": [
              "              Value\n",
              "count  28197.000000\n",
              "mean      65.685207\n",
              "std       12.707699\n",
              "min       27.264061\n",
              "25%       70.126648\n",
              "50%       70.767532\n",
              "75%       72.846573\n",
              "max      200.000000"
            ]
          },
          "metadata": {},
          "execution_count": 151
        }
      ]
    },
    {
      "cell_type": "code",
      "metadata": {
        "colab": {
          "base_uri": "https://localhost:8080/",
          "height": 236
        },
        "id": "GEwYLlJUPk1B",
        "outputId": "2b484fac-fc9b-4f10-c146-82fcf9ac8e5b"
      },
      "source": [
        "df.head()"
      ],
      "execution_count": 152,
      "outputs": [
        {
          "output_type": "execute_result",
          "data": {
            "text/html": [
              "<div>\n",
              "<style scoped>\n",
              "    .dataframe tbody tr th:only-of-type {\n",
              "        vertical-align: middle;\n",
              "    }\n",
              "\n",
              "    .dataframe tbody tr th {\n",
              "        vertical-align: top;\n",
              "    }\n",
              "\n",
              "    .dataframe thead th {\n",
              "        text-align: right;\n",
              "    }\n",
              "</style>\n",
              "<table border=\"1\" class=\"dataframe\">\n",
              "  <thead>\n",
              "    <tr style=\"text-align: right;\">\n",
              "      <th></th>\n",
              "      <th>Value</th>\n",
              "      <th>Status</th>\n",
              "    </tr>\n",
              "    <tr>\n",
              "      <th>Date</th>\n",
              "      <th></th>\n",
              "      <th></th>\n",
              "    </tr>\n",
              "  </thead>\n",
              "  <tbody>\n",
              "    <tr>\n",
              "      <th>2021-06-21 05:25:10</th>\n",
              "      <td>200.000000</td>\n",
              "      <td>OK</td>\n",
              "    </tr>\n",
              "    <tr>\n",
              "      <th>2021-06-21 05:25:13</th>\n",
              "      <td>88.632034</td>\n",
              "      <td>OK</td>\n",
              "    </tr>\n",
              "    <tr>\n",
              "      <th>2021-06-21 05:25:23</th>\n",
              "      <td>28.484779</td>\n",
              "      <td>OK</td>\n",
              "    </tr>\n",
              "    <tr>\n",
              "      <th>2021-06-21 05:25:40</th>\n",
              "      <td>28.385597</td>\n",
              "      <td>OK</td>\n",
              "    </tr>\n",
              "    <tr>\n",
              "      <th>2021-06-21 05:25:50</th>\n",
              "      <td>28.484779</td>\n",
              "      <td>OK</td>\n",
              "    </tr>\n",
              "  </tbody>\n",
              "</table>\n",
              "</div>"
            ],
            "text/plain": [
              "                          Value Status\n",
              "Date                                  \n",
              "2021-06-21 05:25:10  200.000000     OK\n",
              "2021-06-21 05:25:13   88.632034     OK\n",
              "2021-06-21 05:25:23   28.484779     OK\n",
              "2021-06-21 05:25:40   28.385597     OK\n",
              "2021-06-21 05:25:50   28.484779     OK"
            ]
          },
          "metadata": {},
          "execution_count": 152
        }
      ]
    },
    {
      "cell_type": "code",
      "metadata": {
        "id": "y4ZJQCYRLKZX"
      },
      "source": [
        "df.reset_index(inplace=True)"
      ],
      "execution_count": 153,
      "outputs": []
    },
    {
      "cell_type": "code",
      "metadata": {
        "id": "QaY46S1xXI5s"
      },
      "source": [
        "df.drop(columns=[\"Status\"], inplace=True)"
      ],
      "execution_count": 154,
      "outputs": []
    },
    {
      "cell_type": "code",
      "metadata": {
        "id": "4S4cr1lQEcz3"
      },
      "source": [
        ""
      ],
      "execution_count": 154,
      "outputs": []
    },
    {
      "cell_type": "code",
      "metadata": {
        "id": "D1b8EzcVhD3u"
      },
      "source": [
        "new_range = pd.date_range(df.index.values[0], df.index.values[-1], freq='10S')"
      ],
      "execution_count": 155,
      "outputs": []
    },
    {
      "cell_type": "code",
      "metadata": {
        "colab": {
          "base_uri": "https://localhost:8080/"
        },
        "id": "MWCFjph4jh_-",
        "outputId": "e5d66335-7e77-45fc-ce06-8e3031c83b95"
      },
      "source": [
        "new_range"
      ],
      "execution_count": 156,
      "outputs": [
        {
          "output_type": "execute_result",
          "data": {
            "text/plain": [
              "DatetimeIndex(['1970-01-01'], dtype='datetime64[ns]', freq='10S')"
            ]
          },
          "metadata": {},
          "execution_count": 156
        }
      ]
    },
    {
      "cell_type": "code",
      "metadata": {
        "colab": {
          "base_uri": "https://localhost:8080/",
          "height": 422
        },
        "id": "Nl5V3bD9MyS1",
        "outputId": "6f92be73-1495-4212-b9f4-29b85069a111"
      },
      "source": [
        "df.reindex()"
      ],
      "execution_count": 157,
      "outputs": [
        {
          "output_type": "execute_result",
          "data": {
            "text/html": [
              "<div>\n",
              "<style scoped>\n",
              "    .dataframe tbody tr th:only-of-type {\n",
              "        vertical-align: middle;\n",
              "    }\n",
              "\n",
              "    .dataframe tbody tr th {\n",
              "        vertical-align: top;\n",
              "    }\n",
              "\n",
              "    .dataframe thead th {\n",
              "        text-align: right;\n",
              "    }\n",
              "</style>\n",
              "<table border=\"1\" class=\"dataframe\">\n",
              "  <thead>\n",
              "    <tr style=\"text-align: right;\">\n",
              "      <th></th>\n",
              "      <th>Date</th>\n",
              "      <th>Value</th>\n",
              "    </tr>\n",
              "  </thead>\n",
              "  <tbody>\n",
              "    <tr>\n",
              "      <th>0</th>\n",
              "      <td>2021-06-21 05:25:10</td>\n",
              "      <td>200.000000</td>\n",
              "    </tr>\n",
              "    <tr>\n",
              "      <th>1</th>\n",
              "      <td>2021-06-21 05:25:13</td>\n",
              "      <td>88.632034</td>\n",
              "    </tr>\n",
              "    <tr>\n",
              "      <th>2</th>\n",
              "      <td>2021-06-21 05:25:23</td>\n",
              "      <td>28.484779</td>\n",
              "    </tr>\n",
              "    <tr>\n",
              "      <th>3</th>\n",
              "      <td>2021-06-21 05:25:40</td>\n",
              "      <td>28.385597</td>\n",
              "    </tr>\n",
              "    <tr>\n",
              "      <th>4</th>\n",
              "      <td>2021-06-21 05:25:50</td>\n",
              "      <td>28.484779</td>\n",
              "    </tr>\n",
              "    <tr>\n",
              "      <th>...</th>\n",
              "      <td>...</td>\n",
              "      <td>...</td>\n",
              "    </tr>\n",
              "    <tr>\n",
              "      <th>28192</th>\n",
              "      <td>2021-06-25 23:58:40</td>\n",
              "      <td>33.093002</td>\n",
              "    </tr>\n",
              "    <tr>\n",
              "      <th>28193</th>\n",
              "      <td>2021-06-25 23:59:00</td>\n",
              "      <td>33.093002</td>\n",
              "    </tr>\n",
              "    <tr>\n",
              "      <th>28194</th>\n",
              "      <td>2021-06-25 23:59:20</td>\n",
              "      <td>33.093002</td>\n",
              "    </tr>\n",
              "    <tr>\n",
              "      <th>28195</th>\n",
              "      <td>2021-06-25 23:59:30</td>\n",
              "      <td>32.993820</td>\n",
              "    </tr>\n",
              "    <tr>\n",
              "      <th>28196</th>\n",
              "      <td>2021-06-25 23:59:50</td>\n",
              "      <td>32.993820</td>\n",
              "    </tr>\n",
              "  </tbody>\n",
              "</table>\n",
              "<p>28197 rows × 2 columns</p>\n",
              "</div>"
            ],
            "text/plain": [
              "                     Date       Value\n",
              "0     2021-06-21 05:25:10  200.000000\n",
              "1     2021-06-21 05:25:13   88.632034\n",
              "2     2021-06-21 05:25:23   28.484779\n",
              "3     2021-06-21 05:25:40   28.385597\n",
              "4     2021-06-21 05:25:50   28.484779\n",
              "...                   ...         ...\n",
              "28192 2021-06-25 23:58:40   33.093002\n",
              "28193 2021-06-25 23:59:00   33.093002\n",
              "28194 2021-06-25 23:59:20   33.093002\n",
              "28195 2021-06-25 23:59:30   32.993820\n",
              "28196 2021-06-25 23:59:50   32.993820\n",
              "\n",
              "[28197 rows x 2 columns]"
            ]
          },
          "metadata": {},
          "execution_count": 157
        }
      ]
    },
    {
      "cell_type": "code",
      "metadata": {
        "id": "htzJCeRGdoQu"
      },
      "source": [
        "df.set_index(\"Date\",inplace=True)"
      ],
      "execution_count": 158,
      "outputs": []
    },
    {
      "cell_type": "code",
      "metadata": {
        "colab": {
          "base_uri": "https://localhost:8080/",
          "height": 454
        },
        "id": "893GVVhue6Wo",
        "outputId": "b0a21df0-37ff-4bbe-e5ca-d28ff34334bb"
      },
      "source": [
        "df"
      ],
      "execution_count": 159,
      "outputs": [
        {
          "output_type": "execute_result",
          "data": {
            "text/html": [
              "<div>\n",
              "<style scoped>\n",
              "    .dataframe tbody tr th:only-of-type {\n",
              "        vertical-align: middle;\n",
              "    }\n",
              "\n",
              "    .dataframe tbody tr th {\n",
              "        vertical-align: top;\n",
              "    }\n",
              "\n",
              "    .dataframe thead th {\n",
              "        text-align: right;\n",
              "    }\n",
              "</style>\n",
              "<table border=\"1\" class=\"dataframe\">\n",
              "  <thead>\n",
              "    <tr style=\"text-align: right;\">\n",
              "      <th></th>\n",
              "      <th>Value</th>\n",
              "    </tr>\n",
              "    <tr>\n",
              "      <th>Date</th>\n",
              "      <th></th>\n",
              "    </tr>\n",
              "  </thead>\n",
              "  <tbody>\n",
              "    <tr>\n",
              "      <th>2021-06-21 05:25:10</th>\n",
              "      <td>200.000000</td>\n",
              "    </tr>\n",
              "    <tr>\n",
              "      <th>2021-06-21 05:25:13</th>\n",
              "      <td>88.632034</td>\n",
              "    </tr>\n",
              "    <tr>\n",
              "      <th>2021-06-21 05:25:23</th>\n",
              "      <td>28.484779</td>\n",
              "    </tr>\n",
              "    <tr>\n",
              "      <th>2021-06-21 05:25:40</th>\n",
              "      <td>28.385597</td>\n",
              "    </tr>\n",
              "    <tr>\n",
              "      <th>2021-06-21 05:25:50</th>\n",
              "      <td>28.484779</td>\n",
              "    </tr>\n",
              "    <tr>\n",
              "      <th>...</th>\n",
              "      <td>...</td>\n",
              "    </tr>\n",
              "    <tr>\n",
              "      <th>2021-06-25 23:58:40</th>\n",
              "      <td>33.093002</td>\n",
              "    </tr>\n",
              "    <tr>\n",
              "      <th>2021-06-25 23:59:00</th>\n",
              "      <td>33.093002</td>\n",
              "    </tr>\n",
              "    <tr>\n",
              "      <th>2021-06-25 23:59:20</th>\n",
              "      <td>33.093002</td>\n",
              "    </tr>\n",
              "    <tr>\n",
              "      <th>2021-06-25 23:59:30</th>\n",
              "      <td>32.993820</td>\n",
              "    </tr>\n",
              "    <tr>\n",
              "      <th>2021-06-25 23:59:50</th>\n",
              "      <td>32.993820</td>\n",
              "    </tr>\n",
              "  </tbody>\n",
              "</table>\n",
              "<p>28197 rows × 1 columns</p>\n",
              "</div>"
            ],
            "text/plain": [
              "                          Value\n",
              "Date                           \n",
              "2021-06-21 05:25:10  200.000000\n",
              "2021-06-21 05:25:13   88.632034\n",
              "2021-06-21 05:25:23   28.484779\n",
              "2021-06-21 05:25:40   28.385597\n",
              "2021-06-21 05:25:50   28.484779\n",
              "...                         ...\n",
              "2021-06-25 23:58:40   33.093002\n",
              "2021-06-25 23:59:00   33.093002\n",
              "2021-06-25 23:59:20   33.093002\n",
              "2021-06-25 23:59:30   32.993820\n",
              "2021-06-25 23:59:50   32.993820\n",
              "\n",
              "[28197 rows x 1 columns]"
            ]
          },
          "metadata": {},
          "execution_count": 159
        }
      ]
    },
    {
      "cell_type": "code",
      "metadata": {
        "colab": {
          "base_uri": "https://localhost:8080/",
          "height": 454
        },
        "id": "eTMmefPPNk-R",
        "outputId": "e5898b69-f661-41e4-aea9-4f29b1341cf9"
      },
      "source": [
        "df3"
      ],
      "execution_count": 160,
      "outputs": [
        {
          "output_type": "execute_result",
          "data": {
            "text/html": [
              "<div>\n",
              "<style scoped>\n",
              "    .dataframe tbody tr th:only-of-type {\n",
              "        vertical-align: middle;\n",
              "    }\n",
              "\n",
              "    .dataframe tbody tr th {\n",
              "        vertical-align: top;\n",
              "    }\n",
              "\n",
              "    .dataframe thead th {\n",
              "        text-align: right;\n",
              "    }\n",
              "</style>\n",
              "<table border=\"1\" class=\"dataframe\">\n",
              "  <thead>\n",
              "    <tr style=\"text-align: right;\">\n",
              "      <th></th>\n",
              "      <th>Value</th>\n",
              "    </tr>\n",
              "    <tr>\n",
              "      <th>Date</th>\n",
              "      <th></th>\n",
              "    </tr>\n",
              "  </thead>\n",
              "  <tbody>\n",
              "    <tr>\n",
              "      <th>2021-06-21 05:25:10</th>\n",
              "      <td>200.000000</td>\n",
              "    </tr>\n",
              "    <tr>\n",
              "      <th>2021-06-21 05:25:11</th>\n",
              "      <td>162.877345</td>\n",
              "    </tr>\n",
              "    <tr>\n",
              "      <th>2021-06-21 05:25:12</th>\n",
              "      <td>125.754690</td>\n",
              "    </tr>\n",
              "    <tr>\n",
              "      <th>2021-06-21 05:25:13</th>\n",
              "      <td>88.632034</td>\n",
              "    </tr>\n",
              "    <tr>\n",
              "      <th>2021-06-21 05:25:14</th>\n",
              "      <td>82.617309</td>\n",
              "    </tr>\n",
              "    <tr>\n",
              "      <th>...</th>\n",
              "      <td>...</td>\n",
              "    </tr>\n",
              "    <tr>\n",
              "      <th>2021-06-25 23:59:46</th>\n",
              "      <td>32.993820</td>\n",
              "    </tr>\n",
              "    <tr>\n",
              "      <th>2021-06-25 23:59:47</th>\n",
              "      <td>32.993820</td>\n",
              "    </tr>\n",
              "    <tr>\n",
              "      <th>2021-06-25 23:59:48</th>\n",
              "      <td>32.993820</td>\n",
              "    </tr>\n",
              "    <tr>\n",
              "      <th>2021-06-25 23:59:49</th>\n",
              "      <td>32.993820</td>\n",
              "    </tr>\n",
              "    <tr>\n",
              "      <th>2021-06-25 23:59:50</th>\n",
              "      <td>32.993820</td>\n",
              "    </tr>\n",
              "  </tbody>\n",
              "</table>\n",
              "<p>412481 rows × 1 columns</p>\n",
              "</div>"
            ],
            "text/plain": [
              "                          Value\n",
              "Date                           \n",
              "2021-06-21 05:25:10  200.000000\n",
              "2021-06-21 05:25:11  162.877345\n",
              "2021-06-21 05:25:12  125.754690\n",
              "2021-06-21 05:25:13   88.632034\n",
              "2021-06-21 05:25:14   82.617309\n",
              "...                         ...\n",
              "2021-06-25 23:59:46   32.993820\n",
              "2021-06-25 23:59:47   32.993820\n",
              "2021-06-25 23:59:48   32.993820\n",
              "2021-06-25 23:59:49   32.993820\n",
              "2021-06-25 23:59:50   32.993820\n",
              "\n",
              "[412481 rows x 1 columns]"
            ]
          },
          "metadata": {},
          "execution_count": 160
        }
      ]
    },
    {
      "cell_type": "code",
      "metadata": {
        "colab": {
          "base_uri": "https://localhost:8080/"
        },
        "id": "i0wnn0SCjNJY",
        "outputId": "edadd905-24bf-40e5-8791-e79f198d835d"
      },
      "source": [
        "index = pd.date_range('1/1/2019', periods=8, freq='T')\n",
        "series = pd.Series(range(8), index=index)\n",
        "series"
      ],
      "execution_count": 161,
      "outputs": [
        {
          "output_type": "execute_result",
          "data": {
            "text/plain": [
              "2019-01-01 00:00:00    0\n",
              "2019-01-01 00:01:00    1\n",
              "2019-01-01 00:02:00    2\n",
              "2019-01-01 00:03:00    3\n",
              "2019-01-01 00:04:00    4\n",
              "2019-01-01 00:05:00    5\n",
              "2019-01-01 00:06:00    6\n",
              "2019-01-01 00:07:00    7\n",
              "Freq: T, dtype: int64"
            ]
          },
          "metadata": {},
          "execution_count": 161
        }
      ]
    },
    {
      "cell_type": "code",
      "metadata": {
        "id": "8sWpLwEhjVlE"
      },
      "source": [
        "df3=df.resample(\"1s\").mean()"
      ],
      "execution_count": 162,
      "outputs": []
    },
    {
      "cell_type": "code",
      "metadata": {
        "colab": {
          "base_uri": "https://localhost:8080/",
          "height": 1000
        },
        "id": "7h5IIachjhz0",
        "outputId": "eeaf861f-c742-4b32-c792-9a3e44635787"
      },
      "source": [
        "df3.head(30)"
      ],
      "execution_count": 163,
      "outputs": [
        {
          "output_type": "execute_result",
          "data": {
            "text/html": [
              "<div>\n",
              "<style scoped>\n",
              "    .dataframe tbody tr th:only-of-type {\n",
              "        vertical-align: middle;\n",
              "    }\n",
              "\n",
              "    .dataframe tbody tr th {\n",
              "        vertical-align: top;\n",
              "    }\n",
              "\n",
              "    .dataframe thead th {\n",
              "        text-align: right;\n",
              "    }\n",
              "</style>\n",
              "<table border=\"1\" class=\"dataframe\">\n",
              "  <thead>\n",
              "    <tr style=\"text-align: right;\">\n",
              "      <th></th>\n",
              "      <th>Value</th>\n",
              "    </tr>\n",
              "    <tr>\n",
              "      <th>Date</th>\n",
              "      <th></th>\n",
              "    </tr>\n",
              "  </thead>\n",
              "  <tbody>\n",
              "    <tr>\n",
              "      <th>2021-06-21 05:25:10</th>\n",
              "      <td>200.000000</td>\n",
              "    </tr>\n",
              "    <tr>\n",
              "      <th>2021-06-21 05:25:11</th>\n",
              "      <td>NaN</td>\n",
              "    </tr>\n",
              "    <tr>\n",
              "      <th>2021-06-21 05:25:12</th>\n",
              "      <td>NaN</td>\n",
              "    </tr>\n",
              "    <tr>\n",
              "      <th>2021-06-21 05:25:13</th>\n",
              "      <td>88.632034</td>\n",
              "    </tr>\n",
              "    <tr>\n",
              "      <th>2021-06-21 05:25:14</th>\n",
              "      <td>NaN</td>\n",
              "    </tr>\n",
              "    <tr>\n",
              "      <th>2021-06-21 05:25:15</th>\n",
              "      <td>NaN</td>\n",
              "    </tr>\n",
              "    <tr>\n",
              "      <th>2021-06-21 05:25:16</th>\n",
              "      <td>NaN</td>\n",
              "    </tr>\n",
              "    <tr>\n",
              "      <th>2021-06-21 05:25:17</th>\n",
              "      <td>NaN</td>\n",
              "    </tr>\n",
              "    <tr>\n",
              "      <th>2021-06-21 05:25:18</th>\n",
              "      <td>NaN</td>\n",
              "    </tr>\n",
              "    <tr>\n",
              "      <th>2021-06-21 05:25:19</th>\n",
              "      <td>NaN</td>\n",
              "    </tr>\n",
              "    <tr>\n",
              "      <th>2021-06-21 05:25:20</th>\n",
              "      <td>NaN</td>\n",
              "    </tr>\n",
              "    <tr>\n",
              "      <th>2021-06-21 05:25:21</th>\n",
              "      <td>NaN</td>\n",
              "    </tr>\n",
              "    <tr>\n",
              "      <th>2021-06-21 05:25:22</th>\n",
              "      <td>NaN</td>\n",
              "    </tr>\n",
              "    <tr>\n",
              "      <th>2021-06-21 05:25:23</th>\n",
              "      <td>28.484779</td>\n",
              "    </tr>\n",
              "    <tr>\n",
              "      <th>2021-06-21 05:25:24</th>\n",
              "      <td>NaN</td>\n",
              "    </tr>\n",
              "    <tr>\n",
              "      <th>2021-06-21 05:25:25</th>\n",
              "      <td>NaN</td>\n",
              "    </tr>\n",
              "    <tr>\n",
              "      <th>2021-06-21 05:25:26</th>\n",
              "      <td>NaN</td>\n",
              "    </tr>\n",
              "    <tr>\n",
              "      <th>2021-06-21 05:25:27</th>\n",
              "      <td>NaN</td>\n",
              "    </tr>\n",
              "    <tr>\n",
              "      <th>2021-06-21 05:25:28</th>\n",
              "      <td>NaN</td>\n",
              "    </tr>\n",
              "    <tr>\n",
              "      <th>2021-06-21 05:25:29</th>\n",
              "      <td>NaN</td>\n",
              "    </tr>\n",
              "    <tr>\n",
              "      <th>2021-06-21 05:25:30</th>\n",
              "      <td>NaN</td>\n",
              "    </tr>\n",
              "    <tr>\n",
              "      <th>2021-06-21 05:25:31</th>\n",
              "      <td>NaN</td>\n",
              "    </tr>\n",
              "    <tr>\n",
              "      <th>2021-06-21 05:25:32</th>\n",
              "      <td>NaN</td>\n",
              "    </tr>\n",
              "    <tr>\n",
              "      <th>2021-06-21 05:25:33</th>\n",
              "      <td>NaN</td>\n",
              "    </tr>\n",
              "    <tr>\n",
              "      <th>2021-06-21 05:25:34</th>\n",
              "      <td>NaN</td>\n",
              "    </tr>\n",
              "    <tr>\n",
              "      <th>2021-06-21 05:25:35</th>\n",
              "      <td>NaN</td>\n",
              "    </tr>\n",
              "    <tr>\n",
              "      <th>2021-06-21 05:25:36</th>\n",
              "      <td>NaN</td>\n",
              "    </tr>\n",
              "    <tr>\n",
              "      <th>2021-06-21 05:25:37</th>\n",
              "      <td>NaN</td>\n",
              "    </tr>\n",
              "    <tr>\n",
              "      <th>2021-06-21 05:25:38</th>\n",
              "      <td>NaN</td>\n",
              "    </tr>\n",
              "    <tr>\n",
              "      <th>2021-06-21 05:25:39</th>\n",
              "      <td>NaN</td>\n",
              "    </tr>\n",
              "  </tbody>\n",
              "</table>\n",
              "</div>"
            ],
            "text/plain": [
              "                          Value\n",
              "Date                           \n",
              "2021-06-21 05:25:10  200.000000\n",
              "2021-06-21 05:25:11         NaN\n",
              "2021-06-21 05:25:12         NaN\n",
              "2021-06-21 05:25:13   88.632034\n",
              "2021-06-21 05:25:14         NaN\n",
              "2021-06-21 05:25:15         NaN\n",
              "2021-06-21 05:25:16         NaN\n",
              "2021-06-21 05:25:17         NaN\n",
              "2021-06-21 05:25:18         NaN\n",
              "2021-06-21 05:25:19         NaN\n",
              "2021-06-21 05:25:20         NaN\n",
              "2021-06-21 05:25:21         NaN\n",
              "2021-06-21 05:25:22         NaN\n",
              "2021-06-21 05:25:23   28.484779\n",
              "2021-06-21 05:25:24         NaN\n",
              "2021-06-21 05:25:25         NaN\n",
              "2021-06-21 05:25:26         NaN\n",
              "2021-06-21 05:25:27         NaN\n",
              "2021-06-21 05:25:28         NaN\n",
              "2021-06-21 05:25:29         NaN\n",
              "2021-06-21 05:25:30         NaN\n",
              "2021-06-21 05:25:31         NaN\n",
              "2021-06-21 05:25:32         NaN\n",
              "2021-06-21 05:25:33         NaN\n",
              "2021-06-21 05:25:34         NaN\n",
              "2021-06-21 05:25:35         NaN\n",
              "2021-06-21 05:25:36         NaN\n",
              "2021-06-21 05:25:37         NaN\n",
              "2021-06-21 05:25:38         NaN\n",
              "2021-06-21 05:25:39         NaN"
            ]
          },
          "metadata": {},
          "execution_count": 163
        }
      ]
    },
    {
      "cell_type": "code",
      "metadata": {
        "id": "W3LSZgpbm40L"
      },
      "source": [
        "df3.interpolate('linear',inplace=True)"
      ],
      "execution_count": 164,
      "outputs": []
    },
    {
      "cell_type": "code",
      "metadata": {
        "colab": {
          "base_uri": "https://localhost:8080/",
          "height": 454
        },
        "id": "dbzCAsCsnCDm",
        "outputId": "051262a8-d8ad-4d59-9356-aba36b2d8326"
      },
      "source": [
        "df3"
      ],
      "execution_count": 165,
      "outputs": [
        {
          "output_type": "execute_result",
          "data": {
            "text/html": [
              "<div>\n",
              "<style scoped>\n",
              "    .dataframe tbody tr th:only-of-type {\n",
              "        vertical-align: middle;\n",
              "    }\n",
              "\n",
              "    .dataframe tbody tr th {\n",
              "        vertical-align: top;\n",
              "    }\n",
              "\n",
              "    .dataframe thead th {\n",
              "        text-align: right;\n",
              "    }\n",
              "</style>\n",
              "<table border=\"1\" class=\"dataframe\">\n",
              "  <thead>\n",
              "    <tr style=\"text-align: right;\">\n",
              "      <th></th>\n",
              "      <th>Value</th>\n",
              "    </tr>\n",
              "    <tr>\n",
              "      <th>Date</th>\n",
              "      <th></th>\n",
              "    </tr>\n",
              "  </thead>\n",
              "  <tbody>\n",
              "    <tr>\n",
              "      <th>2021-06-21 05:25:10</th>\n",
              "      <td>200.000000</td>\n",
              "    </tr>\n",
              "    <tr>\n",
              "      <th>2021-06-21 05:25:11</th>\n",
              "      <td>162.877345</td>\n",
              "    </tr>\n",
              "    <tr>\n",
              "      <th>2021-06-21 05:25:12</th>\n",
              "      <td>125.754690</td>\n",
              "    </tr>\n",
              "    <tr>\n",
              "      <th>2021-06-21 05:25:13</th>\n",
              "      <td>88.632034</td>\n",
              "    </tr>\n",
              "    <tr>\n",
              "      <th>2021-06-21 05:25:14</th>\n",
              "      <td>82.617309</td>\n",
              "    </tr>\n",
              "    <tr>\n",
              "      <th>...</th>\n",
              "      <td>...</td>\n",
              "    </tr>\n",
              "    <tr>\n",
              "      <th>2021-06-25 23:59:46</th>\n",
              "      <td>32.993820</td>\n",
              "    </tr>\n",
              "    <tr>\n",
              "      <th>2021-06-25 23:59:47</th>\n",
              "      <td>32.993820</td>\n",
              "    </tr>\n",
              "    <tr>\n",
              "      <th>2021-06-25 23:59:48</th>\n",
              "      <td>32.993820</td>\n",
              "    </tr>\n",
              "    <tr>\n",
              "      <th>2021-06-25 23:59:49</th>\n",
              "      <td>32.993820</td>\n",
              "    </tr>\n",
              "    <tr>\n",
              "      <th>2021-06-25 23:59:50</th>\n",
              "      <td>32.993820</td>\n",
              "    </tr>\n",
              "  </tbody>\n",
              "</table>\n",
              "<p>412481 rows × 1 columns</p>\n",
              "</div>"
            ],
            "text/plain": [
              "                          Value\n",
              "Date                           \n",
              "2021-06-21 05:25:10  200.000000\n",
              "2021-06-21 05:25:11  162.877345\n",
              "2021-06-21 05:25:12  125.754690\n",
              "2021-06-21 05:25:13   88.632034\n",
              "2021-06-21 05:25:14   82.617309\n",
              "...                         ...\n",
              "2021-06-25 23:59:46   32.993820\n",
              "2021-06-25 23:59:47   32.993820\n",
              "2021-06-25 23:59:48   32.993820\n",
              "2021-06-25 23:59:49   32.993820\n",
              "2021-06-25 23:59:50   32.993820\n",
              "\n",
              "[412481 rows x 1 columns]"
            ]
          },
          "metadata": {},
          "execution_count": 165
        }
      ]
    },
    {
      "cell_type": "code",
      "metadata": {
        "colab": {
          "base_uri": "https://localhost:8080/",
          "height": 301
        },
        "id": "p1Z6oiSvoAcu",
        "outputId": "27e11dc8-305f-4131-8ff0-5566c34fb54b"
      },
      "source": [
        "df3.plot();"
      ],
      "execution_count": 166,
      "outputs": [
        {
          "output_type": "display_data",
          "data": {
            "image/png": "[encoded data removed]",
            "text/plain": [
              "<Figure size 432x288 with 1 Axes>"
            ]
          },
          "metadata": {
            "needs_background": "light"
          }
        }
      ]
    },
    {
      "cell_type": "code",
      "metadata": {
        "colab": {
          "base_uri": "https://localhost:8080/"
        },
        "id": "2TTb4hhuuDBP",
        "outputId": "2af40398-8f38-422b-834c-973d076549ea"
      },
      "source": [
        "tabs = pd.ExcelFile(fname).sheet_names \n",
        "print(tabs)"
      ],
      "execution_count": 168,
      "outputs": [
        {
          "output_type": "stream",
          "name": "stdout",
          "text": [
            "['AS_P113B', 'AS_PH113', 'AS_T113F', 'AS_T1131', 'AS_T1132', 'AS_T1133', 'AS_T1134', 'AS_T1135']\n"
          ]
        }
      ]
    },
    {
      "cell_type": "code",
      "metadata": {
        "id": "zNadyJKAxbVg"
      },
      "source": [
        "def get_data1s(fname,sheet_name):\n",
        "    import pandas as pd\n",
        "    df=pd.read_excel(fname,sheet_name=sheet_name)\n",
        "    df.columns=[\"Date\",\"Value\",\"Status\"]\n",
        "    bad_data=df[df[\"Status\"]==\"Bad Data\"].index\n",
        "    df.drop(index=bad_data,inplace=True)\n",
        "    df.dropna(inplace=True)\n",
        "    df.index=df.Date\n",
        "    df.set_index(\"Date\",inplace=True)\n",
        "    df.drop(columns=[\"Status\"], inplace=True)\n",
        "    dfout=df.resample(\"1s\").mean()\n",
        "    dfout.interpolate('linear',inplace=True)\n",
        "    return(dfout)\n",
        "\n"
      ],
      "execution_count": 191,
      "outputs": []
    },
    {
      "cell_type": "code",
      "metadata": {
        "id": "SAYE8TEM2eGh"
      },
      "source": [
        ""
      ],
      "execution_count": 191,
      "outputs": []
    },
    {
      "cell_type": "code",
      "metadata": {
        "id": "dPYKBqog3HJe"
      },
      "source": [
        "df0=get_data1s(fname,tabs[0])"
      ],
      "execution_count": 200,
      "outputs": []
    },
    {
      "cell_type": "code",
      "metadata": {
        "colab": {
          "base_uri": "https://localhost:8080/",
          "height": 301
        },
        "id": "EFxK1IQF3RCL",
        "outputId": "65d3189b-fbf3-445c-e286-aaa7554a7f2d"
      },
      "source": [
        "df0.plot();"
      ],
      "execution_count": 201,
      "outputs": [
        {
          "output_type": "display_data",
          "data": {
            "image/png": "[encoded data removed]",
            "text/plain": [
              "<Figure size 432x288 with 1 Axes>"
            ]
          },
          "metadata": {
            "needs_background": "light"
          }
        }
      ]
    },
    {
      "cell_type": "code",
      "metadata": {
        "id": "qWsmr8k02hz-"
      },
      "source": [
        "df1=get_data1s(fname,tabs[1])"
      ],
      "execution_count": 194,
      "outputs": []
    },
    {
      "cell_type": "code",
      "metadata": {
        "colab": {
          "base_uri": "https://localhost:8080/",
          "height": 301
        },
        "id": "zcCMJdmV0VHM",
        "outputId": "b64f936c-a669-4e86-89b1-a442cf9ab584"
      },
      "source": [
        "df1.plot();"
      ],
      "execution_count": 195,
      "outputs": [
        {
          "output_type": "display_data",
          "data": {
            "image/png": "[encoded data removed]",
            "text/plain": [
              "<Figure size 432x288 with 1 Axes>"
            ]
          },
          "metadata": {
            "needs_background": "light"
          }
        }
      ]
    },
    {
      "cell_type": "code",
      "metadata": {
        "id": "VnKPBpJHzFGP"
      },
      "source": [
        "df2=get_data1s(fname,tabs[2])"
      ],
      "execution_count": 196,
      "outputs": []
    },
    {
      "cell_type": "code",
      "metadata": {
        "colab": {
          "base_uri": "https://localhost:8080/",
          "height": 319
        },
        "id": "sYkzwV7U4Haq",
        "outputId": "cab6f85f-4c56-4512-f539-376ca8c71c6e"
      },
      "source": [
        "df2.plot()"
      ],
      "execution_count": 197,
      "outputs": [
        {
          "output_type": "execute_result",
          "data": {
            "text/plain": [
              "<matplotlib.axes._subplots.AxesSubplot at 0x7f2ad7b460d0>"
            ]
          },
          "metadata": {},
          "execution_count": 197
        },
        {
          "output_type": "display_data",
          "data": {
            "image/png": "[encoded data removed]",
            "text/plain": [
              "<Figure size 432x288 with 1 Axes>"
            ]
          },
          "metadata": {
            "needs_background": "light"
          }
        }
      ]
    },
    {
      "cell_type": "code",
      "metadata": {
        "id": "czN2wT5KKy0r"
      },
      "source": [
        ""
      ],
      "execution_count": null,
      "outputs": []
    },
    {
      "cell_type": "code",
      "metadata": {
        "id": "kf7hMC9uKzDv"
      },
      "source": [
        "df3=get_data1s(fname,tabs[3])"
      ],
      "execution_count": 204,
      "outputs": []
    },
    {
      "cell_type": "code",
      "metadata": {
        "colab": {
          "base_uri": "https://localhost:8080/",
          "height": 319
        },
        "id": "lIoAlTgmKzDv",
        "outputId": "20112cc6-74bb-4bb4-f1fd-b02dcf81d1ac"
      },
      "source": [
        "df3.plot()"
      ],
      "execution_count": 205,
      "outputs": [
        {
          "output_type": "execute_result",
          "data": {
            "text/plain": [
              "<matplotlib.axes._subplots.AxesSubplot at 0x7f2acbc30a10>"
            ]
          },
          "metadata": {},
          "execution_count": 205
        },
        {
          "output_type": "display_data",
          "data": {
            "image/png": "[encoded data removed]",
            "text/plain": [
              "<Figure size 432x288 with 1 Axes>"
            ]
          },
          "metadata": {
            "needs_background": "light"
          }
        }
      ]
    },
    {
      "cell_type": "code",
      "metadata": {
        "id": "Kc_qFG8f55eS"
      },
      "source": [
        "def df_list(fname,tabs):\n",
        "    out_df_list=[]\n",
        "    for tabx in tabs:\n",
        "        dftab=get_data1s(fname,tabx)\n",
        "        dftab.plot()\n",
        "        out_df_list.append(dftab)\n",
        "    return out_df_list "
      ],
      "execution_count": 210,
      "outputs": []
    },
    {
      "cell_type": "code",
      "metadata": {
        "colab": {
          "base_uri": "https://localhost:8080/",
          "height": 1000
        },
        "id": "ltcXpBYWLYsC",
        "outputId": "4e66b885-8c16-4fd0-f948-a8873821205d"
      },
      "source": [
        "all_df=df_list(fname,tabs)"
      ],
      "execution_count": 211,
      "outputs": [
        {
          "output_type": "display_data",
          "data": {
            "image/png": "[encoded data removed]",
            "text/plain": [
              "<Figure size 432x288 with 1 Axes>"
            ]
          },
          "metadata": {
            "needs_background": "light"
          }
        },
        {
          "output_type": "display_data",
          "data": {
            "image/png": "[encoded data removed]",
            "text/plain": [
              "<Figure size 432x288 with 1 Axes>"
            ]
          },
          "metadata": {
            "needs_background": "light"
          }
        },
        {
          "output_type": "display_data",
          "data": {
            "image/png": "[encoded data removed]",
            "text/plain": [
              "<Figure size 432x288 with 1 Axes>"
            ]
          },
          "metadata": {
            "needs_background": "light"
          }
        },
        {
          "output_type": "display_data",
          "data": {
            "image/png": "[encoded data removed]",
            "text/plain": [
              "<Figure size 432x288 with 1 Axes>"
            ]
          },
          "metadata": {
            "needs_background": "light"
          }
        },
        {
          "output_type": "display_data",
          "data": {
            "image/png": "[encoded data removed]",
            "text/plain": [
              "<Figure size 432x288 with 1 Axes>"
            ]
          },
          "metadata": {
            "needs_background": "light"
          }
        },
        {
          "output_type": "display_data",
          "data": {
            "image/png": "[encoded data removed]",
            "text/plain": [
              "<Figure size 432x288 with 1 Axes>"
            ]
          },
          "metadata": {
            "needs_background": "light"
          }
        },
        {
          "output_type": "display_data",
          "data": {
            "image/png": "[encoded data removed]",
            "text/plain": [
              "<Figure size 432x288 with 1 Axes>"
            ]
          },
          "metadata": {
            "needs_background": "light"
          }
        },
        {
          "output_type": "display_data",
          "data": {
            "image/png": "[encoded data removed]",
            "text/plain": [
              "<Figure size 432x288 with 1 Axes>"
            ]
          },
          "metadata": {
            "needs_background": "light"
          }
        }
      ]
    },
    {
      "cell_type": "code",
      "metadata": {
        "id": "RBtHagV229aO"
      },
      "source": [
        "def df_concat(dflist,df_heads):\n",
        "    for index,name in enumerate(df_heads):\n",
        "        dflist[index].columns=[name]\n",
        "    out_df=pd.concat(dflist,axis=1)\n",
        "    out_df.head=df_heads\n",
        "    out_df.dropna(inplace=True)\n",
        "    return(out_df)"
      ],
      "execution_count": 242,
      "outputs": []
    },
    {
      "cell_type": "code",
      "metadata": {
        "id": "UncVY97aKhyN"
      },
      "source": [
        "\n",
        "\n",
        "allDF=df_concat(all_df,tabs)"
      ],
      "execution_count": 243,
      "outputs": []
    },
    {
      "cell_type": "code",
      "metadata": {
        "colab": {
          "base_uri": "https://localhost:8080/",
          "height": 236
        },
        "id": "S_7j7jJ7PCvR",
        "outputId": "7cd360bd-a041-4d7a-c7bc-4de66b8cfeb0"
      },
      "source": [
        "all_df[0].head()"
      ],
      "execution_count": 244,
      "outputs": [
        {
          "output_type": "execute_result",
          "data": {
            "text/html": [
              "<div>\n",
              "<style scoped>\n",
              "    .dataframe tbody tr th:only-of-type {\n",
              "        vertical-align: middle;\n",
              "    }\n",
              "\n",
              "    .dataframe tbody tr th {\n",
              "        vertical-align: top;\n",
              "    }\n",
              "\n",
              "    .dataframe thead th {\n",
              "        text-align: right;\n",
              "    }\n",
              "</style>\n",
              "<table border=\"1\" class=\"dataframe\">\n",
              "  <thead>\n",
              "    <tr style=\"text-align: right;\">\n",
              "      <th></th>\n",
              "      <th>AS_P113B</th>\n",
              "    </tr>\n",
              "    <tr>\n",
              "      <th>Date</th>\n",
              "      <th></th>\n",
              "    </tr>\n",
              "  </thead>\n",
              "  <tbody>\n",
              "    <tr>\n",
              "      <th>2021-06-21 05:25:13</th>\n",
              "      <td>0.085145</td>\n",
              "    </tr>\n",
              "    <tr>\n",
              "      <th>2021-06-21 05:25:14</th>\n",
              "      <td>0.085145</td>\n",
              "    </tr>\n",
              "    <tr>\n",
              "      <th>2021-06-21 05:25:15</th>\n",
              "      <td>0.085145</td>\n",
              "    </tr>\n",
              "    <tr>\n",
              "      <th>2021-06-21 05:25:16</th>\n",
              "      <td>0.085145</td>\n",
              "    </tr>\n",
              "    <tr>\n",
              "      <th>2021-06-21 05:25:17</th>\n",
              "      <td>0.085145</td>\n",
              "    </tr>\n",
              "  </tbody>\n",
              "</table>\n",
              "</div>"
            ],
            "text/plain": [
              "                     AS_P113B\n",
              "Date                         \n",
              "2021-06-21 05:25:13  0.085145\n",
              "2021-06-21 05:25:14  0.085145\n",
              "2021-06-21 05:25:15  0.085145\n",
              "2021-06-21 05:25:16  0.085145\n",
              "2021-06-21 05:25:17  0.085145"
            ]
          },
          "metadata": {},
          "execution_count": 244
        }
      ]
    },
    {
      "cell_type": "code",
      "metadata": {
        "colab": {
          "base_uri": "https://localhost:8080/",
          "height": 454
        },
        "id": "Qn9Qwk0fNRBd",
        "outputId": "4f2bfe2b-1e84-43ba-b335-b5c9f6c7dd42"
      },
      "source": [
        "allDF"
      ],
      "execution_count": 245,
      "outputs": [
        {
          "output_type": "execute_result",
          "data": {
            "text/html": [
              "<div>\n",
              "<style scoped>\n",
              "    .dataframe tbody tr th:only-of-type {\n",
              "        vertical-align: middle;\n",
              "    }\n",
              "\n",
              "    .dataframe tbody tr th {\n",
              "        vertical-align: top;\n",
              "    }\n",
              "\n",
              "    .dataframe thead th {\n",
              "        text-align: right;\n",
              "    }\n",
              "</style>\n",
              "<table border=\"1\" class=\"dataframe\">\n",
              "  <thead>\n",
              "    <tr style=\"text-align: right;\">\n",
              "      <th></th>\n",
              "      <th>AS_P113B</th>\n",
              "      <th>AS_PH113</th>\n",
              "      <th>AS_T113F</th>\n",
              "      <th>AS_T1131</th>\n",
              "      <th>AS_T1132</th>\n",
              "      <th>AS_T1133</th>\n",
              "      <th>AS_T1134</th>\n",
              "      <th>AS_T1135</th>\n",
              "    </tr>\n",
              "    <tr>\n",
              "      <th>Date</th>\n",
              "      <th></th>\n",
              "      <th></th>\n",
              "      <th></th>\n",
              "      <th></th>\n",
              "      <th></th>\n",
              "      <th></th>\n",
              "      <th></th>\n",
              "      <th></th>\n",
              "    </tr>\n",
              "  </thead>\n",
              "  <tbody>\n",
              "    <tr>\n",
              "      <th>2021-06-21 05:25:13</th>\n",
              "      <td>0.085145</td>\n",
              "      <td>12.000000</td>\n",
              "      <td>32.623787</td>\n",
              "      <td>88.632034</td>\n",
              "      <td>29.072250</td>\n",
              "      <td>29.194321</td>\n",
              "      <td>30.231174</td>\n",
              "      <td>31.964600</td>\n",
              "    </tr>\n",
              "    <tr>\n",
              "      <th>2021-06-21 05:25:14</th>\n",
              "      <td>0.085145</td>\n",
              "      <td>12.000000</td>\n",
              "      <td>32.631722</td>\n",
              "      <td>82.617309</td>\n",
              "      <td>29.016936</td>\n",
              "      <td>29.157318</td>\n",
              "      <td>30.234989</td>\n",
              "      <td>31.964600</td>\n",
              "    </tr>\n",
              "    <tr>\n",
              "      <th>2021-06-21 05:25:15</th>\n",
              "      <td>0.085145</td>\n",
              "      <td>12.000000</td>\n",
              "      <td>32.639657</td>\n",
              "      <td>76.602583</td>\n",
              "      <td>28.961623</td>\n",
              "      <td>29.120316</td>\n",
              "      <td>30.238804</td>\n",
              "      <td>31.964600</td>\n",
              "    </tr>\n",
              "    <tr>\n",
              "      <th>2021-06-21 05:25:16</th>\n",
              "      <td>0.085145</td>\n",
              "      <td>12.000000</td>\n",
              "      <td>32.647592</td>\n",
              "      <td>70.587858</td>\n",
              "      <td>28.906309</td>\n",
              "      <td>29.083313</td>\n",
              "      <td>30.242619</td>\n",
              "      <td>31.964600</td>\n",
              "    </tr>\n",
              "    <tr>\n",
              "      <th>2021-06-21 05:25:17</th>\n",
              "      <td>0.085145</td>\n",
              "      <td>12.000000</td>\n",
              "      <td>32.655527</td>\n",
              "      <td>64.573132</td>\n",
              "      <td>28.850995</td>\n",
              "      <td>29.046310</td>\n",
              "      <td>30.246433</td>\n",
              "      <td>31.964600</td>\n",
              "    </tr>\n",
              "    <tr>\n",
              "      <th>...</th>\n",
              "      <td>...</td>\n",
              "      <td>...</td>\n",
              "      <td>...</td>\n",
              "      <td>...</td>\n",
              "      <td>...</td>\n",
              "      <td>...</td>\n",
              "      <td>...</td>\n",
              "      <td>...</td>\n",
              "    </tr>\n",
              "    <tr>\n",
              "      <th>2021-06-25 23:59:39</th>\n",
              "      <td>0.107805</td>\n",
              "      <td>9.287937</td>\n",
              "      <td>47.000839</td>\n",
              "      <td>32.993820</td>\n",
              "      <td>42.062637</td>\n",
              "      <td>35.588806</td>\n",
              "      <td>46.662090</td>\n",
              "      <td>46.710918</td>\n",
              "    </tr>\n",
              "    <tr>\n",
              "      <th>2021-06-25 23:59:40</th>\n",
              "      <td>0.107805</td>\n",
              "      <td>9.287842</td>\n",
              "      <td>47.000839</td>\n",
              "      <td>32.993820</td>\n",
              "      <td>42.053864</td>\n",
              "      <td>35.584038</td>\n",
              "      <td>46.662090</td>\n",
              "      <td>46.710918</td>\n",
              "    </tr>\n",
              "    <tr>\n",
              "      <th>2021-06-25 23:59:41</th>\n",
              "      <td>0.107805</td>\n",
              "      <td>9.287746</td>\n",
              "      <td>47.000839</td>\n",
              "      <td>32.993820</td>\n",
              "      <td>42.056057</td>\n",
              "      <td>35.579174</td>\n",
              "      <td>46.660030</td>\n",
              "      <td>46.710918</td>\n",
              "    </tr>\n",
              "    <tr>\n",
              "      <th>2021-06-25 23:59:42</th>\n",
              "      <td>0.107805</td>\n",
              "      <td>9.287651</td>\n",
              "      <td>47.000839</td>\n",
              "      <td>32.993820</td>\n",
              "      <td>42.058250</td>\n",
              "      <td>35.574310</td>\n",
              "      <td>46.657970</td>\n",
              "      <td>46.710918</td>\n",
              "    </tr>\n",
              "    <tr>\n",
              "      <th>2021-06-25 23:59:43</th>\n",
              "      <td>0.107805</td>\n",
              "      <td>9.287556</td>\n",
              "      <td>47.000839</td>\n",
              "      <td>32.993820</td>\n",
              "      <td>42.060444</td>\n",
              "      <td>35.569447</td>\n",
              "      <td>46.655910</td>\n",
              "      <td>46.710918</td>\n",
              "    </tr>\n",
              "  </tbody>\n",
              "</table>\n",
              "<p>412471 rows × 8 columns</p>\n",
              "</div>"
            ],
            "text/plain": [
              "                     AS_P113B   AS_PH113  ...   AS_T1134   AS_T1135\n",
              "Date                                      ...                      \n",
              "2021-06-21 05:25:13  0.085145  12.000000  ...  30.231174  31.964600\n",
              "2021-06-21 05:25:14  0.085145  12.000000  ...  30.234989  31.964600\n",
              "2021-06-21 05:25:15  0.085145  12.000000  ...  30.238804  31.964600\n",
              "2021-06-21 05:25:16  0.085145  12.000000  ...  30.242619  31.964600\n",
              "2021-06-21 05:25:17  0.085145  12.000000  ...  30.246433  31.964600\n",
              "...                       ...        ...  ...        ...        ...\n",
              "2021-06-25 23:59:39  0.107805   9.287937  ...  46.662090  46.710918\n",
              "2021-06-25 23:59:40  0.107805   9.287842  ...  46.662090  46.710918\n",
              "2021-06-25 23:59:41  0.107805   9.287746  ...  46.660030  46.710918\n",
              "2021-06-25 23:59:42  0.107805   9.287651  ...  46.657970  46.710918\n",
              "2021-06-25 23:59:43  0.107805   9.287556  ...  46.655910  46.710918\n",
              "\n",
              "[412471 rows x 8 columns]"
            ]
          },
          "metadata": {},
          "execution_count": 245
        }
      ]
    }
  ]
}