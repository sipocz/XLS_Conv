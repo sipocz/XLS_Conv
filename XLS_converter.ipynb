{
  "nbformat": 4,
  "nbformat_minor": 0,
  "metadata": {
    "colab": {
      "name": "XLS_converter.ipynb",
      "provenance": [],
      "authorship_tag": "ABX9TyMA5S7fzHE8MQzV5KlRbe17",
      "include_colab_link": true
    },
    "kernelspec": {
      "name": "python3",
      "display_name": "Python 3"
    },
    "language_info": {
      "name": "python"
    }
  },
  "cells": [
    {
      "cell_type": "markdown",
      "metadata": {
        "id": "view-in-github",
        "colab_type": "text"
      },
      "source": [
        "<a href=\"https://colab.research.google.com/github/sipocz/XLS_Conv/blob/main/XLS_converter.ipynb\" target=\"_parent\"><img src=\"https://colab.research.google.com/assets/colab-badge.svg\" alt=\"Open In Colab\"/></a>"
      ]
    },
    {
      "cell_type": "code",
      "metadata": {
        "id": "nauIEJwU_0eR"
      },
      "source": [
        "import pandas as pd\n",
        "import os"
      ],
      "execution_count": 1,
      "outputs": []
    },
    {
      "cell_type": "code",
      "metadata": {
        "id": "B8dCwSpAAp77"
      },
      "source": [
        "!rm *.xlsx*"
      ],
      "execution_count": 2,
      "outputs": []
    },
    {
      "cell_type": "code",
      "metadata": {
        "id": "15mhY8XZAZsY"
      },
      "source": [
        "urlname=\"https://github.com/sipocz/XLS_Conv/raw/main/U113_20210621.xlsx\"\n",
        "_,fname= os.path.split(urlname)"
      ],
      "execution_count": 3,
      "outputs": []
    },
    {
      "cell_type": "code",
      "metadata": {
        "id": "n_BQX4J-B165"
      },
      "source": [
        ""
      ],
      "execution_count": 3,
      "outputs": []
    },
    {
      "cell_type": "code",
      "metadata": {
        "colab": {
          "base_uri": "https://localhost:8080/"
        },
        "id": "h6RS-a75_8u5",
        "outputId": "a164c3fc-e8d1-4cf2-87ea-59382c354432"
      },
      "source": [
        "!wget $urlname"
      ],
      "execution_count": 4,
      "outputs": [
        {
          "output_type": "stream",
          "name": "stdout",
          "text": [
            "--2021-09-25 15:01:33--  https://github.com/sipocz/XLS_Conv/raw/main/U113_20210621.xlsx\n",
            "Resolving github.com (github.com)... 140.82.114.3\n",
            "Connecting to github.com (github.com)|140.82.114.3|:443... connected.\n",
            "HTTP request sent, awaiting response... 302 Found\n",
            "Location: https://raw.githubusercontent.com/sipocz/XLS_Conv/main/U113_20210621.xlsx [following]\n",
            "--2021-09-25 15:01:33--  https://raw.githubusercontent.com/sipocz/XLS_Conv/main/U113_20210621.xlsx\n",
            "Resolving raw.githubusercontent.com (raw.githubusercontent.com)... 185.199.108.133, 185.199.109.133, 185.199.110.133, ...\n",
            "Connecting to raw.githubusercontent.com (raw.githubusercontent.com)|185.199.108.133|:443... connected.\n",
            "HTTP request sent, awaiting response... 200 OK\n",
            "Length: 5550077 (5.3M) [application/octet-stream]\n",
            "Saving to: ‘U113_20210621.xlsx’\n",
            "\n",
            "U113_20210621.xlsx  100%[===================>]   5.29M  --.-KB/s    in 0.06s   \n",
            "\n",
            "2021-09-25 15:01:34 (87.6 MB/s) - ‘U113_20210621.xlsx’ saved [5550077/5550077]\n",
            "\n"
          ]
        }
      ]
    },
    {
      "cell_type": "code",
      "metadata": {
        "id": "DxqdvnRkARhK"
      },
      "source": [
        "df=pd.read_excel(fname,sheet_name=3)"
      ],
      "execution_count": 5,
      "outputs": []
    },
    {
      "cell_type": "code",
      "metadata": {
        "id": "bwxlDg1yEPOf"
      },
      "source": [
        "df.columns=[\"Date\",\"Value\",\"Status\"]"
      ],
      "execution_count": 6,
      "outputs": []
    },
    {
      "cell_type": "code",
      "metadata": {
        "colab": {
          "base_uri": "https://localhost:8080/",
          "height": 202
        },
        "id": "NRFMv3-vB_8r",
        "outputId": "76942ccb-7965-46b6-c667-fc555b2a995f"
      },
      "source": [
        "df.tail()"
      ],
      "execution_count": 7,
      "outputs": [
        {
          "output_type": "execute_result",
          "data": {
            "text/html": [
              "<div>\n",
              "<style scoped>\n",
              "    .dataframe tbody tr th:only-of-type {\n",
              "        vertical-align: middle;\n",
              "    }\n",
              "\n",
              "    .dataframe tbody tr th {\n",
              "        vertical-align: top;\n",
              "    }\n",
              "\n",
              "    .dataframe thead th {\n",
              "        text-align: right;\n",
              "    }\n",
              "</style>\n",
              "<table border=\"1\" class=\"dataframe\">\n",
              "  <thead>\n",
              "    <tr style=\"text-align: right;\">\n",
              "      <th></th>\n",
              "      <th>Date</th>\n",
              "      <th>Value</th>\n",
              "      <th>Status</th>\n",
              "    </tr>\n",
              "  </thead>\n",
              "  <tbody>\n",
              "    <tr>\n",
              "      <th>29168</th>\n",
              "      <td>2021-06-25 23:59:00</td>\n",
              "      <td>33.093002</td>\n",
              "      <td>OK</td>\n",
              "    </tr>\n",
              "    <tr>\n",
              "      <th>29169</th>\n",
              "      <td>2021-06-25 23:59:20</td>\n",
              "      <td>33.093002</td>\n",
              "      <td>OK</td>\n",
              "    </tr>\n",
              "    <tr>\n",
              "      <th>29170</th>\n",
              "      <td>2021-06-25 23:59:30</td>\n",
              "      <td>32.993820</td>\n",
              "      <td>OK</td>\n",
              "    </tr>\n",
              "    <tr>\n",
              "      <th>29171</th>\n",
              "      <td>2021-06-25 23:59:50</td>\n",
              "      <td>32.993820</td>\n",
              "      <td>OK</td>\n",
              "    </tr>\n",
              "    <tr>\n",
              "      <th>29172</th>\n",
              "      <td>True</td>\n",
              "      <td>NaN</td>\n",
              "      <td>NaN</td>\n",
              "    </tr>\n",
              "  </tbody>\n",
              "</table>\n",
              "</div>"
            ],
            "text/plain": [
              "                      Date      Value Status\n",
              "29168  2021-06-25 23:59:00  33.093002     OK\n",
              "29169  2021-06-25 23:59:20  33.093002     OK\n",
              "29170  2021-06-25 23:59:30  32.993820     OK\n",
              "29171  2021-06-25 23:59:50  32.993820     OK\n",
              "29172                 True        NaN    NaN"
            ]
          },
          "metadata": {},
          "execution_count": 7
        }
      ]
    },
    {
      "cell_type": "code",
      "metadata": {
        "id": "flflyrJKd_kl"
      },
      "source": [
        "df.dropna(inplace=True)"
      ],
      "execution_count": 8,
      "outputs": []
    },
    {
      "cell_type": "code",
      "metadata": {
        "colab": {
          "base_uri": "https://localhost:8080/"
        },
        "id": "YXNURyA3IwDn",
        "outputId": "70407d6e-5fcf-4d83-c84d-134fd29c309e"
      },
      "source": [
        "df.Date[0]"
      ],
      "execution_count": 9,
      "outputs": [
        {
          "output_type": "execute_result",
          "data": {
            "text/plain": [
              "datetime.datetime(2021, 6, 21, 0, 0, 22)"
            ]
          },
          "metadata": {},
          "execution_count": 9
        }
      ]
    },
    {
      "cell_type": "code",
      "metadata": {
        "id": "jy1NKgXLGhlE"
      },
      "source": [
        "#pd.to_datetime(df.Date, format=\"%Y-%m-%d %H:%M:%S\")"
      ],
      "execution_count": 10,
      "outputs": []
    },
    {
      "cell_type": "code",
      "metadata": {
        "id": "SoIxMQbXKo04"
      },
      "source": [
        "df.index=df.Date"
      ],
      "execution_count": 11,
      "outputs": []
    },
    {
      "cell_type": "code",
      "metadata": {
        "colab": {
          "base_uri": "https://localhost:8080/",
          "height": 294
        },
        "id": "5aZE66prEU5r",
        "outputId": "f73c5a31-fb5d-45ba-d687-3e8c4b6eb72b"
      },
      "source": [
        "df.describe()"
      ],
      "execution_count": 12,
      "outputs": [
        {
          "output_type": "execute_result",
          "data": {
            "text/html": [
              "<div>\n",
              "<style scoped>\n",
              "    .dataframe tbody tr th:only-of-type {\n",
              "        vertical-align: middle;\n",
              "    }\n",
              "\n",
              "    .dataframe tbody tr th {\n",
              "        vertical-align: top;\n",
              "    }\n",
              "\n",
              "    .dataframe thead th {\n",
              "        text-align: right;\n",
              "    }\n",
              "</style>\n",
              "<table border=\"1\" class=\"dataframe\">\n",
              "  <thead>\n",
              "    <tr style=\"text-align: right;\">\n",
              "      <th></th>\n",
              "      <th>Value</th>\n",
              "    </tr>\n",
              "  </thead>\n",
              "  <tbody>\n",
              "    <tr>\n",
              "      <th>count</th>\n",
              "      <td>29172.000000</td>\n",
              "    </tr>\n",
              "    <tr>\n",
              "      <th>mean</th>\n",
              "      <td>61.818723</td>\n",
              "    </tr>\n",
              "    <tr>\n",
              "      <th>std</th>\n",
              "      <td>24.257954</td>\n",
              "    </tr>\n",
              "    <tr>\n",
              "      <th>min</th>\n",
              "      <td>-50.000000</td>\n",
              "    </tr>\n",
              "    <tr>\n",
              "      <th>25%</th>\n",
              "      <td>69.741356</td>\n",
              "    </tr>\n",
              "    <tr>\n",
              "      <th>50%</th>\n",
              "      <td>70.767532</td>\n",
              "    </tr>\n",
              "    <tr>\n",
              "      <th>75%</th>\n",
              "      <td>72.743568</td>\n",
              "    </tr>\n",
              "    <tr>\n",
              "      <th>max</th>\n",
              "      <td>200.000000</td>\n",
              "    </tr>\n",
              "  </tbody>\n",
              "</table>\n",
              "</div>"
            ],
            "text/plain": [
              "              Value\n",
              "count  29172.000000\n",
              "mean      61.818723\n",
              "std       24.257954\n",
              "min      -50.000000\n",
              "25%       69.741356\n",
              "50%       70.767532\n",
              "75%       72.743568\n",
              "max      200.000000"
            ]
          },
          "metadata": {},
          "execution_count": 12
        }
      ]
    },
    {
      "cell_type": "code",
      "metadata": {
        "colab": {
          "base_uri": "https://localhost:8080/"
        },
        "id": "piAkz2k_JMyZ",
        "outputId": "9a01d88f-81c3-4ed6-c546-93254bd9bd29"
      },
      "source": [
        "df.Date.values[-1]"
      ],
      "execution_count": 13,
      "outputs": [
        {
          "output_type": "execute_result",
          "data": {
            "text/plain": [
              "datetime.datetime(2021, 6, 25, 23, 59, 50)"
            ]
          },
          "metadata": {},
          "execution_count": 13
        }
      ]
    },
    {
      "cell_type": "code",
      "metadata": {
        "id": "8FK7nslyEh2l"
      },
      "source": [
        "new_range = pd.date_range(df.Date.values[0], df.Date.values[-2], freq='10S')"
      ],
      "execution_count": 14,
      "outputs": []
    },
    {
      "cell_type": "code",
      "metadata": {
        "colab": {
          "base_uri": "https://localhost:8080/"
        },
        "id": "mZtEs6KhK3GX",
        "outputId": "69a64b5a-325c-4d3e-ddca-d03792a2f565"
      },
      "source": [
        "new_range"
      ],
      "execution_count": 15,
      "outputs": [
        {
          "output_type": "execute_result",
          "data": {
            "text/plain": [
              "DatetimeIndex(['2021-06-21 00:00:22', '2021-06-21 00:00:32',\n",
              "               '2021-06-21 00:00:42', '2021-06-21 00:00:52',\n",
              "               '2021-06-21 00:01:02', '2021-06-21 00:01:12',\n",
              "               '2021-06-21 00:01:22', '2021-06-21 00:01:32',\n",
              "               '2021-06-21 00:01:42', '2021-06-21 00:01:52',\n",
              "               ...\n",
              "               '2021-06-25 23:57:52', '2021-06-25 23:58:02',\n",
              "               '2021-06-25 23:58:12', '2021-06-25 23:58:22',\n",
              "               '2021-06-25 23:58:32', '2021-06-25 23:58:42',\n",
              "               '2021-06-25 23:58:52', '2021-06-25 23:59:02',\n",
              "               '2021-06-25 23:59:12', '2021-06-25 23:59:22'],\n",
              "              dtype='datetime64[ns]', length=43195, freq='10S')"
            ]
          },
          "metadata": {},
          "execution_count": 15
        }
      ]
    },
    {
      "cell_type": "code",
      "metadata": {
        "colab": {
          "base_uri": "https://localhost:8080/"
        },
        "id": "mKFMoS2iOWIw",
        "outputId": "cd4cf9c6-141c-48d8-9bf7-596c4e88ac88"
      },
      "source": [
        "type(df)"
      ],
      "execution_count": 16,
      "outputs": [
        {
          "output_type": "execute_result",
          "data": {
            "text/plain": [
              "pandas.core.frame.DataFrame"
            ]
          },
          "metadata": {},
          "execution_count": 16
        }
      ]
    },
    {
      "cell_type": "code",
      "metadata": {
        "id": "tLr_xFnDLnKk"
      },
      "source": [
        "df.set_index(\"Date\",inplace=True)"
      ],
      "execution_count": 17,
      "outputs": []
    },
    {
      "cell_type": "code",
      "metadata": {
        "colab": {
          "base_uri": "https://localhost:8080/",
          "height": 232
        },
        "id": "PBw3z1UxTZnT",
        "outputId": "21dda19d-07f5-4bd9-f2d0-f273716d00f4"
      },
      "source": [
        "df.head()"
      ],
      "execution_count": 18,
      "outputs": [
        {
          "output_type": "execute_result",
          "data": {
            "text/html": [
              "<div>\n",
              "<style scoped>\n",
              "    .dataframe tbody tr th:only-of-type {\n",
              "        vertical-align: middle;\n",
              "    }\n",
              "\n",
              "    .dataframe tbody tr th {\n",
              "        vertical-align: top;\n",
              "    }\n",
              "\n",
              "    .dataframe thead th {\n",
              "        text-align: right;\n",
              "    }\n",
              "</style>\n",
              "<table border=\"1\" class=\"dataframe\">\n",
              "  <thead>\n",
              "    <tr style=\"text-align: right;\">\n",
              "      <th></th>\n",
              "      <th>Value</th>\n",
              "      <th>Status</th>\n",
              "    </tr>\n",
              "    <tr>\n",
              "      <th>Date</th>\n",
              "      <th></th>\n",
              "      <th></th>\n",
              "    </tr>\n",
              "  </thead>\n",
              "  <tbody>\n",
              "    <tr>\n",
              "      <th>2021-06-21 00:00:22</th>\n",
              "      <td>-50.0</td>\n",
              "      <td>Bad Data</td>\n",
              "    </tr>\n",
              "    <tr>\n",
              "      <th>2021-06-21 00:00:42</th>\n",
              "      <td>-50.0</td>\n",
              "      <td>Bad Data</td>\n",
              "    </tr>\n",
              "    <tr>\n",
              "      <th>2021-06-21 00:01:02</th>\n",
              "      <td>-50.0</td>\n",
              "      <td>Bad Data</td>\n",
              "    </tr>\n",
              "    <tr>\n",
              "      <th>2021-06-21 00:01:22</th>\n",
              "      <td>-50.0</td>\n",
              "      <td>Bad Data</td>\n",
              "    </tr>\n",
              "    <tr>\n",
              "      <th>2021-06-21 00:01:42</th>\n",
              "      <td>-50.0</td>\n",
              "      <td>Bad Data</td>\n",
              "    </tr>\n",
              "  </tbody>\n",
              "</table>\n",
              "</div>"
            ],
            "text/plain": [
              "                     Value    Status\n",
              "Date                                \n",
              "2021-06-21 00:00:22  -50.0  Bad Data\n",
              "2021-06-21 00:00:42  -50.0  Bad Data\n",
              "2021-06-21 00:01:02  -50.0  Bad Data\n",
              "2021-06-21 00:01:22  -50.0  Bad Data\n",
              "2021-06-21 00:01:42  -50.0  Bad Data"
            ]
          },
          "metadata": {},
          "execution_count": 18
        }
      ]
    },
    {
      "cell_type": "code",
      "metadata": {
        "id": "9lNusBvkdZHL"
      },
      "source": [
        ""
      ],
      "execution_count": 18,
      "outputs": []
    },
    {
      "cell_type": "code",
      "metadata": {
        "id": "OKD0EMhmPCa6"
      },
      "source": [
        ""
      ],
      "execution_count": 18,
      "outputs": []
    },
    {
      "cell_type": "code",
      "metadata": {
        "colab": {
          "base_uri": "https://localhost:8080/",
          "height": 232
        },
        "id": "QuikGNIpMW0j",
        "outputId": "781b9017-c2b3-4bef-df85-9a1ee9b5a015"
      },
      "source": [
        "df.head()"
      ],
      "execution_count": 19,
      "outputs": [
        {
          "output_type": "execute_result",
          "data": {
            "text/html": [
              "<div>\n",
              "<style scoped>\n",
              "    .dataframe tbody tr th:only-of-type {\n",
              "        vertical-align: middle;\n",
              "    }\n",
              "\n",
              "    .dataframe tbody tr th {\n",
              "        vertical-align: top;\n",
              "    }\n",
              "\n",
              "    .dataframe thead th {\n",
              "        text-align: right;\n",
              "    }\n",
              "</style>\n",
              "<table border=\"1\" class=\"dataframe\">\n",
              "  <thead>\n",
              "    <tr style=\"text-align: right;\">\n",
              "      <th></th>\n",
              "      <th>Value</th>\n",
              "      <th>Status</th>\n",
              "    </tr>\n",
              "    <tr>\n",
              "      <th>Date</th>\n",
              "      <th></th>\n",
              "      <th></th>\n",
              "    </tr>\n",
              "  </thead>\n",
              "  <tbody>\n",
              "    <tr>\n",
              "      <th>2021-06-21 00:00:22</th>\n",
              "      <td>-50.0</td>\n",
              "      <td>Bad Data</td>\n",
              "    </tr>\n",
              "    <tr>\n",
              "      <th>2021-06-21 00:00:42</th>\n",
              "      <td>-50.0</td>\n",
              "      <td>Bad Data</td>\n",
              "    </tr>\n",
              "    <tr>\n",
              "      <th>2021-06-21 00:01:02</th>\n",
              "      <td>-50.0</td>\n",
              "      <td>Bad Data</td>\n",
              "    </tr>\n",
              "    <tr>\n",
              "      <th>2021-06-21 00:01:22</th>\n",
              "      <td>-50.0</td>\n",
              "      <td>Bad Data</td>\n",
              "    </tr>\n",
              "    <tr>\n",
              "      <th>2021-06-21 00:01:42</th>\n",
              "      <td>-50.0</td>\n",
              "      <td>Bad Data</td>\n",
              "    </tr>\n",
              "  </tbody>\n",
              "</table>\n",
              "</div>"
            ],
            "text/plain": [
              "                     Value    Status\n",
              "Date                                \n",
              "2021-06-21 00:00:22  -50.0  Bad Data\n",
              "2021-06-21 00:00:42  -50.0  Bad Data\n",
              "2021-06-21 00:01:02  -50.0  Bad Data\n",
              "2021-06-21 00:01:22  -50.0  Bad Data\n",
              "2021-06-21 00:01:42  -50.0  Bad Data"
            ]
          },
          "metadata": {},
          "execution_count": 19
        }
      ]
    },
    {
      "cell_type": "code",
      "metadata": {
        "id": "jBFd6zuIRWYX"
      },
      "source": [
        "bad_data=df[df[\"Status\"]==\"Bad Data\"].index"
      ],
      "execution_count": 20,
      "outputs": []
    },
    {
      "cell_type": "code",
      "metadata": {
        "colab": {
          "base_uri": "https://localhost:8080/"
        },
        "id": "fheQ1NQBRxhC",
        "outputId": "5afeebb8-956f-42d3-b6cb-be6ea7112931"
      },
      "source": [
        "bad_data"
      ],
      "execution_count": 21,
      "outputs": [
        {
          "output_type": "execute_result",
          "data": {
            "text/plain": [
              "DatetimeIndex(['2021-06-21 00:00:22', '2021-06-21 00:00:42',\n",
              "               '2021-06-21 00:01:02', '2021-06-21 00:01:22',\n",
              "               '2021-06-21 00:01:42', '2021-06-21 00:02:02',\n",
              "               '2021-06-21 00:02:22', '2021-06-21 00:02:42',\n",
              "               '2021-06-21 00:03:02', '2021-06-21 00:03:22',\n",
              "               ...\n",
              "               '2021-06-21 05:22:02', '2021-06-21 05:22:22',\n",
              "               '2021-06-21 05:22:42', '2021-06-21 05:23:02',\n",
              "               '2021-06-21 05:23:22', '2021-06-21 05:23:42',\n",
              "               '2021-06-21 05:24:02', '2021-06-21 05:24:22',\n",
              "               '2021-06-21 05:24:42', '2021-06-21 05:25:02'],\n",
              "              dtype='datetime64[ns]', name='Date', length=975, freq=None)"
            ]
          },
          "metadata": {},
          "execution_count": 21
        }
      ]
    },
    {
      "cell_type": "code",
      "metadata": {
        "id": "xZPnVWMccTEH"
      },
      "source": [
        ""
      ],
      "execution_count": 21,
      "outputs": []
    },
    {
      "cell_type": "code",
      "metadata": {
        "colab": {
          "base_uri": "https://localhost:8080/",
          "height": 445
        },
        "id": "zJKVOeG7clxL",
        "outputId": "6acb96be-3d6f-4c0e-dfc1-8b738b0fe893"
      },
      "source": [
        "df"
      ],
      "execution_count": 22,
      "outputs": [
        {
          "output_type": "execute_result",
          "data": {
            "text/html": [
              "<div>\n",
              "<style scoped>\n",
              "    .dataframe tbody tr th:only-of-type {\n",
              "        vertical-align: middle;\n",
              "    }\n",
              "\n",
              "    .dataframe tbody tr th {\n",
              "        vertical-align: top;\n",
              "    }\n",
              "\n",
              "    .dataframe thead th {\n",
              "        text-align: right;\n",
              "    }\n",
              "</style>\n",
              "<table border=\"1\" class=\"dataframe\">\n",
              "  <thead>\n",
              "    <tr style=\"text-align: right;\">\n",
              "      <th></th>\n",
              "      <th>Value</th>\n",
              "      <th>Status</th>\n",
              "    </tr>\n",
              "    <tr>\n",
              "      <th>Date</th>\n",
              "      <th></th>\n",
              "      <th></th>\n",
              "    </tr>\n",
              "  </thead>\n",
              "  <tbody>\n",
              "    <tr>\n",
              "      <th>2021-06-21 00:00:22</th>\n",
              "      <td>-50.000000</td>\n",
              "      <td>Bad Data</td>\n",
              "    </tr>\n",
              "    <tr>\n",
              "      <th>2021-06-21 00:00:42</th>\n",
              "      <td>-50.000000</td>\n",
              "      <td>Bad Data</td>\n",
              "    </tr>\n",
              "    <tr>\n",
              "      <th>2021-06-21 00:01:02</th>\n",
              "      <td>-50.000000</td>\n",
              "      <td>Bad Data</td>\n",
              "    </tr>\n",
              "    <tr>\n",
              "      <th>2021-06-21 00:01:22</th>\n",
              "      <td>-50.000000</td>\n",
              "      <td>Bad Data</td>\n",
              "    </tr>\n",
              "    <tr>\n",
              "      <th>2021-06-21 00:01:42</th>\n",
              "      <td>-50.000000</td>\n",
              "      <td>Bad Data</td>\n",
              "    </tr>\n",
              "    <tr>\n",
              "      <th>...</th>\n",
              "      <td>...</td>\n",
              "      <td>...</td>\n",
              "    </tr>\n",
              "    <tr>\n",
              "      <th>2021-06-25 23:58:40</th>\n",
              "      <td>33.093002</td>\n",
              "      <td>OK</td>\n",
              "    </tr>\n",
              "    <tr>\n",
              "      <th>2021-06-25 23:59:00</th>\n",
              "      <td>33.093002</td>\n",
              "      <td>OK</td>\n",
              "    </tr>\n",
              "    <tr>\n",
              "      <th>2021-06-25 23:59:20</th>\n",
              "      <td>33.093002</td>\n",
              "      <td>OK</td>\n",
              "    </tr>\n",
              "    <tr>\n",
              "      <th>2021-06-25 23:59:30</th>\n",
              "      <td>32.993820</td>\n",
              "      <td>OK</td>\n",
              "    </tr>\n",
              "    <tr>\n",
              "      <th>2021-06-25 23:59:50</th>\n",
              "      <td>32.993820</td>\n",
              "      <td>OK</td>\n",
              "    </tr>\n",
              "  </tbody>\n",
              "</table>\n",
              "<p>29172 rows × 2 columns</p>\n",
              "</div>"
            ],
            "text/plain": [
              "                         Value    Status\n",
              "Date                                    \n",
              "2021-06-21 00:00:22 -50.000000  Bad Data\n",
              "2021-06-21 00:00:42 -50.000000  Bad Data\n",
              "2021-06-21 00:01:02 -50.000000  Bad Data\n",
              "2021-06-21 00:01:22 -50.000000  Bad Data\n",
              "2021-06-21 00:01:42 -50.000000  Bad Data\n",
              "...                        ...       ...\n",
              "2021-06-25 23:58:40  33.093002        OK\n",
              "2021-06-25 23:59:00  33.093002        OK\n",
              "2021-06-25 23:59:20  33.093002        OK\n",
              "2021-06-25 23:59:30  32.993820        OK\n",
              "2021-06-25 23:59:50  32.993820        OK\n",
              "\n",
              "[29172 rows x 2 columns]"
            ]
          },
          "metadata": {},
          "execution_count": 22
        }
      ]
    },
    {
      "cell_type": "code",
      "metadata": {
        "id": "LFtHG_ROQTgo"
      },
      "source": [
        "df.drop(index=bad_data,inplace=True)"
      ],
      "execution_count": 23,
      "outputs": []
    },
    {
      "cell_type": "code",
      "metadata": {
        "colab": {
          "base_uri": "https://localhost:8080/"
        },
        "id": "yRewMi8KMgSs",
        "outputId": "f714fa64-d873-42e7-d516-2f9834c274a1"
      },
      "source": [
        "type(df)"
      ],
      "execution_count": 24,
      "outputs": [
        {
          "output_type": "execute_result",
          "data": {
            "text/plain": [
              "pandas.core.frame.DataFrame"
            ]
          },
          "metadata": {},
          "execution_count": 24
        }
      ]
    },
    {
      "cell_type": "code",
      "metadata": {
        "colab": {
          "base_uri": "https://localhost:8080/",
          "height": 294
        },
        "id": "I746QkypLVQ0",
        "outputId": "61cffa1d-b5a6-4cf8-9092-fac29027b643"
      },
      "source": [
        "df.describe()"
      ],
      "execution_count": 25,
      "outputs": [
        {
          "output_type": "execute_result",
          "data": {
            "text/html": [
              "<div>\n",
              "<style scoped>\n",
              "    .dataframe tbody tr th:only-of-type {\n",
              "        vertical-align: middle;\n",
              "    }\n",
              "\n",
              "    .dataframe tbody tr th {\n",
              "        vertical-align: top;\n",
              "    }\n",
              "\n",
              "    .dataframe thead th {\n",
              "        text-align: right;\n",
              "    }\n",
              "</style>\n",
              "<table border=\"1\" class=\"dataframe\">\n",
              "  <thead>\n",
              "    <tr style=\"text-align: right;\">\n",
              "      <th></th>\n",
              "      <th>Value</th>\n",
              "    </tr>\n",
              "  </thead>\n",
              "  <tbody>\n",
              "    <tr>\n",
              "      <th>count</th>\n",
              "      <td>28197.000000</td>\n",
              "    </tr>\n",
              "    <tr>\n",
              "      <th>mean</th>\n",
              "      <td>65.685207</td>\n",
              "    </tr>\n",
              "    <tr>\n",
              "      <th>std</th>\n",
              "      <td>12.707699</td>\n",
              "    </tr>\n",
              "    <tr>\n",
              "      <th>min</th>\n",
              "      <td>27.264061</td>\n",
              "    </tr>\n",
              "    <tr>\n",
              "      <th>25%</th>\n",
              "      <td>70.126648</td>\n",
              "    </tr>\n",
              "    <tr>\n",
              "      <th>50%</th>\n",
              "      <td>70.767532</td>\n",
              "    </tr>\n",
              "    <tr>\n",
              "      <th>75%</th>\n",
              "      <td>72.846573</td>\n",
              "    </tr>\n",
              "    <tr>\n",
              "      <th>max</th>\n",
              "      <td>200.000000</td>\n",
              "    </tr>\n",
              "  </tbody>\n",
              "</table>\n",
              "</div>"
            ],
            "text/plain": [
              "              Value\n",
              "count  28197.000000\n",
              "mean      65.685207\n",
              "std       12.707699\n",
              "min       27.264061\n",
              "25%       70.126648\n",
              "50%       70.767532\n",
              "75%       72.846573\n",
              "max      200.000000"
            ]
          },
          "metadata": {},
          "execution_count": 25
        }
      ]
    },
    {
      "cell_type": "code",
      "metadata": {
        "colab": {
          "base_uri": "https://localhost:8080/",
          "height": 232
        },
        "id": "GEwYLlJUPk1B",
        "outputId": "3b8fb718-9cec-4006-d2bd-b013b16213ab"
      },
      "source": [
        "df.head()"
      ],
      "execution_count": 49,
      "outputs": [
        {
          "output_type": "execute_result",
          "data": {
            "text/html": [
              "<div>\n",
              "<style scoped>\n",
              "    .dataframe tbody tr th:only-of-type {\n",
              "        vertical-align: middle;\n",
              "    }\n",
              "\n",
              "    .dataframe tbody tr th {\n",
              "        vertical-align: top;\n",
              "    }\n",
              "\n",
              "    .dataframe thead th {\n",
              "        text-align: right;\n",
              "    }\n",
              "</style>\n",
              "<table border=\"1\" class=\"dataframe\">\n",
              "  <thead>\n",
              "    <tr style=\"text-align: right;\">\n",
              "      <th></th>\n",
              "      <th>Value</th>\n",
              "    </tr>\n",
              "    <tr>\n",
              "      <th>Date</th>\n",
              "      <th></th>\n",
              "    </tr>\n",
              "  </thead>\n",
              "  <tbody>\n",
              "    <tr>\n",
              "      <th>2021-06-21 05:25:10</th>\n",
              "      <td>200.000000</td>\n",
              "    </tr>\n",
              "    <tr>\n",
              "      <th>2021-06-21 05:25:13</th>\n",
              "      <td>88.632034</td>\n",
              "    </tr>\n",
              "    <tr>\n",
              "      <th>2021-06-21 05:25:23</th>\n",
              "      <td>28.484779</td>\n",
              "    </tr>\n",
              "    <tr>\n",
              "      <th>2021-06-21 05:25:40</th>\n",
              "      <td>28.385597</td>\n",
              "    </tr>\n",
              "    <tr>\n",
              "      <th>2021-06-21 05:25:50</th>\n",
              "      <td>28.484779</td>\n",
              "    </tr>\n",
              "  </tbody>\n",
              "</table>\n",
              "</div>"
            ],
            "text/plain": [
              "                          Value\n",
              "Date                           \n",
              "2021-06-21 05:25:10  200.000000\n",
              "2021-06-21 05:25:13   88.632034\n",
              "2021-06-21 05:25:23   28.484779\n",
              "2021-06-21 05:25:40   28.385597\n",
              "2021-06-21 05:25:50   28.484779"
            ]
          },
          "metadata": {},
          "execution_count": 49
        }
      ]
    },
    {
      "cell_type": "code",
      "metadata": {
        "id": "y4ZJQCYRLKZX"
      },
      "source": [
        "df.reset_index(inplace=True)"
      ],
      "execution_count": 27,
      "outputs": []
    },
    {
      "cell_type": "code",
      "metadata": {
        "id": "QaY46S1xXI5s"
      },
      "source": [
        "df.drop(columns=[\"Status\"], inplace=True)"
      ],
      "execution_count": 28,
      "outputs": []
    },
    {
      "cell_type": "code",
      "metadata": {
        "id": "4S4cr1lQEcz3"
      },
      "source": [
        ""
      ],
      "execution_count": 28,
      "outputs": []
    },
    {
      "cell_type": "code",
      "metadata": {
        "id": "D1b8EzcVhD3u"
      },
      "source": [
        "new_range = pd.date_range(df.index.values[0], df.index.values[-1], freq='10S')"
      ],
      "execution_count": 29,
      "outputs": []
    },
    {
      "cell_type": "code",
      "metadata": {
        "colab": {
          "base_uri": "https://localhost:8080/"
        },
        "id": "MWCFjph4jh_-",
        "outputId": "b4095868-8325-4406-f171-f9bd927a1289"
      },
      "source": [
        "new_range"
      ],
      "execution_count": 30,
      "outputs": [
        {
          "output_type": "execute_result",
          "data": {
            "text/plain": [
              "DatetimeIndex(['1970-01-01'], dtype='datetime64[ns]', freq='10S')"
            ]
          },
          "metadata": {},
          "execution_count": 30
        }
      ]
    },
    {
      "cell_type": "code",
      "metadata": {
        "colab": {
          "base_uri": "https://localhost:8080/",
          "height": 414
        },
        "id": "Nl5V3bD9MyS1",
        "outputId": "7c73788a-656c-41c5-9510-b76cce505a01"
      },
      "source": [
        "df.reindex()"
      ],
      "execution_count": 33,
      "outputs": [
        {
          "output_type": "execute_result",
          "data": {
            "text/html": [
              "<div>\n",
              "<style scoped>\n",
              "    .dataframe tbody tr th:only-of-type {\n",
              "        vertical-align: middle;\n",
              "    }\n",
              "\n",
              "    .dataframe tbody tr th {\n",
              "        vertical-align: top;\n",
              "    }\n",
              "\n",
              "    .dataframe thead th {\n",
              "        text-align: right;\n",
              "    }\n",
              "</style>\n",
              "<table border=\"1\" class=\"dataframe\">\n",
              "  <thead>\n",
              "    <tr style=\"text-align: right;\">\n",
              "      <th></th>\n",
              "      <th>Date</th>\n",
              "      <th>Value</th>\n",
              "    </tr>\n",
              "  </thead>\n",
              "  <tbody>\n",
              "    <tr>\n",
              "      <th>0</th>\n",
              "      <td>2021-06-21 05:25:10</td>\n",
              "      <td>200.000000</td>\n",
              "    </tr>\n",
              "    <tr>\n",
              "      <th>1</th>\n",
              "      <td>2021-06-21 05:25:13</td>\n",
              "      <td>88.632034</td>\n",
              "    </tr>\n",
              "    <tr>\n",
              "      <th>2</th>\n",
              "      <td>2021-06-21 05:25:23</td>\n",
              "      <td>28.484779</td>\n",
              "    </tr>\n",
              "    <tr>\n",
              "      <th>3</th>\n",
              "      <td>2021-06-21 05:25:40</td>\n",
              "      <td>28.385597</td>\n",
              "    </tr>\n",
              "    <tr>\n",
              "      <th>4</th>\n",
              "      <td>2021-06-21 05:25:50</td>\n",
              "      <td>28.484779</td>\n",
              "    </tr>\n",
              "    <tr>\n",
              "      <th>...</th>\n",
              "      <td>...</td>\n",
              "      <td>...</td>\n",
              "    </tr>\n",
              "    <tr>\n",
              "      <th>28192</th>\n",
              "      <td>2021-06-25 23:58:40</td>\n",
              "      <td>33.093002</td>\n",
              "    </tr>\n",
              "    <tr>\n",
              "      <th>28193</th>\n",
              "      <td>2021-06-25 23:59:00</td>\n",
              "      <td>33.093002</td>\n",
              "    </tr>\n",
              "    <tr>\n",
              "      <th>28194</th>\n",
              "      <td>2021-06-25 23:59:20</td>\n",
              "      <td>33.093002</td>\n",
              "    </tr>\n",
              "    <tr>\n",
              "      <th>28195</th>\n",
              "      <td>2021-06-25 23:59:30</td>\n",
              "      <td>32.993820</td>\n",
              "    </tr>\n",
              "    <tr>\n",
              "      <th>28196</th>\n",
              "      <td>2021-06-25 23:59:50</td>\n",
              "      <td>32.993820</td>\n",
              "    </tr>\n",
              "  </tbody>\n",
              "</table>\n",
              "<p>28197 rows × 2 columns</p>\n",
              "</div>"
            ],
            "text/plain": [
              "                     Date       Value\n",
              "0     2021-06-21 05:25:10  200.000000\n",
              "1     2021-06-21 05:25:13   88.632034\n",
              "2     2021-06-21 05:25:23   28.484779\n",
              "3     2021-06-21 05:25:40   28.385597\n",
              "4     2021-06-21 05:25:50   28.484779\n",
              "...                   ...         ...\n",
              "28192 2021-06-25 23:58:40   33.093002\n",
              "28193 2021-06-25 23:59:00   33.093002\n",
              "28194 2021-06-25 23:59:20   33.093002\n",
              "28195 2021-06-25 23:59:30   32.993820\n",
              "28196 2021-06-25 23:59:50   32.993820\n",
              "\n",
              "[28197 rows x 2 columns]"
            ]
          },
          "metadata": {},
          "execution_count": 33
        }
      ]
    },
    {
      "cell_type": "code",
      "metadata": {
        "id": "htzJCeRGdoQu"
      },
      "source": [
        "df.set_index(\"Date\",inplace=True)"
      ],
      "execution_count": 34,
      "outputs": []
    },
    {
      "cell_type": "code",
      "metadata": {
        "colab": {
          "base_uri": "https://localhost:8080/"
        },
        "id": "893GVVhue6Wo",
        "outputId": "a2628f30-bd39-4199-e42a-649676995ea1"
      },
      "source": [
        "df.Value"
      ],
      "execution_count": 48,
      "outputs": [
        {
          "output_type": "execute_result",
          "data": {
            "text/plain": [
              "Date\n",
              "2021-06-21 05:25:10    200.000000\n",
              "2021-06-21 05:25:13     88.632034\n",
              "2021-06-21 05:25:23     28.484779\n",
              "2021-06-21 05:25:40     28.385597\n",
              "2021-06-21 05:25:50     28.484779\n",
              "                          ...    \n",
              "2021-06-25 23:58:40     33.093002\n",
              "2021-06-25 23:59:00     33.093002\n",
              "2021-06-25 23:59:20     33.093002\n",
              "2021-06-25 23:59:30     32.993820\n",
              "2021-06-25 23:59:50     32.993820\n",
              "Name: Value, Length: 28197, dtype: float64"
            ]
          },
          "metadata": {},
          "execution_count": 48
        }
      ]
    },
    {
      "cell_type": "code",
      "metadata": {
        "colab": {
          "base_uri": "https://localhost:8080/",
          "height": 316
        },
        "id": "ZEn8-vQIdsrD",
        "outputId": "a81c9cff-8040-410a-ebcb-8bdb64c5a689"
      },
      "source": [
        "df2=df.Value.resample(\"5s\").pad()"
      ],
      "execution_count": 50,
      "outputs": [
        {
          "output_type": "error",
          "ename": "ValueError",
          "evalue": "ignored",
          "traceback": [
            "\u001b[0;31m---------------------------------------------------------------------------\u001b[0m",
            "\u001b[0;31mValueError\u001b[0m                                Traceback (most recent call last)",
            "\u001b[0;32m<ipython-input-50-b95b89a14dcb>\u001b[0m in \u001b[0;36m<module>\u001b[0;34m()\u001b[0m\n\u001b[0;32m----> 1\u001b[0;31m \u001b[0mdf2\u001b[0m\u001b[0;34m=\u001b[0m\u001b[0mdf\u001b[0m\u001b[0;34m.\u001b[0m\u001b[0mValue\u001b[0m\u001b[0;34m.\u001b[0m\u001b[0mresample\u001b[0m\u001b[0;34m(\u001b[0m\u001b[0;34m\"5s\"\u001b[0m\u001b[0;34m)\u001b[0m\u001b[0;34m.\u001b[0m\u001b[0mpad\u001b[0m\u001b[0;34m(\u001b[0m\u001b[0;34m)\u001b[0m\u001b[0;34m\u001b[0m\u001b[0;34m\u001b[0m\u001b[0m\n\u001b[0m",
            "\u001b[0;32m/usr/local/lib/python3.7/dist-packages/pandas/core/resample.py\u001b[0m in \u001b[0;36mpad\u001b[0;34m(self, limit)\u001b[0m\n\u001b[1;32m    454\u001b[0m         \u001b[0mDataFrame\u001b[0m\u001b[0;34m.\u001b[0m\u001b[0mfillna\u001b[0m\u001b[0;34m\u001b[0m\u001b[0;34m\u001b[0m\u001b[0m\n\u001b[1;32m    455\u001b[0m         \"\"\"\n\u001b[0;32m--> 456\u001b[0;31m         \u001b[0;32mreturn\u001b[0m \u001b[0mself\u001b[0m\u001b[0;34m.\u001b[0m\u001b[0m_upsample\u001b[0m\u001b[0;34m(\u001b[0m\u001b[0;34m\"pad\"\u001b[0m\u001b[0;34m,\u001b[0m \u001b[0mlimit\u001b[0m\u001b[0;34m=\u001b[0m\u001b[0mlimit\u001b[0m\u001b[0;34m)\u001b[0m\u001b[0;34m\u001b[0m\u001b[0;34m\u001b[0m\u001b[0m\n\u001b[0m\u001b[1;32m    457\u001b[0m \u001b[0;34m\u001b[0m\u001b[0m\n\u001b[1;32m    458\u001b[0m     \u001b[0mffill\u001b[0m \u001b[0;34m=\u001b[0m \u001b[0mpad\u001b[0m\u001b[0;34m\u001b[0m\u001b[0;34m\u001b[0m\u001b[0m\n",
            "\u001b[0;32m/usr/local/lib/python3.7/dist-packages/pandas/core/resample.py\u001b[0m in \u001b[0;36m_upsample\u001b[0;34m(self, method, limit, fill_value)\u001b[0m\n\u001b[1;32m   1095\u001b[0m         \u001b[0;32melse\u001b[0m\u001b[0;34m:\u001b[0m\u001b[0;34m\u001b[0m\u001b[0;34m\u001b[0m\u001b[0m\n\u001b[1;32m   1096\u001b[0m             result = obj.reindex(\n\u001b[0;32m-> 1097\u001b[0;31m                 \u001b[0mres_index\u001b[0m\u001b[0;34m,\u001b[0m \u001b[0mmethod\u001b[0m\u001b[0;34m=\u001b[0m\u001b[0mmethod\u001b[0m\u001b[0;34m,\u001b[0m \u001b[0mlimit\u001b[0m\u001b[0;34m=\u001b[0m\u001b[0mlimit\u001b[0m\u001b[0;34m,\u001b[0m \u001b[0mfill_value\u001b[0m\u001b[0;34m=\u001b[0m\u001b[0mfill_value\u001b[0m\u001b[0;34m\u001b[0m\u001b[0;34m\u001b[0m\u001b[0m\n\u001b[0m\u001b[1;32m   1098\u001b[0m             )\n\u001b[1;32m   1099\u001b[0m \u001b[0;34m\u001b[0m\u001b[0m\n",
            "\u001b[0;32m/usr/local/lib/python3.7/dist-packages/pandas/core/series.py\u001b[0m in \u001b[0;36mreindex\u001b[0;34m(self, index, **kwargs)\u001b[0m\n\u001b[1;32m   4410\u001b[0m     )\n\u001b[1;32m   4411\u001b[0m     \u001b[0;32mdef\u001b[0m \u001b[0mreindex\u001b[0m\u001b[0;34m(\u001b[0m\u001b[0mself\u001b[0m\u001b[0;34m,\u001b[0m \u001b[0mindex\u001b[0m\u001b[0;34m=\u001b[0m\u001b[0;32mNone\u001b[0m\u001b[0;34m,\u001b[0m \u001b[0;34m**\u001b[0m\u001b[0mkwargs\u001b[0m\u001b[0;34m)\u001b[0m\u001b[0;34m:\u001b[0m\u001b[0;34m\u001b[0m\u001b[0;34m\u001b[0m\u001b[0m\n\u001b[0;32m-> 4412\u001b[0;31m         \u001b[0;32mreturn\u001b[0m \u001b[0msuper\u001b[0m\u001b[0;34m(\u001b[0m\u001b[0;34m)\u001b[0m\u001b[0;34m.\u001b[0m\u001b[0mreindex\u001b[0m\u001b[0;34m(\u001b[0m\u001b[0mindex\u001b[0m\u001b[0;34m=\u001b[0m\u001b[0mindex\u001b[0m\u001b[0;34m,\u001b[0m \u001b[0;34m**\u001b[0m\u001b[0mkwargs\u001b[0m\u001b[0;34m)\u001b[0m\u001b[0;34m\u001b[0m\u001b[0;34m\u001b[0m\u001b[0m\n\u001b[0m\u001b[1;32m   4413\u001b[0m \u001b[0;34m\u001b[0m\u001b[0m\n\u001b[1;32m   4414\u001b[0m     def drop(\n",
            "\u001b[0;32m/usr/local/lib/python3.7/dist-packages/pandas/core/generic.py\u001b[0m in \u001b[0;36mreindex\u001b[0;34m(self, *args, **kwargs)\u001b[0m\n\u001b[1;32m   4462\u001b[0m         \u001b[0;31m# perform the reindex on the axes\u001b[0m\u001b[0;34m\u001b[0m\u001b[0;34m\u001b[0m\u001b[0;34m\u001b[0m\u001b[0m\n\u001b[1;32m   4463\u001b[0m         return self._reindex_axes(\n\u001b[0;32m-> 4464\u001b[0;31m             \u001b[0maxes\u001b[0m\u001b[0;34m,\u001b[0m \u001b[0mlevel\u001b[0m\u001b[0;34m,\u001b[0m \u001b[0mlimit\u001b[0m\u001b[0;34m,\u001b[0m \u001b[0mtolerance\u001b[0m\u001b[0;34m,\u001b[0m \u001b[0mmethod\u001b[0m\u001b[0;34m,\u001b[0m \u001b[0mfill_value\u001b[0m\u001b[0;34m,\u001b[0m \u001b[0mcopy\u001b[0m\u001b[0;34m\u001b[0m\u001b[0;34m\u001b[0m\u001b[0m\n\u001b[0m\u001b[1;32m   4465\u001b[0m         ).__finalize__(self, method=\"reindex\")\n\u001b[1;32m   4466\u001b[0m \u001b[0;34m\u001b[0m\u001b[0m\n",
            "\u001b[0;32m/usr/local/lib/python3.7/dist-packages/pandas/core/generic.py\u001b[0m in \u001b[0;36m_reindex_axes\u001b[0;34m(self, axes, level, limit, tolerance, method, fill_value, copy)\u001b[0m\n\u001b[1;32m   4477\u001b[0m             \u001b[0max\u001b[0m \u001b[0;34m=\u001b[0m \u001b[0mself\u001b[0m\u001b[0;34m.\u001b[0m\u001b[0m_get_axis\u001b[0m\u001b[0;34m(\u001b[0m\u001b[0ma\u001b[0m\u001b[0;34m)\u001b[0m\u001b[0;34m\u001b[0m\u001b[0;34m\u001b[0m\u001b[0m\n\u001b[1;32m   4478\u001b[0m             new_index, indexer = ax.reindex(\n\u001b[0;32m-> 4479\u001b[0;31m                 \u001b[0mlabels\u001b[0m\u001b[0;34m,\u001b[0m \u001b[0mlevel\u001b[0m\u001b[0;34m=\u001b[0m\u001b[0mlevel\u001b[0m\u001b[0;34m,\u001b[0m \u001b[0mlimit\u001b[0m\u001b[0;34m=\u001b[0m\u001b[0mlimit\u001b[0m\u001b[0;34m,\u001b[0m \u001b[0mtolerance\u001b[0m\u001b[0;34m=\u001b[0m\u001b[0mtolerance\u001b[0m\u001b[0;34m,\u001b[0m \u001b[0mmethod\u001b[0m\u001b[0;34m=\u001b[0m\u001b[0mmethod\u001b[0m\u001b[0;34m\u001b[0m\u001b[0;34m\u001b[0m\u001b[0m\n\u001b[0m\u001b[1;32m   4480\u001b[0m             )\n\u001b[1;32m   4481\u001b[0m \u001b[0;34m\u001b[0m\u001b[0m\n",
            "\u001b[0;32m/usr/local/lib/python3.7/dist-packages/pandas/core/indexes/base.py\u001b[0m in \u001b[0;36mreindex\u001b[0;34m(self, target, method, level, limit, tolerance)\u001b[0m\n\u001b[1;32m   3341\u001b[0m                     \u001b[0;32mif\u001b[0m \u001b[0mmethod\u001b[0m \u001b[0;32mis\u001b[0m \u001b[0;32mnot\u001b[0m \u001b[0;32mNone\u001b[0m \u001b[0;32mor\u001b[0m \u001b[0mlimit\u001b[0m \u001b[0;32mis\u001b[0m \u001b[0;32mnot\u001b[0m \u001b[0;32mNone\u001b[0m\u001b[0;34m:\u001b[0m\u001b[0;34m\u001b[0m\u001b[0;34m\u001b[0m\u001b[0m\n\u001b[1;32m   3342\u001b[0m                         raise ValueError(\n\u001b[0;32m-> 3343\u001b[0;31m                             \u001b[0;34m\"cannot reindex a non-unique index \"\u001b[0m\u001b[0;34m\u001b[0m\u001b[0;34m\u001b[0m\u001b[0m\n\u001b[0m\u001b[1;32m   3344\u001b[0m                             \u001b[0;34m\"with a method or limit\"\u001b[0m\u001b[0;34m\u001b[0m\u001b[0;34m\u001b[0m\u001b[0m\n\u001b[1;32m   3345\u001b[0m                         )\n",
            "\u001b[0;31mValueError\u001b[0m: cannot reindex a non-unique index with a method or limit"
          ]
        }
      ]
    },
    {
      "cell_type": "code",
      "metadata": {
        "colab": {
          "base_uri": "https://localhost:8080/"
        },
        "id": "Omvaat1_gMjS",
        "outputId": "8ee9a67c-b682-470e-e77c-836e5f7df035"
      },
      "source": [
        "print(df2)"
      ],
      "execution_count": 46,
      "outputs": [
        {
          "output_type": "stream",
          "name": "stdout",
          "text": [
            "DatetimeIndexResampler [freq=<5 * Seconds>, axis=0, closed=left, label=left, convention=start, origin=start_day]\n"
          ]
        }
      ]
    },
    {
      "cell_type": "code",
      "metadata": {
        "id": "Y3wrMObFHLdM"
      },
      "source": [
        "def pandas_interpolate(dfx, interp_column, method='time'):\n",
        "    import numpy\n",
        "    dfx=dfx.reset_index()\n",
        "    dfx = dfx.set_index(interp_column)\n",
        "    dfx = dfx.reindex(numpy.arange(df.index.min(), df.index.max(), 10))\n",
        "    dfx = dfx.interpolate(method=method)\n",
        "    dfx = dfx.reset_index()\n",
        "    dfx = dfx.rename(columns={'index': interp_column})\n",
        "    return dfx"
      ],
      "execution_count": 87,
      "outputs": []
    },
    {
      "cell_type": "code",
      "metadata": {
        "id": "NXQ7MAEAUNeH"
      },
      "source": [
        "df3=pandas_interpolate(df,\"Date\")"
      ],
      "execution_count": null,
      "outputs": []
    },
    {
      "cell_type": "code",
      "metadata": {
        "id": "eTMmefPPNk-R"
      },
      "source": [
        "df3"
      ],
      "execution_count": null,
      "outputs": []
    },
    {
      "cell_type": "code",
      "metadata": {
        "id": "iPyK3L-ALvBj"
      },
      "source": [
        "df.drop(\"index\", axis=1)"
      ],
      "execution_count": null,
      "outputs": []
    },
    {
      "cell_type": "code",
      "metadata": {
        "id": "DAvt6TbyjJu-"
      },
      "source": [
        "import numpy as np\n",
        "import pandas as pd"
      ],
      "execution_count": 51,
      "outputs": []
    },
    {
      "cell_type": "code",
      "metadata": {
        "colab": {
          "base_uri": "https://localhost:8080/"
        },
        "id": "i0wnn0SCjNJY",
        "outputId": "9bafed48-b282-4946-abf9-11f9669dbd8b"
      },
      "source": [
        "index = pd.date_range('1/1/2019', periods=8, freq='T')\n",
        "series = pd.Series(range(8), index=index)\n",
        "series"
      ],
      "execution_count": 52,
      "outputs": [
        {
          "output_type": "execute_result",
          "data": {
            "text/plain": [
              "2019-01-01 00:00:00    0\n",
              "2019-01-01 00:01:00    1\n",
              "2019-01-01 00:02:00    2\n",
              "2019-01-01 00:03:00    3\n",
              "2019-01-01 00:04:00    4\n",
              "2019-01-01 00:05:00    5\n",
              "2019-01-01 00:06:00    6\n",
              "2019-01-01 00:07:00    7\n",
              "Freq: T, dtype: int64"
            ]
          },
          "metadata": {},
          "execution_count": 52
        }
      ]
    },
    {
      "cell_type": "code",
      "metadata": {
        "id": "8sWpLwEhjVlE"
      },
      "source": [
        "df3=df.resample(\"1s\").mean()"
      ],
      "execution_count": 67,
      "outputs": []
    },
    {
      "cell_type": "code",
      "metadata": {
        "colab": {
          "base_uri": "https://localhost:8080/",
          "height": 998
        },
        "id": "7h5IIachjhz0",
        "outputId": "5729fac3-87b9-4dac-d1d7-75cc45aeea66"
      },
      "source": [
        "df3.head(30)"
      ],
      "execution_count": 69,
      "outputs": [
        {
          "output_type": "execute_result",
          "data": {
            "text/html": [
              "<div>\n",
              "<style scoped>\n",
              "    .dataframe tbody tr th:only-of-type {\n",
              "        vertical-align: middle;\n",
              "    }\n",
              "\n",
              "    .dataframe tbody tr th {\n",
              "        vertical-align: top;\n",
              "    }\n",
              "\n",
              "    .dataframe thead th {\n",
              "        text-align: right;\n",
              "    }\n",
              "</style>\n",
              "<table border=\"1\" class=\"dataframe\">\n",
              "  <thead>\n",
              "    <tr style=\"text-align: right;\">\n",
              "      <th></th>\n",
              "      <th>Value</th>\n",
              "    </tr>\n",
              "    <tr>\n",
              "      <th>Date</th>\n",
              "      <th></th>\n",
              "    </tr>\n",
              "  </thead>\n",
              "  <tbody>\n",
              "    <tr>\n",
              "      <th>2021-06-21 05:25:10</th>\n",
              "      <td>200.000000</td>\n",
              "    </tr>\n",
              "    <tr>\n",
              "      <th>2021-06-21 05:25:11</th>\n",
              "      <td>NaN</td>\n",
              "    </tr>\n",
              "    <tr>\n",
              "      <th>2021-06-21 05:25:12</th>\n",
              "      <td>NaN</td>\n",
              "    </tr>\n",
              "    <tr>\n",
              "      <th>2021-06-21 05:25:13</th>\n",
              "      <td>88.632034</td>\n",
              "    </tr>\n",
              "    <tr>\n",
              "      <th>2021-06-21 05:25:14</th>\n",
              "      <td>NaN</td>\n",
              "    </tr>\n",
              "    <tr>\n",
              "      <th>2021-06-21 05:25:15</th>\n",
              "      <td>NaN</td>\n",
              "    </tr>\n",
              "    <tr>\n",
              "      <th>2021-06-21 05:25:16</th>\n",
              "      <td>NaN</td>\n",
              "    </tr>\n",
              "    <tr>\n",
              "      <th>2021-06-21 05:25:17</th>\n",
              "      <td>NaN</td>\n",
              "    </tr>\n",
              "    <tr>\n",
              "      <th>2021-06-21 05:25:18</th>\n",
              "      <td>NaN</td>\n",
              "    </tr>\n",
              "    <tr>\n",
              "      <th>2021-06-21 05:25:19</th>\n",
              "      <td>NaN</td>\n",
              "    </tr>\n",
              "    <tr>\n",
              "      <th>2021-06-21 05:25:20</th>\n",
              "      <td>NaN</td>\n",
              "    </tr>\n",
              "    <tr>\n",
              "      <th>2021-06-21 05:25:21</th>\n",
              "      <td>NaN</td>\n",
              "    </tr>\n",
              "    <tr>\n",
              "      <th>2021-06-21 05:25:22</th>\n",
              "      <td>NaN</td>\n",
              "    </tr>\n",
              "    <tr>\n",
              "      <th>2021-06-21 05:25:23</th>\n",
              "      <td>28.484779</td>\n",
              "    </tr>\n",
              "    <tr>\n",
              "      <th>2021-06-21 05:25:24</th>\n",
              "      <td>NaN</td>\n",
              "    </tr>\n",
              "    <tr>\n",
              "      <th>2021-06-21 05:25:25</th>\n",
              "      <td>NaN</td>\n",
              "    </tr>\n",
              "    <tr>\n",
              "      <th>2021-06-21 05:25:26</th>\n",
              "      <td>NaN</td>\n",
              "    </tr>\n",
              "    <tr>\n",
              "      <th>2021-06-21 05:25:27</th>\n",
              "      <td>NaN</td>\n",
              "    </tr>\n",
              "    <tr>\n",
              "      <th>2021-06-21 05:25:28</th>\n",
              "      <td>NaN</td>\n",
              "    </tr>\n",
              "    <tr>\n",
              "      <th>2021-06-21 05:25:29</th>\n",
              "      <td>NaN</td>\n",
              "    </tr>\n",
              "    <tr>\n",
              "      <th>2021-06-21 05:25:30</th>\n",
              "      <td>NaN</td>\n",
              "    </tr>\n",
              "    <tr>\n",
              "      <th>2021-06-21 05:25:31</th>\n",
              "      <td>NaN</td>\n",
              "    </tr>\n",
              "    <tr>\n",
              "      <th>2021-06-21 05:25:32</th>\n",
              "      <td>NaN</td>\n",
              "    </tr>\n",
              "    <tr>\n",
              "      <th>2021-06-21 05:25:33</th>\n",
              "      <td>NaN</td>\n",
              "    </tr>\n",
              "    <tr>\n",
              "      <th>2021-06-21 05:25:34</th>\n",
              "      <td>NaN</td>\n",
              "    </tr>\n",
              "    <tr>\n",
              "      <th>2021-06-21 05:25:35</th>\n",
              "      <td>NaN</td>\n",
              "    </tr>\n",
              "    <tr>\n",
              "      <th>2021-06-21 05:25:36</th>\n",
              "      <td>NaN</td>\n",
              "    </tr>\n",
              "    <tr>\n",
              "      <th>2021-06-21 05:25:37</th>\n",
              "      <td>NaN</td>\n",
              "    </tr>\n",
              "    <tr>\n",
              "      <th>2021-06-21 05:25:38</th>\n",
              "      <td>NaN</td>\n",
              "    </tr>\n",
              "    <tr>\n",
              "      <th>2021-06-21 05:25:39</th>\n",
              "      <td>NaN</td>\n",
              "    </tr>\n",
              "  </tbody>\n",
              "</table>\n",
              "</div>"
            ],
            "text/plain": [
              "                          Value\n",
              "Date                           \n",
              "2021-06-21 05:25:10  200.000000\n",
              "2021-06-21 05:25:11         NaN\n",
              "2021-06-21 05:25:12         NaN\n",
              "2021-06-21 05:25:13   88.632034\n",
              "2021-06-21 05:25:14         NaN\n",
              "2021-06-21 05:25:15         NaN\n",
              "2021-06-21 05:25:16         NaN\n",
              "2021-06-21 05:25:17         NaN\n",
              "2021-06-21 05:25:18         NaN\n",
              "2021-06-21 05:25:19         NaN\n",
              "2021-06-21 05:25:20         NaN\n",
              "2021-06-21 05:25:21         NaN\n",
              "2021-06-21 05:25:22         NaN\n",
              "2021-06-21 05:25:23   28.484779\n",
              "2021-06-21 05:25:24         NaN\n",
              "2021-06-21 05:25:25         NaN\n",
              "2021-06-21 05:25:26         NaN\n",
              "2021-06-21 05:25:27         NaN\n",
              "2021-06-21 05:25:28         NaN\n",
              "2021-06-21 05:25:29         NaN\n",
              "2021-06-21 05:25:30         NaN\n",
              "2021-06-21 05:25:31         NaN\n",
              "2021-06-21 05:25:32         NaN\n",
              "2021-06-21 05:25:33         NaN\n",
              "2021-06-21 05:25:34         NaN\n",
              "2021-06-21 05:25:35         NaN\n",
              "2021-06-21 05:25:36         NaN\n",
              "2021-06-21 05:25:37         NaN\n",
              "2021-06-21 05:25:38         NaN\n",
              "2021-06-21 05:25:39         NaN"
            ]
          },
          "metadata": {},
          "execution_count": 69
        }
      ]
    },
    {
      "cell_type": "code",
      "metadata": {
        "id": "W3LSZgpbm40L"
      },
      "source": [
        "df3.interpolate('linear',inplace=True)"
      ],
      "execution_count": 75,
      "outputs": []
    },
    {
      "cell_type": "code",
      "metadata": {
        "colab": {
          "base_uri": "https://localhost:8080/",
          "height": 445
        },
        "id": "dbzCAsCsnCDm",
        "outputId": "2d58ea4b-8359-4b2e-94e7-1ab3568ed444"
      },
      "source": [
        "df3"
      ],
      "execution_count": 76,
      "outputs": [
        {
          "output_type": "execute_result",
          "data": {
            "text/html": [
              "<div>\n",
              "<style scoped>\n",
              "    .dataframe tbody tr th:only-of-type {\n",
              "        vertical-align: middle;\n",
              "    }\n",
              "\n",
              "    .dataframe tbody tr th {\n",
              "        vertical-align: top;\n",
              "    }\n",
              "\n",
              "    .dataframe thead th {\n",
              "        text-align: right;\n",
              "    }\n",
              "</style>\n",
              "<table border=\"1\" class=\"dataframe\">\n",
              "  <thead>\n",
              "    <tr style=\"text-align: right;\">\n",
              "      <th></th>\n",
              "      <th>Value</th>\n",
              "    </tr>\n",
              "    <tr>\n",
              "      <th>Date</th>\n",
              "      <th></th>\n",
              "    </tr>\n",
              "  </thead>\n",
              "  <tbody>\n",
              "    <tr>\n",
              "      <th>2021-06-21 05:25:10</th>\n",
              "      <td>200.000000</td>\n",
              "    </tr>\n",
              "    <tr>\n",
              "      <th>2021-06-21 05:25:11</th>\n",
              "      <td>162.877345</td>\n",
              "    </tr>\n",
              "    <tr>\n",
              "      <th>2021-06-21 05:25:12</th>\n",
              "      <td>125.754690</td>\n",
              "    </tr>\n",
              "    <tr>\n",
              "      <th>2021-06-21 05:25:13</th>\n",
              "      <td>88.632034</td>\n",
              "    </tr>\n",
              "    <tr>\n",
              "      <th>2021-06-21 05:25:14</th>\n",
              "      <td>82.617309</td>\n",
              "    </tr>\n",
              "    <tr>\n",
              "      <th>...</th>\n",
              "      <td>...</td>\n",
              "    </tr>\n",
              "    <tr>\n",
              "      <th>2021-06-25 23:59:46</th>\n",
              "      <td>32.993820</td>\n",
              "    </tr>\n",
              "    <tr>\n",
              "      <th>2021-06-25 23:59:47</th>\n",
              "      <td>32.993820</td>\n",
              "    </tr>\n",
              "    <tr>\n",
              "      <th>2021-06-25 23:59:48</th>\n",
              "      <td>32.993820</td>\n",
              "    </tr>\n",
              "    <tr>\n",
              "      <th>2021-06-25 23:59:49</th>\n",
              "      <td>32.993820</td>\n",
              "    </tr>\n",
              "    <tr>\n",
              "      <th>2021-06-25 23:59:50</th>\n",
              "      <td>32.993820</td>\n",
              "    </tr>\n",
              "  </tbody>\n",
              "</table>\n",
              "<p>412481 rows × 1 columns</p>\n",
              "</div>"
            ],
            "text/plain": [
              "                          Value\n",
              "Date                           \n",
              "2021-06-21 05:25:10  200.000000\n",
              "2021-06-21 05:25:11  162.877345\n",
              "2021-06-21 05:25:12  125.754690\n",
              "2021-06-21 05:25:13   88.632034\n",
              "2021-06-21 05:25:14   82.617309\n",
              "...                         ...\n",
              "2021-06-25 23:59:46   32.993820\n",
              "2021-06-25 23:59:47   32.993820\n",
              "2021-06-25 23:59:48   32.993820\n",
              "2021-06-25 23:59:49   32.993820\n",
              "2021-06-25 23:59:50   32.993820\n",
              "\n",
              "[412481 rows x 1 columns]"
            ]
          },
          "metadata": {},
          "execution_count": 76
        }
      ]
    }
  ]
}