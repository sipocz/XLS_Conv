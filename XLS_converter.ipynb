{
  "nbformat": 4,
  "nbformat_minor": 0,
  "metadata": {
    "colab": {
      "name": "XLS_converter.ipynb",
      "provenance": [],
      "authorship_tag": "ABX9TyNXNP5TlmzM7xCzJjAszoYy",
      "include_colab_link": true
    },
    "kernelspec": {
      "name": "python3",
      "display_name": "Python 3"
    },
    "language_info": {
      "name": "python"
    }
  },
  "cells": [
    {
      "cell_type": "markdown",
      "metadata": {
        "id": "view-in-github",
        "colab_type": "text"
      },
      "source": [
        "<a href=\"https://colab.research.google.com/github/sipocz/XLS_Conv/blob/main/XLS_converter.ipynb\" target=\"_parent\"><img src=\"https://colab.research.google.com/assets/colab-badge.svg\" alt=\"Open In Colab\"/></a>"
      ]
    },
    {
      "cell_type": "code",
      "metadata": {
        "id": "nauIEJwU_0eR"
      },
      "source": [
        "import pandas as pd\n",
        "import os"
      ],
      "execution_count": 1,
      "outputs": []
    },
    {
      "cell_type": "code",
      "metadata": {
        "id": "B8dCwSpAAp77"
      },
      "source": [
        "!rm *.xlsx*"
      ],
      "execution_count": 2,
      "outputs": []
    },
    {
      "cell_type": "code",
      "metadata": {
        "id": "15mhY8XZAZsY"
      },
      "source": [
        "urlname=\"https://github.com/sipocz/XLS_Conv/raw/main/U113_20210621.xlsx\"\n",
        "_,fname= os.path.split(urlname)"
      ],
      "execution_count": 3,
      "outputs": []
    },
    {
      "cell_type": "code",
      "metadata": {
        "id": "n_BQX4J-B165"
      },
      "source": [
        ""
      ],
      "execution_count": 3,
      "outputs": []
    },
    {
      "cell_type": "code",
      "metadata": {
        "colab": {
          "base_uri": "https://localhost:8080/"
        },
        "id": "h6RS-a75_8u5",
        "outputId": "622f4444-76d3-42e2-e253-f81f6380461a"
      },
      "source": [
        "!wget $urlname"
      ],
      "execution_count": 4,
      "outputs": [
        {
          "output_type": "stream",
          "name": "stdout",
          "text": [
            "--2021-09-24 20:24:27--  https://github.com/sipocz/XLS_Conv/raw/main/U113_20210621.xlsx\n",
            "Resolving github.com (github.com)... 140.82.113.4\n",
            "Connecting to github.com (github.com)|140.82.113.4|:443... connected.\n",
            "HTTP request sent, awaiting response... 302 Found\n",
            "Location: https://raw.githubusercontent.com/sipocz/XLS_Conv/main/U113_20210621.xlsx [following]\n",
            "--2021-09-24 20:24:27--  https://raw.githubusercontent.com/sipocz/XLS_Conv/main/U113_20210621.xlsx\n",
            "Resolving raw.githubusercontent.com (raw.githubusercontent.com)... 185.199.108.133, 185.199.109.133, 185.199.110.133, ...\n",
            "Connecting to raw.githubusercontent.com (raw.githubusercontent.com)|185.199.108.133|:443... connected.\n",
            "HTTP request sent, awaiting response... 200 OK\n",
            "Length: 5550077 (5.3M) [application/octet-stream]\n",
            "Saving to: ‘U113_20210621.xlsx’\n",
            "\n",
            "\rU113_20210621.xlsx    0%[                    ]       0  --.-KB/s               \rU113_20210621.xlsx  100%[===================>]   5.29M  --.-KB/s    in 0.03s   \n",
            "\n",
            "2021-09-24 20:24:27 (166 MB/s) - ‘U113_20210621.xlsx’ saved [5550077/5550077]\n",
            "\n"
          ]
        }
      ]
    },
    {
      "cell_type": "code",
      "metadata": {
        "id": "DxqdvnRkARhK"
      },
      "source": [
        "df=pd.read_excel(fname,sheet_name=3)"
      ],
      "execution_count": 5,
      "outputs": []
    },
    {
      "cell_type": "code",
      "metadata": {
        "id": "bwxlDg1yEPOf"
      },
      "source": [
        "df.columns=[\"Date\",\"Value\",\"Status\"]"
      ],
      "execution_count": 6,
      "outputs": []
    },
    {
      "cell_type": "code",
      "metadata": {
        "colab": {
          "base_uri": "https://localhost:8080/",
          "height": 202
        },
        "id": "NRFMv3-vB_8r",
        "outputId": "15626df4-7c0a-40dd-c06e-610923f7cb97"
      },
      "source": [
        "df.tail()"
      ],
      "execution_count": 7,
      "outputs": [
        {
          "output_type": "execute_result",
          "data": {
            "text/html": [
              "<div>\n",
              "<style scoped>\n",
              "    .dataframe tbody tr th:only-of-type {\n",
              "        vertical-align: middle;\n",
              "    }\n",
              "\n",
              "    .dataframe tbody tr th {\n",
              "        vertical-align: top;\n",
              "    }\n",
              "\n",
              "    .dataframe thead th {\n",
              "        text-align: right;\n",
              "    }\n",
              "</style>\n",
              "<table border=\"1\" class=\"dataframe\">\n",
              "  <thead>\n",
              "    <tr style=\"text-align: right;\">\n",
              "      <th></th>\n",
              "      <th>Date</th>\n",
              "      <th>Value</th>\n",
              "      <th>Status</th>\n",
              "    </tr>\n",
              "  </thead>\n",
              "  <tbody>\n",
              "    <tr>\n",
              "      <th>29168</th>\n",
              "      <td>2021-06-25 23:59:00</td>\n",
              "      <td>33.093002</td>\n",
              "      <td>OK</td>\n",
              "    </tr>\n",
              "    <tr>\n",
              "      <th>29169</th>\n",
              "      <td>2021-06-25 23:59:20</td>\n",
              "      <td>33.093002</td>\n",
              "      <td>OK</td>\n",
              "    </tr>\n",
              "    <tr>\n",
              "      <th>29170</th>\n",
              "      <td>2021-06-25 23:59:30</td>\n",
              "      <td>32.993820</td>\n",
              "      <td>OK</td>\n",
              "    </tr>\n",
              "    <tr>\n",
              "      <th>29171</th>\n",
              "      <td>2021-06-25 23:59:50</td>\n",
              "      <td>32.993820</td>\n",
              "      <td>OK</td>\n",
              "    </tr>\n",
              "    <tr>\n",
              "      <th>29172</th>\n",
              "      <td>True</td>\n",
              "      <td>NaN</td>\n",
              "      <td>NaN</td>\n",
              "    </tr>\n",
              "  </tbody>\n",
              "</table>\n",
              "</div>"
            ],
            "text/plain": [
              "                      Date      Value Status\n",
              "29168  2021-06-25 23:59:00  33.093002     OK\n",
              "29169  2021-06-25 23:59:20  33.093002     OK\n",
              "29170  2021-06-25 23:59:30  32.993820     OK\n",
              "29171  2021-06-25 23:59:50  32.993820     OK\n",
              "29172                 True        NaN    NaN"
            ]
          },
          "metadata": {},
          "execution_count": 7
        }
      ]
    },
    {
      "cell_type": "code",
      "metadata": {
        "id": "flflyrJKd_kl"
      },
      "source": [
        "df.dropna(inplace=True)"
      ],
      "execution_count": 8,
      "outputs": []
    },
    {
      "cell_type": "code",
      "metadata": {
        "colab": {
          "base_uri": "https://localhost:8080/"
        },
        "id": "YXNURyA3IwDn",
        "outputId": "ad848ed2-5249-4c31-9807-17a7943e50c8"
      },
      "source": [
        "df.Date[0]"
      ],
      "execution_count": 9,
      "outputs": [
        {
          "output_type": "execute_result",
          "data": {
            "text/plain": [
              "datetime.datetime(2021, 6, 21, 0, 0, 22)"
            ]
          },
          "metadata": {},
          "execution_count": 9
        }
      ]
    },
    {
      "cell_type": "code",
      "metadata": {
        "id": "jy1NKgXLGhlE"
      },
      "source": [
        "#pd.to_datetime(df.Date, format=\"%Y-%m-%d %H:%M:%S\")"
      ],
      "execution_count": 10,
      "outputs": []
    },
    {
      "cell_type": "code",
      "metadata": {
        "id": "SoIxMQbXKo04"
      },
      "source": [
        "df.index=df.Date"
      ],
      "execution_count": 11,
      "outputs": []
    },
    {
      "cell_type": "code",
      "metadata": {
        "colab": {
          "base_uri": "https://localhost:8080/",
          "height": 294
        },
        "id": "5aZE66prEU5r",
        "outputId": "9f03d310-eadb-48b3-c444-4d4d5c2d22b7"
      },
      "source": [
        "df.describe()"
      ],
      "execution_count": 12,
      "outputs": [
        {
          "output_type": "execute_result",
          "data": {
            "text/html": [
              "<div>\n",
              "<style scoped>\n",
              "    .dataframe tbody tr th:only-of-type {\n",
              "        vertical-align: middle;\n",
              "    }\n",
              "\n",
              "    .dataframe tbody tr th {\n",
              "        vertical-align: top;\n",
              "    }\n",
              "\n",
              "    .dataframe thead th {\n",
              "        text-align: right;\n",
              "    }\n",
              "</style>\n",
              "<table border=\"1\" class=\"dataframe\">\n",
              "  <thead>\n",
              "    <tr style=\"text-align: right;\">\n",
              "      <th></th>\n",
              "      <th>Value</th>\n",
              "    </tr>\n",
              "  </thead>\n",
              "  <tbody>\n",
              "    <tr>\n",
              "      <th>count</th>\n",
              "      <td>29172.000000</td>\n",
              "    </tr>\n",
              "    <tr>\n",
              "      <th>mean</th>\n",
              "      <td>61.818723</td>\n",
              "    </tr>\n",
              "    <tr>\n",
              "      <th>std</th>\n",
              "      <td>24.257954</td>\n",
              "    </tr>\n",
              "    <tr>\n",
              "      <th>min</th>\n",
              "      <td>-50.000000</td>\n",
              "    </tr>\n",
              "    <tr>\n",
              "      <th>25%</th>\n",
              "      <td>69.741356</td>\n",
              "    </tr>\n",
              "    <tr>\n",
              "      <th>50%</th>\n",
              "      <td>70.767532</td>\n",
              "    </tr>\n",
              "    <tr>\n",
              "      <th>75%</th>\n",
              "      <td>72.743568</td>\n",
              "    </tr>\n",
              "    <tr>\n",
              "      <th>max</th>\n",
              "      <td>200.000000</td>\n",
              "    </tr>\n",
              "  </tbody>\n",
              "</table>\n",
              "</div>"
            ],
            "text/plain": [
              "              Value\n",
              "count  29172.000000\n",
              "mean      61.818723\n",
              "std       24.257954\n",
              "min      -50.000000\n",
              "25%       69.741356\n",
              "50%       70.767532\n",
              "75%       72.743568\n",
              "max      200.000000"
            ]
          },
          "metadata": {},
          "execution_count": 12
        }
      ]
    },
    {
      "cell_type": "code",
      "metadata": {
        "colab": {
          "base_uri": "https://localhost:8080/"
        },
        "id": "piAkz2k_JMyZ",
        "outputId": "f8d0cd8f-b0e2-4436-c95b-5c78af706570"
      },
      "source": [
        "df.Date.values[-1]"
      ],
      "execution_count": 13,
      "outputs": [
        {
          "output_type": "execute_result",
          "data": {
            "text/plain": [
              "datetime.datetime(2021, 6, 25, 23, 59, 50)"
            ]
          },
          "metadata": {},
          "execution_count": 13
        }
      ]
    },
    {
      "cell_type": "code",
      "metadata": {
        "id": "8FK7nslyEh2l"
      },
      "source": [
        "new_range = pd.date_range(df.Date.values[0], df.Date.values[-2], freq='10S')"
      ],
      "execution_count": 14,
      "outputs": []
    },
    {
      "cell_type": "code",
      "metadata": {
        "colab": {
          "base_uri": "https://localhost:8080/"
        },
        "id": "mZtEs6KhK3GX",
        "outputId": "b576f66b-9538-4ec3-e1c5-e5b1178f9f20"
      },
      "source": [
        "new_range"
      ],
      "execution_count": 15,
      "outputs": [
        {
          "output_type": "execute_result",
          "data": {
            "text/plain": [
              "DatetimeIndex(['2021-06-21 00:00:22', '2021-06-21 00:00:32',\n",
              "               '2021-06-21 00:00:42', '2021-06-21 00:00:52',\n",
              "               '2021-06-21 00:01:02', '2021-06-21 00:01:12',\n",
              "               '2021-06-21 00:01:22', '2021-06-21 00:01:32',\n",
              "               '2021-06-21 00:01:42', '2021-06-21 00:01:52',\n",
              "               ...\n",
              "               '2021-06-25 23:57:52', '2021-06-25 23:58:02',\n",
              "               '2021-06-25 23:58:12', '2021-06-25 23:58:22',\n",
              "               '2021-06-25 23:58:32', '2021-06-25 23:58:42',\n",
              "               '2021-06-25 23:58:52', '2021-06-25 23:59:02',\n",
              "               '2021-06-25 23:59:12', '2021-06-25 23:59:22'],\n",
              "              dtype='datetime64[ns]', length=43195, freq='10S')"
            ]
          },
          "metadata": {},
          "execution_count": 15
        }
      ]
    },
    {
      "cell_type": "code",
      "metadata": {
        "colab": {
          "base_uri": "https://localhost:8080/"
        },
        "id": "mKFMoS2iOWIw",
        "outputId": "c855d75e-bb2c-462a-a9e8-28f1b979e2bb"
      },
      "source": [
        "type(df)"
      ],
      "execution_count": 16,
      "outputs": [
        {
          "output_type": "execute_result",
          "data": {
            "text/plain": [
              "pandas.core.frame.DataFrame"
            ]
          },
          "metadata": {},
          "execution_count": 16
        }
      ]
    },
    {
      "cell_type": "code",
      "metadata": {
        "id": "tLr_xFnDLnKk"
      },
      "source": [
        "df.set_index(\"Date\",inplace=True)"
      ],
      "execution_count": 17,
      "outputs": []
    },
    {
      "cell_type": "code",
      "metadata": {
        "colab": {
          "base_uri": "https://localhost:8080/",
          "height": 232
        },
        "id": "PBw3z1UxTZnT",
        "outputId": "56754fae-87a1-4846-cdf7-0dc0156b154c"
      },
      "source": [
        "df.head()"
      ],
      "execution_count": 18,
      "outputs": [
        {
          "output_type": "execute_result",
          "data": {
            "text/html": [
              "<div>\n",
              "<style scoped>\n",
              "    .dataframe tbody tr th:only-of-type {\n",
              "        vertical-align: middle;\n",
              "    }\n",
              "\n",
              "    .dataframe tbody tr th {\n",
              "        vertical-align: top;\n",
              "    }\n",
              "\n",
              "    .dataframe thead th {\n",
              "        text-align: right;\n",
              "    }\n",
              "</style>\n",
              "<table border=\"1\" class=\"dataframe\">\n",
              "  <thead>\n",
              "    <tr style=\"text-align: right;\">\n",
              "      <th></th>\n",
              "      <th>Value</th>\n",
              "      <th>Status</th>\n",
              "    </tr>\n",
              "    <tr>\n",
              "      <th>Date</th>\n",
              "      <th></th>\n",
              "      <th></th>\n",
              "    </tr>\n",
              "  </thead>\n",
              "  <tbody>\n",
              "    <tr>\n",
              "      <th>2021-06-21 00:00:22</th>\n",
              "      <td>-50.0</td>\n",
              "      <td>Bad Data</td>\n",
              "    </tr>\n",
              "    <tr>\n",
              "      <th>2021-06-21 00:00:42</th>\n",
              "      <td>-50.0</td>\n",
              "      <td>Bad Data</td>\n",
              "    </tr>\n",
              "    <tr>\n",
              "      <th>2021-06-21 00:01:02</th>\n",
              "      <td>-50.0</td>\n",
              "      <td>Bad Data</td>\n",
              "    </tr>\n",
              "    <tr>\n",
              "      <th>2021-06-21 00:01:22</th>\n",
              "      <td>-50.0</td>\n",
              "      <td>Bad Data</td>\n",
              "    </tr>\n",
              "    <tr>\n",
              "      <th>2021-06-21 00:01:42</th>\n",
              "      <td>-50.0</td>\n",
              "      <td>Bad Data</td>\n",
              "    </tr>\n",
              "  </tbody>\n",
              "</table>\n",
              "</div>"
            ],
            "text/plain": [
              "                     Value    Status\n",
              "Date                                \n",
              "2021-06-21 00:00:22  -50.0  Bad Data\n",
              "2021-06-21 00:00:42  -50.0  Bad Data\n",
              "2021-06-21 00:01:02  -50.0  Bad Data\n",
              "2021-06-21 00:01:22  -50.0  Bad Data\n",
              "2021-06-21 00:01:42  -50.0  Bad Data"
            ]
          },
          "metadata": {},
          "execution_count": 18
        }
      ]
    },
    {
      "cell_type": "code",
      "metadata": {
        "id": "9lNusBvkdZHL"
      },
      "source": [
        ""
      ],
      "execution_count": 18,
      "outputs": []
    },
    {
      "cell_type": "code",
      "metadata": {
        "id": "OKD0EMhmPCa6"
      },
      "source": [
        ""
      ],
      "execution_count": 18,
      "outputs": []
    },
    {
      "cell_type": "code",
      "metadata": {
        "colab": {
          "base_uri": "https://localhost:8080/",
          "height": 232
        },
        "id": "QuikGNIpMW0j",
        "outputId": "75bbf2af-2e34-4006-a9ad-f0530382a1d6"
      },
      "source": [
        "df.head()"
      ],
      "execution_count": 19,
      "outputs": [
        {
          "output_type": "execute_result",
          "data": {
            "text/html": [
              "<div>\n",
              "<style scoped>\n",
              "    .dataframe tbody tr th:only-of-type {\n",
              "        vertical-align: middle;\n",
              "    }\n",
              "\n",
              "    .dataframe tbody tr th {\n",
              "        vertical-align: top;\n",
              "    }\n",
              "\n",
              "    .dataframe thead th {\n",
              "        text-align: right;\n",
              "    }\n",
              "</style>\n",
              "<table border=\"1\" class=\"dataframe\">\n",
              "  <thead>\n",
              "    <tr style=\"text-align: right;\">\n",
              "      <th></th>\n",
              "      <th>Value</th>\n",
              "      <th>Status</th>\n",
              "    </tr>\n",
              "    <tr>\n",
              "      <th>Date</th>\n",
              "      <th></th>\n",
              "      <th></th>\n",
              "    </tr>\n",
              "  </thead>\n",
              "  <tbody>\n",
              "    <tr>\n",
              "      <th>2021-06-21 00:00:22</th>\n",
              "      <td>-50.0</td>\n",
              "      <td>Bad Data</td>\n",
              "    </tr>\n",
              "    <tr>\n",
              "      <th>2021-06-21 00:00:42</th>\n",
              "      <td>-50.0</td>\n",
              "      <td>Bad Data</td>\n",
              "    </tr>\n",
              "    <tr>\n",
              "      <th>2021-06-21 00:01:02</th>\n",
              "      <td>-50.0</td>\n",
              "      <td>Bad Data</td>\n",
              "    </tr>\n",
              "    <tr>\n",
              "      <th>2021-06-21 00:01:22</th>\n",
              "      <td>-50.0</td>\n",
              "      <td>Bad Data</td>\n",
              "    </tr>\n",
              "    <tr>\n",
              "      <th>2021-06-21 00:01:42</th>\n",
              "      <td>-50.0</td>\n",
              "      <td>Bad Data</td>\n",
              "    </tr>\n",
              "  </tbody>\n",
              "</table>\n",
              "</div>"
            ],
            "text/plain": [
              "                     Value    Status\n",
              "Date                                \n",
              "2021-06-21 00:00:22  -50.0  Bad Data\n",
              "2021-06-21 00:00:42  -50.0  Bad Data\n",
              "2021-06-21 00:01:02  -50.0  Bad Data\n",
              "2021-06-21 00:01:22  -50.0  Bad Data\n",
              "2021-06-21 00:01:42  -50.0  Bad Data"
            ]
          },
          "metadata": {},
          "execution_count": 19
        }
      ]
    },
    {
      "cell_type": "code",
      "metadata": {
        "id": "jBFd6zuIRWYX"
      },
      "source": [
        "bad_data=df[df[\"Status\"]==\"Bad Data\"].index"
      ],
      "execution_count": 20,
      "outputs": []
    },
    {
      "cell_type": "code",
      "metadata": {
        "colab": {
          "base_uri": "https://localhost:8080/"
        },
        "id": "fheQ1NQBRxhC",
        "outputId": "1a8fb820-16a2-4814-a2ad-d6d20cad0c3d"
      },
      "source": [
        "bad_data"
      ],
      "execution_count": 21,
      "outputs": [
        {
          "output_type": "execute_result",
          "data": {
            "text/plain": [
              "DatetimeIndex(['2021-06-21 00:00:22', '2021-06-21 00:00:42',\n",
              "               '2021-06-21 00:01:02', '2021-06-21 00:01:22',\n",
              "               '2021-06-21 00:01:42', '2021-06-21 00:02:02',\n",
              "               '2021-06-21 00:02:22', '2021-06-21 00:02:42',\n",
              "               '2021-06-21 00:03:02', '2021-06-21 00:03:22',\n",
              "               ...\n",
              "               '2021-06-21 05:22:02', '2021-06-21 05:22:22',\n",
              "               '2021-06-21 05:22:42', '2021-06-21 05:23:02',\n",
              "               '2021-06-21 05:23:22', '2021-06-21 05:23:42',\n",
              "               '2021-06-21 05:24:02', '2021-06-21 05:24:22',\n",
              "               '2021-06-21 05:24:42', '2021-06-21 05:25:02'],\n",
              "              dtype='datetime64[ns]', name='Date', length=975, freq=None)"
            ]
          },
          "metadata": {},
          "execution_count": 21
        }
      ]
    },
    {
      "cell_type": "code",
      "metadata": {
        "id": "xZPnVWMccTEH"
      },
      "source": [
        ""
      ],
      "execution_count": 21,
      "outputs": []
    },
    {
      "cell_type": "code",
      "metadata": {
        "colab": {
          "base_uri": "https://localhost:8080/",
          "height": 445
        },
        "id": "zJKVOeG7clxL",
        "outputId": "51ef3da9-0da8-48e4-ff4e-0b9e911be6c4"
      },
      "source": [
        "df"
      ],
      "execution_count": 22,
      "outputs": [
        {
          "output_type": "execute_result",
          "data": {
            "text/html": [
              "<div>\n",
              "<style scoped>\n",
              "    .dataframe tbody tr th:only-of-type {\n",
              "        vertical-align: middle;\n",
              "    }\n",
              "\n",
              "    .dataframe tbody tr th {\n",
              "        vertical-align: top;\n",
              "    }\n",
              "\n",
              "    .dataframe thead th {\n",
              "        text-align: right;\n",
              "    }\n",
              "</style>\n",
              "<table border=\"1\" class=\"dataframe\">\n",
              "  <thead>\n",
              "    <tr style=\"text-align: right;\">\n",
              "      <th></th>\n",
              "      <th>Value</th>\n",
              "      <th>Status</th>\n",
              "    </tr>\n",
              "    <tr>\n",
              "      <th>Date</th>\n",
              "      <th></th>\n",
              "      <th></th>\n",
              "    </tr>\n",
              "  </thead>\n",
              "  <tbody>\n",
              "    <tr>\n",
              "      <th>2021-06-21 00:00:22</th>\n",
              "      <td>-50.000000</td>\n",
              "      <td>Bad Data</td>\n",
              "    </tr>\n",
              "    <tr>\n",
              "      <th>2021-06-21 00:00:42</th>\n",
              "      <td>-50.000000</td>\n",
              "      <td>Bad Data</td>\n",
              "    </tr>\n",
              "    <tr>\n",
              "      <th>2021-06-21 00:01:02</th>\n",
              "      <td>-50.000000</td>\n",
              "      <td>Bad Data</td>\n",
              "    </tr>\n",
              "    <tr>\n",
              "      <th>2021-06-21 00:01:22</th>\n",
              "      <td>-50.000000</td>\n",
              "      <td>Bad Data</td>\n",
              "    </tr>\n",
              "    <tr>\n",
              "      <th>2021-06-21 00:01:42</th>\n",
              "      <td>-50.000000</td>\n",
              "      <td>Bad Data</td>\n",
              "    </tr>\n",
              "    <tr>\n",
              "      <th>...</th>\n",
              "      <td>...</td>\n",
              "      <td>...</td>\n",
              "    </tr>\n",
              "    <tr>\n",
              "      <th>2021-06-25 23:58:40</th>\n",
              "      <td>33.093002</td>\n",
              "      <td>OK</td>\n",
              "    </tr>\n",
              "    <tr>\n",
              "      <th>2021-06-25 23:59:00</th>\n",
              "      <td>33.093002</td>\n",
              "      <td>OK</td>\n",
              "    </tr>\n",
              "    <tr>\n",
              "      <th>2021-06-25 23:59:20</th>\n",
              "      <td>33.093002</td>\n",
              "      <td>OK</td>\n",
              "    </tr>\n",
              "    <tr>\n",
              "      <th>2021-06-25 23:59:30</th>\n",
              "      <td>32.993820</td>\n",
              "      <td>OK</td>\n",
              "    </tr>\n",
              "    <tr>\n",
              "      <th>2021-06-25 23:59:50</th>\n",
              "      <td>32.993820</td>\n",
              "      <td>OK</td>\n",
              "    </tr>\n",
              "  </tbody>\n",
              "</table>\n",
              "<p>29172 rows × 2 columns</p>\n",
              "</div>"
            ],
            "text/plain": [
              "                         Value    Status\n",
              "Date                                    \n",
              "2021-06-21 00:00:22 -50.000000  Bad Data\n",
              "2021-06-21 00:00:42 -50.000000  Bad Data\n",
              "2021-06-21 00:01:02 -50.000000  Bad Data\n",
              "2021-06-21 00:01:22 -50.000000  Bad Data\n",
              "2021-06-21 00:01:42 -50.000000  Bad Data\n",
              "...                        ...       ...\n",
              "2021-06-25 23:58:40  33.093002        OK\n",
              "2021-06-25 23:59:00  33.093002        OK\n",
              "2021-06-25 23:59:20  33.093002        OK\n",
              "2021-06-25 23:59:30  32.993820        OK\n",
              "2021-06-25 23:59:50  32.993820        OK\n",
              "\n",
              "[29172 rows x 2 columns]"
            ]
          },
          "metadata": {},
          "execution_count": 22
        }
      ]
    },
    {
      "cell_type": "code",
      "metadata": {
        "id": "LFtHG_ROQTgo"
      },
      "source": [
        "df.drop(index=bad_data,inplace=True)"
      ],
      "execution_count": 23,
      "outputs": []
    },
    {
      "cell_type": "code",
      "metadata": {
        "colab": {
          "base_uri": "https://localhost:8080/"
        },
        "id": "yRewMi8KMgSs",
        "outputId": "459ec210-cda1-4882-c4a9-cb00e73a1848"
      },
      "source": [
        "type(df)"
      ],
      "execution_count": 24,
      "outputs": [
        {
          "output_type": "execute_result",
          "data": {
            "text/plain": [
              "pandas.core.frame.DataFrame"
            ]
          },
          "metadata": {},
          "execution_count": 24
        }
      ]
    },
    {
      "cell_type": "code",
      "metadata": {
        "colab": {
          "base_uri": "https://localhost:8080/",
          "height": 232
        },
        "id": "GEwYLlJUPk1B",
        "outputId": "bbfc03d5-8f9d-489d-970b-c791f7f98582"
      },
      "source": [
        "df.head()"
      ],
      "execution_count": 25,
      "outputs": [
        {
          "output_type": "execute_result",
          "data": {
            "text/html": [
              "<div>\n",
              "<style scoped>\n",
              "    .dataframe tbody tr th:only-of-type {\n",
              "        vertical-align: middle;\n",
              "    }\n",
              "\n",
              "    .dataframe tbody tr th {\n",
              "        vertical-align: top;\n",
              "    }\n",
              "\n",
              "    .dataframe thead th {\n",
              "        text-align: right;\n",
              "    }\n",
              "</style>\n",
              "<table border=\"1\" class=\"dataframe\">\n",
              "  <thead>\n",
              "    <tr style=\"text-align: right;\">\n",
              "      <th></th>\n",
              "      <th>Value</th>\n",
              "      <th>Status</th>\n",
              "    </tr>\n",
              "    <tr>\n",
              "      <th>Date</th>\n",
              "      <th></th>\n",
              "      <th></th>\n",
              "    </tr>\n",
              "  </thead>\n",
              "  <tbody>\n",
              "    <tr>\n",
              "      <th>2021-06-21 05:25:10</th>\n",
              "      <td>200.000000</td>\n",
              "      <td>OK</td>\n",
              "    </tr>\n",
              "    <tr>\n",
              "      <th>2021-06-21 05:25:13</th>\n",
              "      <td>88.632034</td>\n",
              "      <td>OK</td>\n",
              "    </tr>\n",
              "    <tr>\n",
              "      <th>2021-06-21 05:25:23</th>\n",
              "      <td>28.484779</td>\n",
              "      <td>OK</td>\n",
              "    </tr>\n",
              "    <tr>\n",
              "      <th>2021-06-21 05:25:40</th>\n",
              "      <td>28.385597</td>\n",
              "      <td>OK</td>\n",
              "    </tr>\n",
              "    <tr>\n",
              "      <th>2021-06-21 05:25:50</th>\n",
              "      <td>28.484779</td>\n",
              "      <td>OK</td>\n",
              "    </tr>\n",
              "  </tbody>\n",
              "</table>\n",
              "</div>"
            ],
            "text/plain": [
              "                          Value Status\n",
              "Date                                  \n",
              "2021-06-21 05:25:10  200.000000     OK\n",
              "2021-06-21 05:25:13   88.632034     OK\n",
              "2021-06-21 05:25:23   28.484779     OK\n",
              "2021-06-21 05:25:40   28.385597     OK\n",
              "2021-06-21 05:25:50   28.484779     OK"
            ]
          },
          "metadata": {},
          "execution_count": 25
        }
      ]
    },
    {
      "cell_type": "code",
      "metadata": {
        "id": "QaY46S1xXI5s"
      },
      "source": [
        "df.drop(columns=[\"Status\"], inplace=True)"
      ],
      "execution_count": 26,
      "outputs": []
    },
    {
      "cell_type": "code",
      "metadata": {
        "id": "BADXC_MAJgiX"
      },
      "source": [
        "#df.reindex(new_range).interpolate(\"Value\")"
      ],
      "execution_count": 27,
      "outputs": []
    }
  ]
}