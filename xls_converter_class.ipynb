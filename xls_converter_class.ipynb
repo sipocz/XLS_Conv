{
  "nbformat": 4,
  "nbformat_minor": 0,
  "metadata": {
    "colab": {
      "name": "xls_converter_class.ipynb",
      "provenance": [],
      "collapsed_sections": [],
      "authorship_tag": "ABX9TyOQGVA5p8riwuZSHwZ49cCA",
      "include_colab_link": true
    },
    "kernelspec": {
      "name": "python3",
      "display_name": "Python 3"
    },
    "language_info": {
      "name": "python"
    }
  },
  "cells": [
    {
      "cell_type": "markdown",
      "metadata": {
        "id": "view-in-github",
        "colab_type": "text"
      },
      "source": [
        "<a href=\"https://colab.research.google.com/github/sipocz/XLS_Conv/blob/main/xls_converter_class.ipynb\" target=\"_parent\"><img src=\"https://colab.research.google.com/assets/colab-badge.svg\" alt=\"Open In Colab\"/></a>"
      ]
    },
    {
      "cell_type": "code",
      "metadata": {
        "id": "_Ns_nZkyTJUL"
      },
      "source": [
        "import os"
      ],
      "execution_count": 349,
      "outputs": []
    },
    {
      "cell_type": "code",
      "metadata": {
        "id": "fPvxkA2XR3dO"
      },
      "source": [
        "class XLS_timeseries:\n",
        "    import pandas as pd\n",
        "    import os\n",
        "    def __init__(self,fname=\"\"):\n",
        "        if fname==\"\":\n",
        "            return \n",
        "        self.readfile(fname)\n",
        "\n",
        "    def readfile(self,fname):\n",
        "        from pandas import ExcelFile\n",
        "        self.tabs = ExcelFile(fname).sheet_names \n",
        "        self.fname=fname\n",
        "    \n",
        "    def __str__(self):\n",
        "        return(f\"file name:{self.fname}, sheets: {self.tabs}\")\n",
        "\n",
        "\n",
        "        \n",
        "    \n",
        "    def get_data1s(self,sheet_name):\n",
        "        import pandas as pd\n",
        "        fname=self.fname\n",
        "        df=pd.read_excel(fname,sheet_name=sheet_name)\n",
        "        df.columns=[\"Date\",\"Value\",\"Status\"]\n",
        "        bad_data=df[df[\"Status\"]==\"Bad Data\"].index\n",
        "        df.drop(index=bad_data,inplace=True)\n",
        "        df.dropna(inplace=True)\n",
        "        df.index=df.Date\n",
        "        df.set_index(\"Date\",inplace=True)\n",
        "        df.drop(columns=[\"Status\"], inplace=True)\n",
        "        dfout=df.resample(\"1s\").mean()\n",
        "        dfout.interpolate('linear',inplace=True)\n",
        "        self.df_base=dfout\n",
        "        return(dfout)\n",
        "    \n",
        "    def df_list(self):\n",
        "        fname=self.fname\n",
        "        tabs=self.tabs\n",
        "        self.out_df_list=[]\n",
        "        for tabx in tabs:\n",
        "            dftab=self.get_data1s(tabx)\n",
        "            #dftab.plot()\n",
        "            self.out_df_list.append(dftab)\n",
        "        return self.out_df_list \n",
        "    \n",
        "    \n",
        "    def df_concat(self):\n",
        "        from pandas import concat\n",
        "        dflist=self.out_df_list\n",
        "        df_heads=self.tabs\n",
        "        for index,name in enumerate(df_heads):\n",
        "            dflist[index].columns=[name]\n",
        "        out_df=concat(dflist,axis=1)\n",
        "    #out_df.head=df_heads\n",
        "        out_df.dropna(inplace=True)\n",
        "        self.DF=out_df\n",
        "        return(out_df)\n",
        "    \n",
        "    def plot(self,index):\n",
        "        if not (set(index).issubset(set(self.tabs))):\n",
        "            return (\"Key subset not found!\")\n",
        "        if len(self.DF.columns)<1:\n",
        "            return\n",
        "        plots=self.DF[index].plot()\n",
        "        return plots\n",
        "\n",
        "    def plotter(self,columnlist,colorlist=[\"b\",\"r\"]):\n",
        "        import matplotlib.pyplot as plt\n",
        "        df=self.DF\n",
        "        plt.figure()\n",
        "        plt.figure(figsize=(20,10))\n",
        "        plt.xticks(fontsize=12)\n",
        "        plt.yticks(fontsize=14)\n",
        "        plt.xlabel('time',fontsize=20)\n",
        "        plt.ylabel(columnlist,fontsize=20)\n",
        "        plt.title(f\"{columnlist} vs. time\",fontsize=20)\n",
        "        targets = columnlist\n",
        "    \n",
        "        \n",
        "        plt.scatter(df.index,df[columnlist[0]] , c = colorlist[0], s = 1,)\n",
        "        plt.scatter(df.index,df[columnlist[1]] , c = colorlist[1], s = 1,)\n",
        "    \n",
        "        #plt.colorbar()\n",
        "        plt.legend(targets,prop={'size': 20})\n"
      ],
      "execution_count": 350,
      "outputs": []
    },
    {
      "cell_type": "code",
      "metadata": {
        "colab": {
          "base_uri": "https://localhost:8080/"
        },
        "id": "J9K09zzGTGM-",
        "outputId": "560520df-c2fb-48a6-a4e7-48a00cb852b9"
      },
      "source": [
        "!rm *.xlsx*\n",
        "urlname=\"https://github.com/sipocz/XLS_Conv/raw/main/U113_20210607.xlsx\"\n",
        "_,fname= os.path.split(urlname)\n",
        "!wget $urlname"
      ],
      "execution_count": 351,
      "outputs": [
        {
          "output_type": "stream",
          "name": "stdout",
          "text": [
            "--2021-09-27 20:05:52--  https://github.com/sipocz/XLS_Conv/raw/main/U113_20210607.xlsx\n",
            "Resolving github.com (github.com)... 52.192.72.89\n",
            "Connecting to github.com (github.com)|52.192.72.89|:443... connected.\n",
            "HTTP request sent, awaiting response... 302 Found\n",
            "Location: https://raw.githubusercontent.com/sipocz/XLS_Conv/main/U113_20210607.xlsx [following]\n",
            "--2021-09-27 20:05:53--  https://raw.githubusercontent.com/sipocz/XLS_Conv/main/U113_20210607.xlsx\n",
            "Resolving raw.githubusercontent.com (raw.githubusercontent.com)... 185.199.108.133, 185.199.109.133, 185.199.110.133, ...\n",
            "Connecting to raw.githubusercontent.com (raw.githubusercontent.com)|185.199.108.133|:443... connected.\n",
            "HTTP request sent, awaiting response... 200 OK\n",
            "Length: 5661857 (5.4M) [application/octet-stream]\n",
            "Saving to: ‘U113_20210607.xlsx’\n",
            "\n",
            "U113_20210607.xlsx  100%[===================>]   5.40M  --.-KB/s    in 0.09s   \n",
            "\n",
            "2021-09-27 20:05:53 (58.9 MB/s) - ‘U113_20210607.xlsx’ saved [5661857/5661857]\n",
            "\n"
          ]
        }
      ]
    },
    {
      "cell_type": "code",
      "metadata": {
        "id": "5k-W3tF1TNzy"
      },
      "source": [
        "a=XLS_timeseries(fname)"
      ],
      "execution_count": 352,
      "outputs": []
    },
    {
      "cell_type": "code",
      "metadata": {
        "id": "ifBEHzSRNaTk"
      },
      "source": [
        "a.readfile(fname)"
      ],
      "execution_count": 353,
      "outputs": []
    },
    {
      "cell_type": "code",
      "metadata": {
        "colab": {
          "base_uri": "https://localhost:8080/"
        },
        "id": "fRy7jL7UTj8D",
        "outputId": "c8c08598-ccb8-4510-a1d0-dad99a675bba"
      },
      "source": [
        "a.tabs"
      ],
      "execution_count": 354,
      "outputs": [
        {
          "output_type": "execute_result",
          "data": {
            "text/plain": [
              "['AS_P113B',\n",
              " 'AS_PH113',\n",
              " 'AS_T113F',\n",
              " 'AS_T1131',\n",
              " 'AS_T1132',\n",
              " 'AS_T1133',\n",
              " 'AS_T1134',\n",
              " 'AS_T1135']"
            ]
          },
          "metadata": {},
          "execution_count": 354
        }
      ]
    },
    {
      "cell_type": "code",
      "metadata": {
        "colab": {
          "base_uri": "https://localhost:8080/",
          "height": 454
        },
        "id": "cT4WjNHgT4VO",
        "outputId": "acfb3f21-d82e-495b-93e7-890108cfc277"
      },
      "source": [
        "a.get_data1s(a.tabs[0])"
      ],
      "execution_count": 355,
      "outputs": [
        {
          "output_type": "execute_result",
          "data": {
            "text/html": [
              "<div>\n",
              "<style scoped>\n",
              "    .dataframe tbody tr th:only-of-type {\n",
              "        vertical-align: middle;\n",
              "    }\n",
              "\n",
              "    .dataframe tbody tr th {\n",
              "        vertical-align: top;\n",
              "    }\n",
              "\n",
              "    .dataframe thead th {\n",
              "        text-align: right;\n",
              "    }\n",
              "</style>\n",
              "<table border=\"1\" class=\"dataframe\">\n",
              "  <thead>\n",
              "    <tr style=\"text-align: right;\">\n",
              "      <th></th>\n",
              "      <th>Value</th>\n",
              "    </tr>\n",
              "    <tr>\n",
              "      <th>Date</th>\n",
              "      <th></th>\n",
              "    </tr>\n",
              "  </thead>\n",
              "  <tbody>\n",
              "    <tr>\n",
              "      <th>2021-06-07 00:00:21</th>\n",
              "      <td>0.113756</td>\n",
              "    </tr>\n",
              "    <tr>\n",
              "      <th>2021-06-07 00:00:22</th>\n",
              "      <td>0.114282</td>\n",
              "    </tr>\n",
              "    <tr>\n",
              "      <th>2021-06-07 00:00:23</th>\n",
              "      <td>0.114809</td>\n",
              "    </tr>\n",
              "    <tr>\n",
              "      <th>2021-06-07 00:00:24</th>\n",
              "      <td>0.115335</td>\n",
              "    </tr>\n",
              "    <tr>\n",
              "      <th>2021-06-07 00:00:25</th>\n",
              "      <td>0.115862</td>\n",
              "    </tr>\n",
              "    <tr>\n",
              "      <th>...</th>\n",
              "      <td>...</td>\n",
              "    </tr>\n",
              "    <tr>\n",
              "      <th>2021-06-11 23:59:38</th>\n",
              "      <td>0.085145</td>\n",
              "    </tr>\n",
              "    <tr>\n",
              "      <th>2021-06-11 23:59:39</th>\n",
              "      <td>0.085145</td>\n",
              "    </tr>\n",
              "    <tr>\n",
              "      <th>2021-06-11 23:59:40</th>\n",
              "      <td>0.085145</td>\n",
              "    </tr>\n",
              "    <tr>\n",
              "      <th>2021-06-11 23:59:41</th>\n",
              "      <td>0.085145</td>\n",
              "    </tr>\n",
              "    <tr>\n",
              "      <th>2021-06-11 23:59:42</th>\n",
              "      <td>0.085145</td>\n",
              "    </tr>\n",
              "  </tbody>\n",
              "</table>\n",
              "<p>431962 rows × 1 columns</p>\n",
              "</div>"
            ],
            "text/plain": [
              "                        Value\n",
              "Date                         \n",
              "2021-06-07 00:00:21  0.113756\n",
              "2021-06-07 00:00:22  0.114282\n",
              "2021-06-07 00:00:23  0.114809\n",
              "2021-06-07 00:00:24  0.115335\n",
              "2021-06-07 00:00:25  0.115862\n",
              "...                       ...\n",
              "2021-06-11 23:59:38  0.085145\n",
              "2021-06-11 23:59:39  0.085145\n",
              "2021-06-11 23:59:40  0.085145\n",
              "2021-06-11 23:59:41  0.085145\n",
              "2021-06-11 23:59:42  0.085145\n",
              "\n",
              "[431962 rows x 1 columns]"
            ]
          },
          "metadata": {},
          "execution_count": 355
        }
      ]
    },
    {
      "cell_type": "code",
      "metadata": {
        "colab": {
          "base_uri": "https://localhost:8080/",
          "height": 236
        },
        "id": "mzRAjjL8VzP6",
        "outputId": "4ea9c7e9-f59e-4c58-b867-92cc295bb67d"
      },
      "source": [
        "a.df_base.head()"
      ],
      "execution_count": 356,
      "outputs": [
        {
          "output_type": "execute_result",
          "data": {
            "text/html": [
              "<div>\n",
              "<style scoped>\n",
              "    .dataframe tbody tr th:only-of-type {\n",
              "        vertical-align: middle;\n",
              "    }\n",
              "\n",
              "    .dataframe tbody tr th {\n",
              "        vertical-align: top;\n",
              "    }\n",
              "\n",
              "    .dataframe thead th {\n",
              "        text-align: right;\n",
              "    }\n",
              "</style>\n",
              "<table border=\"1\" class=\"dataframe\">\n",
              "  <thead>\n",
              "    <tr style=\"text-align: right;\">\n",
              "      <th></th>\n",
              "      <th>Value</th>\n",
              "    </tr>\n",
              "    <tr>\n",
              "      <th>Date</th>\n",
              "      <th></th>\n",
              "    </tr>\n",
              "  </thead>\n",
              "  <tbody>\n",
              "    <tr>\n",
              "      <th>2021-06-07 00:00:21</th>\n",
              "      <td>0.113756</td>\n",
              "    </tr>\n",
              "    <tr>\n",
              "      <th>2021-06-07 00:00:22</th>\n",
              "      <td>0.114282</td>\n",
              "    </tr>\n",
              "    <tr>\n",
              "      <th>2021-06-07 00:00:23</th>\n",
              "      <td>0.114809</td>\n",
              "    </tr>\n",
              "    <tr>\n",
              "      <th>2021-06-07 00:00:24</th>\n",
              "      <td>0.115335</td>\n",
              "    </tr>\n",
              "    <tr>\n",
              "      <th>2021-06-07 00:00:25</th>\n",
              "      <td>0.115862</td>\n",
              "    </tr>\n",
              "  </tbody>\n",
              "</table>\n",
              "</div>"
            ],
            "text/plain": [
              "                        Value\n",
              "Date                         \n",
              "2021-06-07 00:00:21  0.113756\n",
              "2021-06-07 00:00:22  0.114282\n",
              "2021-06-07 00:00:23  0.114809\n",
              "2021-06-07 00:00:24  0.115335\n",
              "2021-06-07 00:00:25  0.115862"
            ]
          },
          "metadata": {},
          "execution_count": 356
        }
      ]
    },
    {
      "cell_type": "code",
      "metadata": {
        "colab": {
          "base_uri": "https://localhost:8080/"
        },
        "id": "56L5Rdt4W6vN",
        "outputId": "d2207951-6550-438e-f3b5-ff120aa070c3"
      },
      "source": [
        "print(a)"
      ],
      "execution_count": 357,
      "outputs": [
        {
          "output_type": "stream",
          "name": "stdout",
          "text": [
            "file name:U113_20210607.xlsx, sheets: ['AS_P113B', 'AS_PH113', 'AS_T113F', 'AS_T1131', 'AS_T1132', 'AS_T1133', 'AS_T1134', 'AS_T1135']\n"
          ]
        }
      ]
    },
    {
      "cell_type": "code",
      "metadata": {
        "colab": {
          "base_uri": "https://localhost:8080/"
        },
        "id": "cbTZecDJz2WG",
        "outputId": "486e33d2-2f53-45de-f2cc-c7e138d891d2"
      },
      "source": [
        "a.df_list()"
      ],
      "execution_count": 358,
      "outputs": [
        {
          "output_type": "execute_result",
          "data": {
            "text/plain": [
              "[                        Value\n",
              " Date                         \n",
              " 2021-06-07 00:00:21  0.113756\n",
              " 2021-06-07 00:00:22  0.114282\n",
              " 2021-06-07 00:00:23  0.114809\n",
              " 2021-06-07 00:00:24  0.115335\n",
              " 2021-06-07 00:00:25  0.115862\n",
              " ...                       ...\n",
              " 2021-06-11 23:59:38  0.085145\n",
              " 2021-06-11 23:59:39  0.085145\n",
              " 2021-06-11 23:59:40  0.085145\n",
              " 2021-06-11 23:59:41  0.085145\n",
              " 2021-06-11 23:59:42  0.085145\n",
              " \n",
              " [431962 rows x 1 columns],                         Value\n",
              " Date                         \n",
              " 2021-06-07 00:00:25  9.144274\n",
              " 2021-06-07 00:00:26  9.144369\n",
              " 2021-06-07 00:00:27  9.144464\n",
              " 2021-06-07 00:00:28  9.144560\n",
              " 2021-06-07 00:00:29  9.144655\n",
              " ...                       ...\n",
              " 2021-06-11 23:59:38  9.643396\n",
              " 2021-06-11 23:59:39  9.643778\n",
              " 2021-06-11 23:59:40  9.644159\n",
              " 2021-06-11 23:59:41  9.644541\n",
              " 2021-06-11 23:59:42  9.644922\n",
              " \n",
              " [431958 rows x 1 columns],                          Value\n",
              " Date                          \n",
              " 2021-06-07 00:00:25  33.756008\n",
              " 2021-06-07 00:00:26  33.757915\n",
              " 2021-06-07 00:00:27  33.759823\n",
              " 2021-06-07 00:00:28  33.761730\n",
              " 2021-06-07 00:00:29  33.763638\n",
              " ...                        ...\n",
              " 2021-06-11 23:59:46  39.255360\n",
              " 2021-06-11 23:59:47  39.255360\n",
              " 2021-06-11 23:59:48  39.255360\n",
              " 2021-06-11 23:59:49  39.255360\n",
              " 2021-06-11 23:59:50  39.255360\n",
              " \n",
              " [431966 rows x 1 columns],                          Value\n",
              " Date                          \n",
              " 2021-06-07 00:00:25  31.860840\n",
              " 2021-06-07 00:00:26  31.870758\n",
              " 2021-06-07 00:00:27  31.880676\n",
              " 2021-06-07 00:00:28  31.890594\n",
              " 2021-06-07 00:00:29  31.900513\n",
              " ...                        ...\n",
              " 2021-06-11 23:59:38  36.182953\n",
              " 2021-06-11 23:59:39  36.182953\n",
              " 2021-06-11 23:59:40  36.182953\n",
              " 2021-06-11 23:59:41  36.182953\n",
              " 2021-06-11 23:59:42  36.182953\n",
              " \n",
              " [431958 rows x 1 columns],                          Value\n",
              " Date                          \n",
              " 2021-06-07 00:00:31  32.082092\n",
              " 2021-06-07 00:00:32  32.073318\n",
              " 2021-06-07 00:00:33  32.064545\n",
              " 2021-06-07 00:00:34  32.055771\n",
              " 2021-06-07 00:00:35  32.046997\n",
              " ...                        ...\n",
              " 2021-06-11 23:59:48  33.818573\n",
              " 2021-06-11 23:59:49  33.809799\n",
              " 2021-06-11 23:59:50  33.801025\n",
              " 2021-06-11 23:59:51  33.792252\n",
              " 2021-06-11 23:59:52  33.783478\n",
              " \n",
              " [431962 rows x 1 columns],                          Value\n",
              " Date                          \n",
              " 2021-06-07 00:00:36  31.925690\n",
              " 2021-06-07 00:00:37  31.925690\n",
              " 2021-06-07 00:00:38  31.925690\n",
              " 2021-06-07 00:00:39  31.925690\n",
              " 2021-06-07 00:00:40  31.925690\n",
              " ...                        ...\n",
              " 2021-06-11 23:59:46  25.543602\n",
              " 2021-06-11 23:59:47  25.543602\n",
              " 2021-06-11 23:59:48  25.543602\n",
              " 2021-06-11 23:59:49  25.543602\n",
              " 2021-06-11 23:59:50  25.543602\n",
              " \n",
              " [431955 rows x 1 columns],                          Value\n",
              " Date                          \n",
              " 2021-06-07 00:00:25  31.436636\n",
              " 2021-06-07 00:00:26  31.443655\n",
              " 2021-06-07 00:00:27  31.450674\n",
              " 2021-06-07 00:00:28  31.457694\n",
              " 2021-06-07 00:00:29  31.464713\n",
              " ...                        ...\n",
              " 2021-06-11 23:59:46  37.393761\n",
              " 2021-06-11 23:59:47  37.393761\n",
              " 2021-06-11 23:59:48  37.393761\n",
              " 2021-06-11 23:59:49  37.393761\n",
              " 2021-06-11 23:59:50  37.393761\n",
              " \n",
              " [431966 rows x 1 columns],                          Value\n",
              " Date                          \n",
              " 2021-06-07 00:00:25  32.794689\n",
              " 2021-06-07 00:00:26  32.794689\n",
              " 2021-06-07 00:00:27  32.794689\n",
              " 2021-06-07 00:00:28  32.794689\n",
              " 2021-06-07 00:00:29  32.794689\n",
              " ...                        ...\n",
              " 2021-06-11 23:59:48  39.114975\n",
              " 2021-06-11 23:59:49  39.114975\n",
              " 2021-06-11 23:59:50  39.114975\n",
              " 2021-06-11 23:59:51  39.114975\n",
              " 2021-06-11 23:59:52  39.114975\n",
              " \n",
              " [431968 rows x 1 columns]]"
            ]
          },
          "metadata": {},
          "execution_count": 358
        }
      ]
    },
    {
      "cell_type": "code",
      "metadata": {
        "colab": {
          "base_uri": "https://localhost:8080/",
          "height": 454
        },
        "id": "1NVhOzWP0uwb",
        "outputId": "bfdb43bc-3577-4e67-888a-a6105f47b146"
      },
      "source": [
        "a.df_concat()"
      ],
      "execution_count": 359,
      "outputs": [
        {
          "output_type": "execute_result",
          "data": {
            "text/html": [
              "<div>\n",
              "<style scoped>\n",
              "    .dataframe tbody tr th:only-of-type {\n",
              "        vertical-align: middle;\n",
              "    }\n",
              "\n",
              "    .dataframe tbody tr th {\n",
              "        vertical-align: top;\n",
              "    }\n",
              "\n",
              "    .dataframe thead th {\n",
              "        text-align: right;\n",
              "    }\n",
              "</style>\n",
              "<table border=\"1\" class=\"dataframe\">\n",
              "  <thead>\n",
              "    <tr style=\"text-align: right;\">\n",
              "      <th></th>\n",
              "      <th>AS_P113B</th>\n",
              "      <th>AS_PH113</th>\n",
              "      <th>AS_T113F</th>\n",
              "      <th>AS_T1131</th>\n",
              "      <th>AS_T1132</th>\n",
              "      <th>AS_T1133</th>\n",
              "      <th>AS_T1134</th>\n",
              "      <th>AS_T1135</th>\n",
              "    </tr>\n",
              "    <tr>\n",
              "      <th>Date</th>\n",
              "      <th></th>\n",
              "      <th></th>\n",
              "      <th></th>\n",
              "      <th></th>\n",
              "      <th></th>\n",
              "      <th></th>\n",
              "      <th></th>\n",
              "      <th></th>\n",
              "    </tr>\n",
              "  </thead>\n",
              "  <tbody>\n",
              "    <tr>\n",
              "      <th>2021-06-07 00:00:36</th>\n",
              "      <td>0.119020</td>\n",
              "      <td>9.145323</td>\n",
              "      <td>33.776989</td>\n",
              "      <td>31.960022</td>\n",
              "      <td>32.038223</td>\n",
              "      <td>31.925690</td>\n",
              "      <td>31.499809</td>\n",
              "      <td>32.794689</td>\n",
              "    </tr>\n",
              "    <tr>\n",
              "      <th>2021-06-07 00:00:37</th>\n",
              "      <td>0.119020</td>\n",
              "      <td>9.145418</td>\n",
              "      <td>33.778896</td>\n",
              "      <td>31.960022</td>\n",
              "      <td>32.029449</td>\n",
              "      <td>31.925690</td>\n",
              "      <td>31.492790</td>\n",
              "      <td>32.794689</td>\n",
              "    </tr>\n",
              "    <tr>\n",
              "      <th>2021-06-07 00:00:38</th>\n",
              "      <td>0.119020</td>\n",
              "      <td>9.145514</td>\n",
              "      <td>33.780804</td>\n",
              "      <td>31.960022</td>\n",
              "      <td>32.020676</td>\n",
              "      <td>31.925690</td>\n",
              "      <td>31.485771</td>\n",
              "      <td>32.794689</td>\n",
              "    </tr>\n",
              "    <tr>\n",
              "      <th>2021-06-07 00:00:39</th>\n",
              "      <td>0.119020</td>\n",
              "      <td>9.145609</td>\n",
              "      <td>33.782711</td>\n",
              "      <td>31.960022</td>\n",
              "      <td>32.011902</td>\n",
              "      <td>31.925690</td>\n",
              "      <td>31.478751</td>\n",
              "      <td>32.794689</td>\n",
              "    </tr>\n",
              "    <tr>\n",
              "      <th>2021-06-07 00:00:40</th>\n",
              "      <td>0.119020</td>\n",
              "      <td>9.145704</td>\n",
              "      <td>33.784618</td>\n",
              "      <td>31.960022</td>\n",
              "      <td>32.003128</td>\n",
              "      <td>31.925690</td>\n",
              "      <td>31.471732</td>\n",
              "      <td>32.794689</td>\n",
              "    </tr>\n",
              "    <tr>\n",
              "      <th>...</th>\n",
              "      <td>...</td>\n",
              "      <td>...</td>\n",
              "      <td>...</td>\n",
              "      <td>...</td>\n",
              "      <td>...</td>\n",
              "      <td>...</td>\n",
              "      <td>...</td>\n",
              "      <td>...</td>\n",
              "    </tr>\n",
              "    <tr>\n",
              "      <th>2021-06-11 23:59:38</th>\n",
              "      <td>0.085145</td>\n",
              "      <td>9.643396</td>\n",
              "      <td>39.255360</td>\n",
              "      <td>36.182953</td>\n",
              "      <td>33.836121</td>\n",
              "      <td>25.543602</td>\n",
              "      <td>37.393761</td>\n",
              "      <td>39.114975</td>\n",
              "    </tr>\n",
              "    <tr>\n",
              "      <th>2021-06-11 23:59:39</th>\n",
              "      <td>0.085145</td>\n",
              "      <td>9.643778</td>\n",
              "      <td>39.255360</td>\n",
              "      <td>36.182953</td>\n",
              "      <td>33.844894</td>\n",
              "      <td>25.543602</td>\n",
              "      <td>37.393761</td>\n",
              "      <td>39.114975</td>\n",
              "    </tr>\n",
              "    <tr>\n",
              "      <th>2021-06-11 23:59:40</th>\n",
              "      <td>0.085145</td>\n",
              "      <td>9.644159</td>\n",
              "      <td>39.255360</td>\n",
              "      <td>36.182953</td>\n",
              "      <td>33.853668</td>\n",
              "      <td>25.543602</td>\n",
              "      <td>37.393761</td>\n",
              "      <td>39.114975</td>\n",
              "    </tr>\n",
              "    <tr>\n",
              "      <th>2021-06-11 23:59:41</th>\n",
              "      <td>0.085145</td>\n",
              "      <td>9.644541</td>\n",
              "      <td>39.255360</td>\n",
              "      <td>36.182953</td>\n",
              "      <td>33.862442</td>\n",
              "      <td>25.543602</td>\n",
              "      <td>37.393761</td>\n",
              "      <td>39.114975</td>\n",
              "    </tr>\n",
              "    <tr>\n",
              "      <th>2021-06-11 23:59:42</th>\n",
              "      <td>0.085145</td>\n",
              "      <td>9.644922</td>\n",
              "      <td>39.255360</td>\n",
              "      <td>36.182953</td>\n",
              "      <td>33.871216</td>\n",
              "      <td>25.543602</td>\n",
              "      <td>37.393761</td>\n",
              "      <td>39.114975</td>\n",
              "    </tr>\n",
              "  </tbody>\n",
              "</table>\n",
              "<p>431947 rows × 8 columns</p>\n",
              "</div>"
            ],
            "text/plain": [
              "                     AS_P113B  AS_PH113  ...   AS_T1134   AS_T1135\n",
              "Date                                     ...                      \n",
              "2021-06-07 00:00:36  0.119020  9.145323  ...  31.499809  32.794689\n",
              "2021-06-07 00:00:37  0.119020  9.145418  ...  31.492790  32.794689\n",
              "2021-06-07 00:00:38  0.119020  9.145514  ...  31.485771  32.794689\n",
              "2021-06-07 00:00:39  0.119020  9.145609  ...  31.478751  32.794689\n",
              "2021-06-07 00:00:40  0.119020  9.145704  ...  31.471732  32.794689\n",
              "...                       ...       ...  ...        ...        ...\n",
              "2021-06-11 23:59:38  0.085145  9.643396  ...  37.393761  39.114975\n",
              "2021-06-11 23:59:39  0.085145  9.643778  ...  37.393761  39.114975\n",
              "2021-06-11 23:59:40  0.085145  9.644159  ...  37.393761  39.114975\n",
              "2021-06-11 23:59:41  0.085145  9.644541  ...  37.393761  39.114975\n",
              "2021-06-11 23:59:42  0.085145  9.644922  ...  37.393761  39.114975\n",
              "\n",
              "[431947 rows x 8 columns]"
            ]
          },
          "metadata": {},
          "execution_count": 359
        }
      ]
    },
    {
      "cell_type": "code",
      "metadata": {
        "colab": {
          "base_uri": "https://localhost:8080/",
          "height": 301
        },
        "id": "PkD_UMQSbKk2",
        "outputId": "7055b39b-131c-469f-f7a6-e412f76fe117"
      },
      "source": [
        "plot1=a.plot([\"AS_P113B\",\"AS_PH113\"]);"
      ],
      "execution_count": 360,
      "outputs": [
        {
          "output_type": "display_data",
          "data": {
            "image/png": "[encoded data removed]",
            "text/plain": [
              "<Figure size 432x288 with 1 Axes>"
            ]
          },
          "metadata": {
            "needs_background": "light"
          }
        }
      ]
    },
    {
      "cell_type": "code",
      "metadata": {
        "colab": {
          "base_uri": "https://localhost:8080/",
          "height": 319
        },
        "id": "8MtTdqjBcP6m",
        "outputId": "4569fd6c-9641-4be7-e1c1-91473a8a803c"
      },
      "source": [
        "a.DF[[\"AS_P113B\",\"AS_PH113\"]].plot()"
      ],
      "execution_count": 361,
      "outputs": [
        {
          "output_type": "execute_result",
          "data": {
            "text/plain": [
              "<matplotlib.axes._subplots.AxesSubplot at 0x7f8fea9d8d10>"
            ]
          },
          "metadata": {},
          "execution_count": 361
        },
        {
          "output_type": "display_data",
          "data": {
            "image/png": "[encoded data removed]",
            "text/plain": [
              "<Figure size 432x288 with 1 Axes>"
            ]
          },
          "metadata": {
            "needs_background": "light"
          }
        }
      ]
    },
    {
      "cell_type": "code",
      "metadata": {
        "id": "IZP5WKXsfl8M"
      },
      "source": [
        ""
      ],
      "execution_count": 361,
      "outputs": []
    },
    {
      "cell_type": "code",
      "metadata": {
        "id": "O8arUR-VfzwL"
      },
      "source": [
        "def plotter(df,columnlist,colorlist):\n",
        "    import matplotlib.pyplot as plt\n",
        "    plt.figure()\n",
        "    plt.figure(figsize=(30,10))\n",
        "    plt.xticks(fontsize=12)\n",
        "    plt.yticks(fontsize=14)\n",
        "    plt.xlabel('time',fontsize=20)\n",
        "    plt.ylabel(columnlist,fontsize=20)\n",
        "    plt.title(f\"{columnlist} vs. time\",fontsize=20)\n",
        "    targets = columnlist\n",
        "    \n",
        "    color = df.loc[:, colorlist].values\n",
        "    plt.scatter(df.index,df[columnlist[0]] , c = \"b\", s = 0.5,)\n",
        "    plt.scatter(df.index,df[columnlist[1]] , c = \"r\", s = 0.5,)\n",
        "    \n",
        "    #plt.colorbar()\n",
        "    plt.legend(targets,prop={'size': 20})"
      ],
      "execution_count": 368,
      "outputs": []
    },
    {
      "cell_type": "code",
      "metadata": {
        "colab": {
          "base_uri": "https://localhost:8080/",
          "height": 657
        },
        "id": "B1zXilyN19qF",
        "outputId": "b9ba28e3-6835-4dab-c241-6965cf96fd68"
      },
      "source": [
        "a.plotter([\"AS_P113B\",\"AS_PH113\"])"
      ],
      "execution_count": 363,
      "outputs": [
        {
          "output_type": "display_data",
          "data": {
            "text/plain": [
              "<Figure size 432x288 with 0 Axes>"
            ]
          },
          "metadata": {}
        },
        {
          "output_type": "display_data",
          "data": {
            "image/png": "[encoded data removed]",
            "text/plain": [
              "<Figure size 1440x720 with 1 Axes>"
            ]
          },
          "metadata": {
            "needs_background": "light"
          }
        }
      ]
    },
    {
      "cell_type": "code",
      "metadata": {
        "colab": {
          "base_uri": "https://localhost:8080/",
          "height": 657
        },
        "id": "sY7hw7lFmk4w",
        "outputId": "bc489b82-786c-4955-d67a-02135b7c0801"
      },
      "source": [
        "plotter(a.DF,[\"AS_P113B\",\"AS_PH113\"],[\"AS_PH113\"]) "
      ],
      "execution_count": 369,
      "outputs": [
        {
          "output_type": "display_data",
          "data": {
            "text/plain": [
              "<Figure size 432x288 with 0 Axes>"
            ]
          },
          "metadata": {}
        },
        {
          "output_type": "display_data",
          "data": {
            "image/png": "[encoded data removed]",
            "text/plain": [
              "<Figure size 1440x720 with 1 Axes>"
            ]
          },
          "metadata": {
            "needs_background": "light"
          }
        }
      ]
    },
    {
      "cell_type": "code",
      "metadata": {
        "colab": {
          "base_uri": "https://localhost:8080/"
        },
        "id": "DVKj0QwzrWct",
        "outputId": "53512492-2e88-430e-aa9d-bc55db43cd57"
      },
      "source": [
        "import nltk\n",
        "nltk.download('words')\n",
        "from nltk.corpus import words\n",
        "word_list = words.words()\n",
        "# prints 236736\n",
        "print (len(word_list))"
      ],
      "execution_count": 365,
      "outputs": [
        {
          "output_type": "stream",
          "name": "stdout",
          "text": [
            "[nltk_data] Downloading package words to /root/nltk_data...\n",
            "[nltk_data]   Package words is already up-to-date!\n",
            "236736\n"
          ]
        }
      ]
    },
    {
      "cell_type": "code",
      "metadata": {
        "id": "1sI3B7wargwp"
      },
      "source": [
        "pytho=[a for a in word_list if a.startswith(\"rop\")]"
      ],
      "execution_count": 366,
      "outputs": []
    },
    {
      "cell_type": "code",
      "metadata": {
        "colab": {
          "base_uri": "https://localhost:8080/"
        },
        "id": "AohrVo1Nwnf0",
        "outputId": "76e53fd3-3f71-4665-d016-7f58ca707671"
      },
      "source": [
        "pytho"
      ],
      "execution_count": 367,
      "outputs": [
        {
          "output_type": "execute_result",
          "data": {
            "text/plain": [
              "['ropable',\n",
              " 'rope',\n",
              " 'ropeable',\n",
              " 'ropeband',\n",
              " 'ropebark',\n",
              " 'ropedance',\n",
              " 'ropedancer',\n",
              " 'ropedancing',\n",
              " 'ropelayer',\n",
              " 'ropelaying',\n",
              " 'ropelike',\n",
              " 'ropemaker',\n",
              " 'ropemaking',\n",
              " 'ropeman',\n",
              " 'roper',\n",
              " 'roperipe',\n",
              " 'ropery',\n",
              " 'ropes',\n",
              " 'ropesmith',\n",
              " 'ropetrick',\n",
              " 'ropewalk',\n",
              " 'ropewalker',\n",
              " 'ropeway',\n",
              " 'ropework',\n",
              " 'ropily',\n",
              " 'ropiness',\n",
              " 'roping',\n",
              " 'ropish',\n",
              " 'ropishness',\n",
              " 'ropp',\n",
              " 'ropy']"
            ]
          },
          "metadata": {},
          "execution_count": 367
        }
      ]
    },
    {
      "cell_type": "code",
      "metadata": {
        "colab": {
          "base_uri": "https://localhost:8080/"
        },
        "id": "00DQn15H-t63",
        "outputId": "1fac1982-a605-4b85-8d5b-9261063bdcb2"
      },
      "source": [
        "print(os.environ)"
      ],
      "execution_count": 380,
      "outputs": [
        {
          "output_type": "stream",
          "name": "stdout",
          "text": [
            "environ({'NO_GCE_CHECK': 'True', 'GCS_READ_CACHE_BLOCK_SIZE_MB': '16', 'CLOUDSDK_CONFIG': '/content/.config', 'CUDA_VERSION': '11.1.1', 'PATH': '/usr/local/nvidia/bin:/usr/local/cuda/bin:/usr/local/sbin:/usr/local/bin:/usr/sbin:/usr/bin:/sbin:/bin:/tools/node/bin:/tools/google-cloud-sdk/bin:/opt/bin', 'HOME': '/root', 'LD_LIBRARY_PATH': '/usr/local/nvidia/lib:/usr/local/nvidia/lib64', 'LANG': 'en_US.UTF-8', 'SHELL': '/bin/bash', 'LIBRARY_PATH': '/usr/local/cuda/lib64/stubs', 'SHLVL': '0', 'GCE_METADATA_TIMEOUT': '0', 'NCCL_VERSION': '2.7.8', 'NVIDIA_VISIBLE_DEVICES': 'all', 'DEBIAN_FRONTEND': 'noninteractive', 'CUDNN_VERSION': '8.0.5.39', 'LAST_FORCED_REBUILD': '20210824', 'JPY_PARENT_PID': '52', 'PYTHONPATH': '/env/python', 'DATALAB_SETTINGS_OVERRIDES': '{\"kernelManagerProxyPort\":6000,\"kernelManagerProxyHost\":\"172.28.0.3\",\"jupyterArgs\":[\"--ip=\\\\\"172.28.0.2\\\\\"\"],\"debugAdapterMultiplexerPath\":\"/usr/local/bin/dap_multiplexer\",\"enableLsp\":true}', 'ENV': '/root/.bashrc', 'GLIBCXX_FORCE_NEW': '1', 'NVIDIA_DRIVER_CAPABILITIES': 'compute,utility', 'TF_FORCE_GPU_ALLOW_GROWTH': 'true', 'LD_PRELOAD': '/usr/lib/x86_64-linux-gnu/libtcmalloc.so.4', 'PYTHONWARNINGS': 'ignore:::pip._internal.cli.base_command', 'NVIDIA_REQUIRE_CUDA': 'cuda>=11.1 brand=tesla,driver>=418,driver<419 brand=tesla,driver>=440,driver<441 brand=tesla,driver>=450,driver<451', 'OLDPWD': '/', 'HOSTNAME': '65a93a0fb6a3', 'COLAB_GPU': '0', 'PWD': '/', 'CLOUDSDK_PYTHON': 'python3', 'GLIBCPP_FORCE_NEW': '1', 'TBE_EPHEM_CREDS_ADDR': '172.28.0.1:8009', 'TBE_CREDS_ADDR': '172.28.0.1:8008', 'TERM': 'xterm-color', 'CLICOLOR': '1', 'PAGER': 'cat', 'GIT_PAGER': 'cat', 'MPLBACKEND': 'module://ipykernel.pylab.backend_inline', 'PYDEVD_USE_FRAME_EVAL': 'NO', 'KMP_DUPLICATE_LIB_OK': 'True', 'KMP_INIT_AT_FORK': 'FALSE'})\n"
          ]
        }
      ]
    },
    {
      "cell_type": "code",
      "metadata": {
        "id": "Os1_Ngj__D-S"
      },
      "source": [
        "!alfa=\"hello\"\n",
        "!export alfa=\"hello\""
      ],
      "execution_count": 393,
      "outputs": []
    },
    {
      "cell_type": "code",
      "metadata": {
        "colab": {
          "base_uri": "https://localhost:8080/"
        },
        "id": "essF-GqmAyeN",
        "outputId": "87e62df3-d6fa-4b4f-bee2-471dd3403629"
      },
      "source": [
        "!set"
      ],
      "execution_count": 396,
      "outputs": [
        {
          "output_type": "stream",
          "name": "stdout",
          "text": [
            "BASH=/bin/bash\n",
            "BASHOPTS=cmdhist:complete_fullquote:extquote:force_fignore:hostcomplete:interactive_comments:progcomp:promptvars:sourcepath\n",
            "BASH_ALIASES=()\n",
            "BASH_ARGC=()\n",
            "BASH_ARGV=()\n",
            "BASH_CMDS=()\n",
            "BASH_EXECUTION_STRING=set\n",
            "BASH_LINENO=()\n",
            "BASH_SOURCE=()\n",
            "BASH_VERSINFO=([0]=\"4\" [1]=\"4\" [2]=\"20\" [3]=\"1\" [4]=\"release\" [5]=\"x86_64-pc-linux-gnu\")\n",
            "BASH_VERSION='4.4.20(1)-release'\n",
            "CLICOLOR=1\n",
            "CLOUDSDK_CONFIG=/content/.config\n",
            "CLOUDSDK_PYTHON=python3\n",
            "COLAB_GPU=0\n",
            "CUDA_VERSION=11.1.1\n",
            "CUDNN_VERSION=8.0.5.39\n",
            "DATALAB_SETTINGS_OVERRIDES='{\"kernelManagerProxyPort\":6000,\"kernelManagerProxyHost\":\"172.28.0.3\",\"jupyterArgs\":[\"--ip=\\\"172.28.0.2\\\"\"],\"debugAdapterMultiplexerPath\":\"/usr/local/bin/dap_multiplexer\",\"enableLsp\":true}'\n",
            "DEBIAN_FRONTEND=noninteractive\n",
            "DIRSTACK=()\n",
            "ENV=/root/.bashrc\n",
            "EUID=0\n",
            "GCE_METADATA_TIMEOUT=0\n",
            "GCS_READ_CACHE_BLOCK_SIZE_MB=16\n",
            "GIT_PAGER=cat\n",
            "GLIBCPP_FORCE_NEW=1\n",
            "GLIBCXX_FORCE_NEW=1\n",
            "GROUPS=()\n",
            "HOME=/root\n",
            "HOSTNAME=65a93a0fb6a3\n",
            "HOSTTYPE=x86_64\n",
            "IFS=$' \\t\\n'\n",
            "JPY_PARENT_PID=52\n",
            "KMP_DUPLICATE_LIB_OK=True\n",
            "KMP_INIT_AT_FORK=FALSE\n",
            "LANG=en_US.UTF-8\n",
            "LAST_FORCED_REBUILD=20210824\n",
            "LD_LIBRARY_PATH=/usr/local/nvidia/lib:/usr/local/nvidia/lib64\n",
            "LD_PRELOAD=/usr/lib/x86_64-linux-gnu/libtcmalloc.so.4\n",
            "LIBRARY_PATH=/usr/local/cuda/lib64/stubs\n",
            "MACHTYPE=x86_64-pc-linux-gnu\n",
            "MPLBACKEND=module://ipykernel.pylab.backend_inline\n",
            "NCCL_VERSION=2.7.8\n",
            "NO_GCE_CHECK=True\n",
            "NVIDIA_DRIVER_CAPABILITIES=compute,utility\n",
            "NVIDIA_REQUIRE_CUDA='cuda>=11.1 brand=tesla,driver>=418,driver<419 brand=tesla,driver>=440,driver<441 brand=tesla,driver>=450,driver<451'\n",
            "NVIDIA_VISIBLE_DEVICES=all\n",
            "OLDPWD=/\n",
            "OPTERR=1\n",
            "OPTIND=1\n",
            "OSTYPE=linux-gnu\n",
            "PAGER=cat\n",
            "PATH=/usr/local/nvidia/bin:/usr/local/cuda/bin:/usr/local/sbin:/usr/local/bin:/usr/sbin:/usr/bin:/sbin:/bin:/tools/node/bin:/tools/google-cloud-sdk/bin:/opt/bin\n",
            "PPID=63\n",
            "PS4='+ '\n",
            "PWD=/content\n",
            "PYDEVD_USE_FRAME_EVAL=NO\n",
            "PYTHONPATH=/env/python\n",
            "PYTHONWARNINGS=ignore:::pip._internal.cli.base_command\n",
            "SHELL=/bin/bash\n",
            "SHELLOPTS=braceexpand:hashall:interactive-comments\n",
            "SHLVL=1\n",
            "TBE_CREDS_ADDR=172.28.0.1:8008\n",
            "TBE_EPHEM_CREDS_ADDR=172.28.0.1:8009\n",
            "TERM=xterm-color\n",
            "TF_FORCE_GPU_ALLOW_GROWTH=true\n",
            "UID=0\n",
            "_=/bin/bash\n"
          ]
        }
      ]
    },
    {
      "cell_type": "code",
      "metadata": {
        "colab": {
          "base_uri": "https://localhost:8080/",
          "height": 298
        },
        "id": "QDNWi83e_vJf",
        "outputId": "57b550d6-2e4c-46f6-c805-674b65ceb872"
      },
      "source": [
        "print(os.environ[\"alfa\"])"
      ],
      "execution_count": 392,
      "outputs": [
        {
          "output_type": "error",
          "ename": "KeyError",
          "evalue": "ignored",
          "traceback": [
            "\u001b[0;31m---------------------------------------------------------------------------\u001b[0m",
            "\u001b[0;31mKeyError\u001b[0m                                  Traceback (most recent call last)",
            "\u001b[0;32m<ipython-input-392-670d096e89d1>\u001b[0m in \u001b[0;36m<module>\u001b[0;34m()\u001b[0m\n\u001b[0;32m----> 1\u001b[0;31m \u001b[0mprint\u001b[0m\u001b[0;34m(\u001b[0m\u001b[0mos\u001b[0m\u001b[0;34m.\u001b[0m\u001b[0menviron\u001b[0m\u001b[0;34m[\u001b[0m\u001b[0;34m\"alfa\"\u001b[0m\u001b[0;34m]\u001b[0m\u001b[0;34m)\u001b[0m\u001b[0;34m\u001b[0m\u001b[0;34m\u001b[0m\u001b[0m\n\u001b[0m",
            "\u001b[0;32m/usr/lib/python3.7/os.py\u001b[0m in \u001b[0;36m__getitem__\u001b[0;34m(self, key)\u001b[0m\n\u001b[1;32m    679\u001b[0m         \u001b[0;32mexcept\u001b[0m \u001b[0mKeyError\u001b[0m\u001b[0;34m:\u001b[0m\u001b[0;34m\u001b[0m\u001b[0;34m\u001b[0m\u001b[0m\n\u001b[1;32m    680\u001b[0m             \u001b[0;31m# raise KeyError with the original key value\u001b[0m\u001b[0;34m\u001b[0m\u001b[0;34m\u001b[0m\u001b[0;34m\u001b[0m\u001b[0m\n\u001b[0;32m--> 681\u001b[0;31m             \u001b[0;32mraise\u001b[0m \u001b[0mKeyError\u001b[0m\u001b[0;34m(\u001b[0m\u001b[0mkey\u001b[0m\u001b[0;34m)\u001b[0m \u001b[0;32mfrom\u001b[0m \u001b[0;32mNone\u001b[0m\u001b[0;34m\u001b[0m\u001b[0;34m\u001b[0m\u001b[0m\n\u001b[0m\u001b[1;32m    682\u001b[0m         \u001b[0;32mreturn\u001b[0m \u001b[0mself\u001b[0m\u001b[0;34m.\u001b[0m\u001b[0mdecodevalue\u001b[0m\u001b[0;34m(\u001b[0m\u001b[0mvalue\u001b[0m\u001b[0;34m)\u001b[0m\u001b[0;34m\u001b[0m\u001b[0;34m\u001b[0m\u001b[0m\n\u001b[1;32m    683\u001b[0m \u001b[0;34m\u001b[0m\u001b[0m\n",
            "\u001b[0;31mKeyError\u001b[0m: 'alfa'"
          ]
        }
      ]
    },
    {
      "cell_type": "code",
      "metadata": {
        "colab": {
          "base_uri": "https://localhost:8080/"
        },
        "id": "8-WfLQ3I_7zB",
        "outputId": "31217186-4ad0-4ffa-954a-4441006d0aa0"
      },
      "source": [
        "!printenv NO_GCE_CHECK"
      ],
      "execution_count": 384,
      "outputs": [
        {
          "output_type": "stream",
          "name": "stdout",
          "text": [
            "True\n"
          ]
        }
      ]
    }
  ]
}