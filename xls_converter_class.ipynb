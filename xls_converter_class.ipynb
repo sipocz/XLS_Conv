{
  "nbformat": 4,
  "nbformat_minor": 0,
  "metadata": {
    "colab": {
      "name": "xls_converter_class.ipynb",
      "provenance": [],
      "collapsed_sections": [],
      "authorship_tag": "ABX9TyOatGsheP9JIZ2fqLVEduGG",
      "include_colab_link": true
    },
    "kernelspec": {
      "name": "python3",
      "display_name": "Python 3"
    },
    "language_info": {
      "name": "python"
    }
  },
  "cells": [
    {
      "cell_type": "markdown",
      "metadata": {
        "id": "view-in-github",
        "colab_type": "text"
      },
      "source": [
        "<a href=\"https://colab.research.google.com/github/sipocz/XLS_Conv/blob/main/xls_converter_class.ipynb\" target=\"_parent\"><img src=\"https://colab.research.google.com/assets/colab-badge.svg\" alt=\"Open In Colab\"/></a>"
      ]
    },
    {
      "cell_type": "code",
      "metadata": {
        "id": "_Ns_nZkyTJUL"
      },
      "source": [
        "import os"
      ],
      "execution_count": 94,
      "outputs": []
    },
    {
      "cell_type": "code",
      "metadata": {
        "id": "fPvxkA2XR3dO"
      },
      "source": [
        "class XLS_timeseries:\n",
        "    import pandas as pd\n",
        "    import os\n",
        "    def __init__(self,fname):\n",
        "\n",
        "        self.readfile(fname)\n",
        "\n",
        "    def readfile(self,fname):\n",
        "        from pandas import ExcelFile\n",
        "        self.tabs = ExcelFile(fname).sheet_names \n",
        "        self.fname=fname\n",
        "    \n",
        "    def __str__(self):\n",
        "        return(f\"file name:{self.fname}, sheets: {self.tabs}\")\n",
        "\n",
        "\n",
        "        \n",
        "    \n",
        "    def get_data1s(self,sheet_name):\n",
        "        import pandas as pd\n",
        "        fname=self.fname\n",
        "        df=pd.read_excel(fname,sheet_name=sheet_name)\n",
        "        df.columns=[\"Date\",\"Value\",\"Status\"]\n",
        "        bad_data=df[df[\"Status\"]==\"Bad Data\"].index\n",
        "        df.drop(index=bad_data,inplace=True)\n",
        "        df.dropna(inplace=True)\n",
        "        df.index=df.Date\n",
        "        df.set_index(\"Date\",inplace=True)\n",
        "        df.drop(columns=[\"Status\"], inplace=True)\n",
        "        dfout=df.resample(\"1s\").mean()\n",
        "        dfout.interpolate('linear',inplace=True)\n",
        "        self.df_base=dfout\n",
        "        return(dfout)\n",
        "    \n",
        "    def df_list(self):\n",
        "        fname=self.fname\n",
        "        tabs=self.tabs\n",
        "        self.out_df_list=[]\n",
        "        for tabx in tabs:\n",
        "            dftab=self.get_data1s(tabx)\n",
        "            #dftab.plot()\n",
        "            self.out_df_list.append(dftab)\n",
        "        return self.out_df_list \n",
        "    \n",
        "    def df_concat(self):\n",
        "        from pandas import concat\n",
        "        dflist=self.out_df_list\n",
        "        df_heads=self.tabs\n",
        "        for index,name in enumerate(df_heads):\n",
        "            dflist[index].columns=[name]\n",
        "        out_df=concat(dflist,axis=1)\n",
        "    #out_df.head=df_heads\n",
        "        out_df.dropna(inplace=True)\n",
        "        self.DF=out_df\n",
        "        return(out_df)\n"
      ],
      "execution_count": 95,
      "outputs": []
    },
    {
      "cell_type": "code",
      "metadata": {
        "colab": {
          "base_uri": "https://localhost:8080/"
        },
        "id": "J9K09zzGTGM-",
        "outputId": "9f8cec88-3877-418e-eca1-98a2b75362ff"
      },
      "source": [
        "!rm *.xlsx*\n",
        "urlname=\"https://github.com/sipocz/XLS_Conv/raw/main/U113_20210607.xlsx\"\n",
        "_,fname= os.path.split(urlname)\n",
        "!wget $urlname"
      ],
      "execution_count": 96,
      "outputs": [
        {
          "output_type": "stream",
          "name": "stdout",
          "text": [
            "--2021-09-27 15:26:36--  https://github.com/sipocz/XLS_Conv/raw/main/U113_20210607.xlsx\n",
            "Resolving github.com (github.com)... 13.114.40.48\n",
            "Connecting to github.com (github.com)|13.114.40.48|:443... connected.\n",
            "HTTP request sent, awaiting response... 302 Found\n",
            "Location: https://raw.githubusercontent.com/sipocz/XLS_Conv/main/U113_20210607.xlsx [following]\n",
            "--2021-09-27 15:26:37--  https://raw.githubusercontent.com/sipocz/XLS_Conv/main/U113_20210607.xlsx\n",
            "Resolving raw.githubusercontent.com (raw.githubusercontent.com)... 185.199.109.133, 185.199.110.133, 185.199.108.133, ...\n",
            "Connecting to raw.githubusercontent.com (raw.githubusercontent.com)|185.199.109.133|:443... connected.\n",
            "HTTP request sent, awaiting response... 200 OK\n",
            "Length: 5661857 (5.4M) [application/octet-stream]\n",
            "Saving to: ‘U113_20210607.xlsx’\n",
            "\n",
            "U113_20210607.xlsx  100%[===================>]   5.40M  --.-KB/s    in 0.1s    \n",
            "\n",
            "2021-09-27 15:26:37 (39.1 MB/s) - ‘U113_20210607.xlsx’ saved [5661857/5661857]\n",
            "\n"
          ]
        }
      ]
    },
    {
      "cell_type": "code",
      "metadata": {
        "id": "5k-W3tF1TNzy"
      },
      "source": [
        "a=XLS_timeseries(fname)"
      ],
      "execution_count": 97,
      "outputs": []
    },
    {
      "cell_type": "code",
      "metadata": {
        "id": "ifBEHzSRNaTk"
      },
      "source": [
        "a.readfile(fname)"
      ],
      "execution_count": 98,
      "outputs": []
    },
    {
      "cell_type": "code",
      "metadata": {
        "colab": {
          "base_uri": "https://localhost:8080/"
        },
        "id": "fRy7jL7UTj8D",
        "outputId": "b3d5e3bd-a01a-4efc-9616-ea69f6034f8b"
      },
      "source": [
        "a.tabs"
      ],
      "execution_count": 99,
      "outputs": [
        {
          "output_type": "execute_result",
          "data": {
            "text/plain": [
              "['AS_P113B',\n",
              " 'AS_PH113',\n",
              " 'AS_T113F',\n",
              " 'AS_T1131',\n",
              " 'AS_T1132',\n",
              " 'AS_T1133',\n",
              " 'AS_T1134',\n",
              " 'AS_T1135']"
            ]
          },
          "metadata": {},
          "execution_count": 99
        }
      ]
    },
    {
      "cell_type": "code",
      "metadata": {
        "colab": {
          "base_uri": "https://localhost:8080/",
          "height": 450
        },
        "id": "cT4WjNHgT4VO",
        "outputId": "0b821718-db1a-4244-9d22-ce9993e06f93"
      },
      "source": [
        "a.get_data1s(a.tabs[0])"
      ],
      "execution_count": 100,
      "outputs": [
        {
          "output_type": "execute_result",
          "data": {
            "text/html": [
              "<div>\n",
              "<style scoped>\n",
              "    .dataframe tbody tr th:only-of-type {\n",
              "        vertical-align: middle;\n",
              "    }\n",
              "\n",
              "    .dataframe tbody tr th {\n",
              "        vertical-align: top;\n",
              "    }\n",
              "\n",
              "    .dataframe thead th {\n",
              "        text-align: right;\n",
              "    }\n",
              "</style>\n",
              "<table border=\"1\" class=\"dataframe\">\n",
              "  <thead>\n",
              "    <tr style=\"text-align: right;\">\n",
              "      <th></th>\n",
              "      <th>Value</th>\n",
              "    </tr>\n",
              "    <tr>\n",
              "      <th>Date</th>\n",
              "      <th></th>\n",
              "    </tr>\n",
              "  </thead>\n",
              "  <tbody>\n",
              "    <tr>\n",
              "      <th>2021-06-07 00:00:21</th>\n",
              "      <td>0.113756</td>\n",
              "    </tr>\n",
              "    <tr>\n",
              "      <th>2021-06-07 00:00:22</th>\n",
              "      <td>0.114282</td>\n",
              "    </tr>\n",
              "    <tr>\n",
              "      <th>2021-06-07 00:00:23</th>\n",
              "      <td>0.114809</td>\n",
              "    </tr>\n",
              "    <tr>\n",
              "      <th>2021-06-07 00:00:24</th>\n",
              "      <td>0.115335</td>\n",
              "    </tr>\n",
              "    <tr>\n",
              "      <th>2021-06-07 00:00:25</th>\n",
              "      <td>0.115862</td>\n",
              "    </tr>\n",
              "    <tr>\n",
              "      <th>...</th>\n",
              "      <td>...</td>\n",
              "    </tr>\n",
              "    <tr>\n",
              "      <th>2021-06-11 23:59:38</th>\n",
              "      <td>0.085145</td>\n",
              "    </tr>\n",
              "    <tr>\n",
              "      <th>2021-06-11 23:59:39</th>\n",
              "      <td>0.085145</td>\n",
              "    </tr>\n",
              "    <tr>\n",
              "      <th>2021-06-11 23:59:40</th>\n",
              "      <td>0.085145</td>\n",
              "    </tr>\n",
              "    <tr>\n",
              "      <th>2021-06-11 23:59:41</th>\n",
              "      <td>0.085145</td>\n",
              "    </tr>\n",
              "    <tr>\n",
              "      <th>2021-06-11 23:59:42</th>\n",
              "      <td>0.085145</td>\n",
              "    </tr>\n",
              "  </tbody>\n",
              "</table>\n",
              "<p>431962 rows × 1 columns</p>\n",
              "</div>"
            ],
            "text/plain": [
              "                        Value\n",
              "Date                         \n",
              "2021-06-07 00:00:21  0.113756\n",
              "2021-06-07 00:00:22  0.114282\n",
              "2021-06-07 00:00:23  0.114809\n",
              "2021-06-07 00:00:24  0.115335\n",
              "2021-06-07 00:00:25  0.115862\n",
              "...                       ...\n",
              "2021-06-11 23:59:38  0.085145\n",
              "2021-06-11 23:59:39  0.085145\n",
              "2021-06-11 23:59:40  0.085145\n",
              "2021-06-11 23:59:41  0.085145\n",
              "2021-06-11 23:59:42  0.085145\n",
              "\n",
              "[431962 rows x 1 columns]"
            ]
          },
          "metadata": {},
          "execution_count": 100
        }
      ]
    },
    {
      "cell_type": "code",
      "metadata": {
        "colab": {
          "base_uri": "https://localhost:8080/",
          "height": 235
        },
        "id": "mzRAjjL8VzP6",
        "outputId": "9069c658-951d-4937-bce9-2c843b061ce8"
      },
      "source": [
        "a.df_base.head()"
      ],
      "execution_count": 101,
      "outputs": [
        {
          "output_type": "execute_result",
          "data": {
            "text/html": [
              "<div>\n",
              "<style scoped>\n",
              "    .dataframe tbody tr th:only-of-type {\n",
              "        vertical-align: middle;\n",
              "    }\n",
              "\n",
              "    .dataframe tbody tr th {\n",
              "        vertical-align: top;\n",
              "    }\n",
              "\n",
              "    .dataframe thead th {\n",
              "        text-align: right;\n",
              "    }\n",
              "</style>\n",
              "<table border=\"1\" class=\"dataframe\">\n",
              "  <thead>\n",
              "    <tr style=\"text-align: right;\">\n",
              "      <th></th>\n",
              "      <th>Value</th>\n",
              "    </tr>\n",
              "    <tr>\n",
              "      <th>Date</th>\n",
              "      <th></th>\n",
              "    </tr>\n",
              "  </thead>\n",
              "  <tbody>\n",
              "    <tr>\n",
              "      <th>2021-06-07 00:00:21</th>\n",
              "      <td>0.113756</td>\n",
              "    </tr>\n",
              "    <tr>\n",
              "      <th>2021-06-07 00:00:22</th>\n",
              "      <td>0.114282</td>\n",
              "    </tr>\n",
              "    <tr>\n",
              "      <th>2021-06-07 00:00:23</th>\n",
              "      <td>0.114809</td>\n",
              "    </tr>\n",
              "    <tr>\n",
              "      <th>2021-06-07 00:00:24</th>\n",
              "      <td>0.115335</td>\n",
              "    </tr>\n",
              "    <tr>\n",
              "      <th>2021-06-07 00:00:25</th>\n",
              "      <td>0.115862</td>\n",
              "    </tr>\n",
              "  </tbody>\n",
              "</table>\n",
              "</div>"
            ],
            "text/plain": [
              "                        Value\n",
              "Date                         \n",
              "2021-06-07 00:00:21  0.113756\n",
              "2021-06-07 00:00:22  0.114282\n",
              "2021-06-07 00:00:23  0.114809\n",
              "2021-06-07 00:00:24  0.115335\n",
              "2021-06-07 00:00:25  0.115862"
            ]
          },
          "metadata": {},
          "execution_count": 101
        }
      ]
    },
    {
      "cell_type": "code",
      "metadata": {
        "colab": {
          "base_uri": "https://localhost:8080/"
        },
        "id": "56L5Rdt4W6vN",
        "outputId": "4d8c6a60-34d1-4279-cdb3-724ce8fd19a4"
      },
      "source": [
        "print(a)"
      ],
      "execution_count": 102,
      "outputs": [
        {
          "output_type": "stream",
          "name": "stdout",
          "text": [
            "file name:U113_20210607.xlsx, sheets: ['AS_P113B', 'AS_PH113', 'AS_T113F', 'AS_T1131', 'AS_T1132', 'AS_T1133', 'AS_T1134', 'AS_T1135']\n"
          ]
        }
      ]
    },
    {
      "cell_type": "code",
      "metadata": {
        "colab": {
          "base_uri": "https://localhost:8080/"
        },
        "id": "cbTZecDJz2WG",
        "outputId": "ce39f02c-2345-4831-9c3a-96133e303f83"
      },
      "source": [
        "a.df_list()"
      ],
      "execution_count": 103,
      "outputs": [
        {
          "output_type": "execute_result",
          "data": {
            "text/plain": [
              "[                        Value\n",
              " Date                         \n",
              " 2021-06-07 00:00:21  0.113756\n",
              " 2021-06-07 00:00:22  0.114282\n",
              " 2021-06-07 00:00:23  0.114809\n",
              " 2021-06-07 00:00:24  0.115335\n",
              " 2021-06-07 00:00:25  0.115862\n",
              " ...                       ...\n",
              " 2021-06-11 23:59:38  0.085145\n",
              " 2021-06-11 23:59:39  0.085145\n",
              " 2021-06-11 23:59:40  0.085145\n",
              " 2021-06-11 23:59:41  0.085145\n",
              " 2021-06-11 23:59:42  0.085145\n",
              " \n",
              " [431962 rows x 1 columns],                         Value\n",
              " Date                         \n",
              " 2021-06-07 00:00:25  9.144274\n",
              " 2021-06-07 00:00:26  9.144369\n",
              " 2021-06-07 00:00:27  9.144464\n",
              " 2021-06-07 00:00:28  9.144560\n",
              " 2021-06-07 00:00:29  9.144655\n",
              " ...                       ...\n",
              " 2021-06-11 23:59:38  9.643396\n",
              " 2021-06-11 23:59:39  9.643778\n",
              " 2021-06-11 23:59:40  9.644159\n",
              " 2021-06-11 23:59:41  9.644541\n",
              " 2021-06-11 23:59:42  9.644922\n",
              " \n",
              " [431958 rows x 1 columns],                          Value\n",
              " Date                          \n",
              " 2021-06-07 00:00:25  33.756008\n",
              " 2021-06-07 00:00:26  33.757915\n",
              " 2021-06-07 00:00:27  33.759823\n",
              " 2021-06-07 00:00:28  33.761730\n",
              " 2021-06-07 00:00:29  33.763638\n",
              " ...                        ...\n",
              " 2021-06-11 23:59:46  39.255360\n",
              " 2021-06-11 23:59:47  39.255360\n",
              " 2021-06-11 23:59:48  39.255360\n",
              " 2021-06-11 23:59:49  39.255360\n",
              " 2021-06-11 23:59:50  39.255360\n",
              " \n",
              " [431966 rows x 1 columns],                          Value\n",
              " Date                          \n",
              " 2021-06-07 00:00:25  31.860840\n",
              " 2021-06-07 00:00:26  31.870758\n",
              " 2021-06-07 00:00:27  31.880676\n",
              " 2021-06-07 00:00:28  31.890594\n",
              " 2021-06-07 00:00:29  31.900513\n",
              " ...                        ...\n",
              " 2021-06-11 23:59:38  36.182953\n",
              " 2021-06-11 23:59:39  36.182953\n",
              " 2021-06-11 23:59:40  36.182953\n",
              " 2021-06-11 23:59:41  36.182953\n",
              " 2021-06-11 23:59:42  36.182953\n",
              " \n",
              " [431958 rows x 1 columns],                          Value\n",
              " Date                          \n",
              " 2021-06-07 00:00:31  32.082092\n",
              " 2021-06-07 00:00:32  32.073318\n",
              " 2021-06-07 00:00:33  32.064545\n",
              " 2021-06-07 00:00:34  32.055771\n",
              " 2021-06-07 00:00:35  32.046997\n",
              " ...                        ...\n",
              " 2021-06-11 23:59:48  33.818573\n",
              " 2021-06-11 23:59:49  33.809799\n",
              " 2021-06-11 23:59:50  33.801025\n",
              " 2021-06-11 23:59:51  33.792252\n",
              " 2021-06-11 23:59:52  33.783478\n",
              " \n",
              " [431962 rows x 1 columns],                          Value\n",
              " Date                          \n",
              " 2021-06-07 00:00:36  31.925690\n",
              " 2021-06-07 00:00:37  31.925690\n",
              " 2021-06-07 00:00:38  31.925690\n",
              " 2021-06-07 00:00:39  31.925690\n",
              " 2021-06-07 00:00:40  31.925690\n",
              " ...                        ...\n",
              " 2021-06-11 23:59:46  25.543602\n",
              " 2021-06-11 23:59:47  25.543602\n",
              " 2021-06-11 23:59:48  25.543602\n",
              " 2021-06-11 23:59:49  25.543602\n",
              " 2021-06-11 23:59:50  25.543602\n",
              " \n",
              " [431955 rows x 1 columns],                          Value\n",
              " Date                          \n",
              " 2021-06-07 00:00:25  31.436636\n",
              " 2021-06-07 00:00:26  31.443655\n",
              " 2021-06-07 00:00:27  31.450674\n",
              " 2021-06-07 00:00:28  31.457694\n",
              " 2021-06-07 00:00:29  31.464713\n",
              " ...                        ...\n",
              " 2021-06-11 23:59:46  37.393761\n",
              " 2021-06-11 23:59:47  37.393761\n",
              " 2021-06-11 23:59:48  37.393761\n",
              " 2021-06-11 23:59:49  37.393761\n",
              " 2021-06-11 23:59:50  37.393761\n",
              " \n",
              " [431966 rows x 1 columns],                          Value\n",
              " Date                          \n",
              " 2021-06-07 00:00:25  32.794689\n",
              " 2021-06-07 00:00:26  32.794689\n",
              " 2021-06-07 00:00:27  32.794689\n",
              " 2021-06-07 00:00:28  32.794689\n",
              " 2021-06-07 00:00:29  32.794689\n",
              " ...                        ...\n",
              " 2021-06-11 23:59:48  39.114975\n",
              " 2021-06-11 23:59:49  39.114975\n",
              " 2021-06-11 23:59:50  39.114975\n",
              " 2021-06-11 23:59:51  39.114975\n",
              " 2021-06-11 23:59:52  39.114975\n",
              " \n",
              " [431968 rows x 1 columns]]"
            ]
          },
          "metadata": {},
          "execution_count": 103
        }
      ]
    },
    {
      "cell_type": "code",
      "metadata": {
        "colab": {
          "base_uri": "https://localhost:8080/",
          "height": 450
        },
        "id": "1NVhOzWP0uwb",
        "outputId": "13e1439a-b40c-4452-b1f9-6d05210e5b8e"
      },
      "source": [
        "a.df_concat()"
      ],
      "execution_count": 104,
      "outputs": [
        {
          "output_type": "execute_result",
          "data": {
            "text/html": [
              "<div>\n",
              "<style scoped>\n",
              "    .dataframe tbody tr th:only-of-type {\n",
              "        vertical-align: middle;\n",
              "    }\n",
              "\n",
              "    .dataframe tbody tr th {\n",
              "        vertical-align: top;\n",
              "    }\n",
              "\n",
              "    .dataframe thead th {\n",
              "        text-align: right;\n",
              "    }\n",
              "</style>\n",
              "<table border=\"1\" class=\"dataframe\">\n",
              "  <thead>\n",
              "    <tr style=\"text-align: right;\">\n",
              "      <th></th>\n",
              "      <th>AS_P113B</th>\n",
              "      <th>AS_PH113</th>\n",
              "      <th>AS_T113F</th>\n",
              "      <th>AS_T1131</th>\n",
              "      <th>AS_T1132</th>\n",
              "      <th>AS_T1133</th>\n",
              "      <th>AS_T1134</th>\n",
              "      <th>AS_T1135</th>\n",
              "    </tr>\n",
              "    <tr>\n",
              "      <th>Date</th>\n",
              "      <th></th>\n",
              "      <th></th>\n",
              "      <th></th>\n",
              "      <th></th>\n",
              "      <th></th>\n",
              "      <th></th>\n",
              "      <th></th>\n",
              "      <th></th>\n",
              "    </tr>\n",
              "  </thead>\n",
              "  <tbody>\n",
              "    <tr>\n",
              "      <th>2021-06-07 00:00:36</th>\n",
              "      <td>0.119020</td>\n",
              "      <td>9.145323</td>\n",
              "      <td>33.776989</td>\n",
              "      <td>31.960022</td>\n",
              "      <td>32.038223</td>\n",
              "      <td>31.925690</td>\n",
              "      <td>31.499809</td>\n",
              "      <td>32.794689</td>\n",
              "    </tr>\n",
              "    <tr>\n",
              "      <th>2021-06-07 00:00:37</th>\n",
              "      <td>0.119020</td>\n",
              "      <td>9.145418</td>\n",
              "      <td>33.778896</td>\n",
              "      <td>31.960022</td>\n",
              "      <td>32.029449</td>\n",
              "      <td>31.925690</td>\n",
              "      <td>31.492790</td>\n",
              "      <td>32.794689</td>\n",
              "    </tr>\n",
              "    <tr>\n",
              "      <th>2021-06-07 00:00:38</th>\n",
              "      <td>0.119020</td>\n",
              "      <td>9.145514</td>\n",
              "      <td>33.780804</td>\n",
              "      <td>31.960022</td>\n",
              "      <td>32.020676</td>\n",
              "      <td>31.925690</td>\n",
              "      <td>31.485771</td>\n",
              "      <td>32.794689</td>\n",
              "    </tr>\n",
              "    <tr>\n",
              "      <th>2021-06-07 00:00:39</th>\n",
              "      <td>0.119020</td>\n",
              "      <td>9.145609</td>\n",
              "      <td>33.782711</td>\n",
              "      <td>31.960022</td>\n",
              "      <td>32.011902</td>\n",
              "      <td>31.925690</td>\n",
              "      <td>31.478751</td>\n",
              "      <td>32.794689</td>\n",
              "    </tr>\n",
              "    <tr>\n",
              "      <th>2021-06-07 00:00:40</th>\n",
              "      <td>0.119020</td>\n",
              "      <td>9.145704</td>\n",
              "      <td>33.784618</td>\n",
              "      <td>31.960022</td>\n",
              "      <td>32.003128</td>\n",
              "      <td>31.925690</td>\n",
              "      <td>31.471732</td>\n",
              "      <td>32.794689</td>\n",
              "    </tr>\n",
              "    <tr>\n",
              "      <th>...</th>\n",
              "      <td>...</td>\n",
              "      <td>...</td>\n",
              "      <td>...</td>\n",
              "      <td>...</td>\n",
              "      <td>...</td>\n",
              "      <td>...</td>\n",
              "      <td>...</td>\n",
              "      <td>...</td>\n",
              "    </tr>\n",
              "    <tr>\n",
              "      <th>2021-06-11 23:59:38</th>\n",
              "      <td>0.085145</td>\n",
              "      <td>9.643396</td>\n",
              "      <td>39.255360</td>\n",
              "      <td>36.182953</td>\n",
              "      <td>33.836121</td>\n",
              "      <td>25.543602</td>\n",
              "      <td>37.393761</td>\n",
              "      <td>39.114975</td>\n",
              "    </tr>\n",
              "    <tr>\n",
              "      <th>2021-06-11 23:59:39</th>\n",
              "      <td>0.085145</td>\n",
              "      <td>9.643778</td>\n",
              "      <td>39.255360</td>\n",
              "      <td>36.182953</td>\n",
              "      <td>33.844894</td>\n",
              "      <td>25.543602</td>\n",
              "      <td>37.393761</td>\n",
              "      <td>39.114975</td>\n",
              "    </tr>\n",
              "    <tr>\n",
              "      <th>2021-06-11 23:59:40</th>\n",
              "      <td>0.085145</td>\n",
              "      <td>9.644159</td>\n",
              "      <td>39.255360</td>\n",
              "      <td>36.182953</td>\n",
              "      <td>33.853668</td>\n",
              "      <td>25.543602</td>\n",
              "      <td>37.393761</td>\n",
              "      <td>39.114975</td>\n",
              "    </tr>\n",
              "    <tr>\n",
              "      <th>2021-06-11 23:59:41</th>\n",
              "      <td>0.085145</td>\n",
              "      <td>9.644541</td>\n",
              "      <td>39.255360</td>\n",
              "      <td>36.182953</td>\n",
              "      <td>33.862442</td>\n",
              "      <td>25.543602</td>\n",
              "      <td>37.393761</td>\n",
              "      <td>39.114975</td>\n",
              "    </tr>\n",
              "    <tr>\n",
              "      <th>2021-06-11 23:59:42</th>\n",
              "      <td>0.085145</td>\n",
              "      <td>9.644922</td>\n",
              "      <td>39.255360</td>\n",
              "      <td>36.182953</td>\n",
              "      <td>33.871216</td>\n",
              "      <td>25.543602</td>\n",
              "      <td>37.393761</td>\n",
              "      <td>39.114975</td>\n",
              "    </tr>\n",
              "  </tbody>\n",
              "</table>\n",
              "<p>431947 rows × 8 columns</p>\n",
              "</div>"
            ],
            "text/plain": [
              "                     AS_P113B  AS_PH113  ...   AS_T1134   AS_T1135\n",
              "Date                                     ...                      \n",
              "2021-06-07 00:00:36  0.119020  9.145323  ...  31.499809  32.794689\n",
              "2021-06-07 00:00:37  0.119020  9.145418  ...  31.492790  32.794689\n",
              "2021-06-07 00:00:38  0.119020  9.145514  ...  31.485771  32.794689\n",
              "2021-06-07 00:00:39  0.119020  9.145609  ...  31.478751  32.794689\n",
              "2021-06-07 00:00:40  0.119020  9.145704  ...  31.471732  32.794689\n",
              "...                       ...       ...  ...        ...        ...\n",
              "2021-06-11 23:59:38  0.085145  9.643396  ...  37.393761  39.114975\n",
              "2021-06-11 23:59:39  0.085145  9.643778  ...  37.393761  39.114975\n",
              "2021-06-11 23:59:40  0.085145  9.644159  ...  37.393761  39.114975\n",
              "2021-06-11 23:59:41  0.085145  9.644541  ...  37.393761  39.114975\n",
              "2021-06-11 23:59:42  0.085145  9.644922  ...  37.393761  39.114975\n",
              "\n",
              "[431947 rows x 8 columns]"
            ]
          },
          "metadata": {},
          "execution_count": 104
        }
      ]
    }
  ]
}