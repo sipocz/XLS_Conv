{
  "nbformat": 4,
  "nbformat_minor": 0,
  "metadata": {
    "colab": {
      "name": "xls_converter_class.ipynb",
      "provenance": [],
      "authorship_tag": "ABX9TyPq2GHsj8gdiATA9G5i1yO4",
      "include_colab_link": true
    },
    "kernelspec": {
      "name": "python3",
      "display_name": "Python 3"
    },
    "language_info": {
      "name": "python"
    }
  },
  "cells": [
    {
      "cell_type": "markdown",
      "metadata": {
        "id": "view-in-github",
        "colab_type": "text"
      },
      "source": [
        "<a href=\"https://colab.research.google.com/github/sipocz/XLS_Conv/blob/main/xls_converter_class.ipynb\" target=\"_parent\"><img src=\"https://colab.research.google.com/assets/colab-badge.svg\" alt=\"Open In Colab\"/></a>"
      ]
    },
    {
      "cell_type": "code",
      "metadata": {
        "id": "_Ns_nZkyTJUL"
      },
      "source": [
        "import os"
      ],
      "execution_count": 6,
      "outputs": []
    },
    {
      "cell_type": "code",
      "metadata": {
        "id": "fPvxkA2XR3dO"
      },
      "source": [
        "class XLS_timeseries:\n",
        "    import pandas as pd\n",
        "    import os\n",
        "    def __init__(self,fname):\n",
        "\n",
        "        from pandas import ExcelFile\n",
        "        self.tabs = ExcelFile(fname).sheet_names \n",
        "        self.fname=fname\n",
        "    \n",
        "    def readfile():\n",
        "        pass\n",
        "    \n",
        "    def get_data1s(self,sheet_name):\n",
        "        import pandas as pd\n",
        "        fname=self.fname\n",
        "        df=pd.read_excel(fname,sheet_name=sheet_name)\n",
        "        df.columns=[\"Date\",\"Value\",\"Status\"]\n",
        "        bad_data=df[df[\"Status\"]==\"Bad Data\"].index\n",
        "        df.drop(index=bad_data,inplace=True)\n",
        "        df.dropna(inplace=True)\n",
        "        df.index=df.Date\n",
        "        df.set_index(\"Date\",inplace=True)\n",
        "        df.drop(columns=[\"Status\"], inplace=True)\n",
        "        dfout=df.resample(\"1s\").mean()\n",
        "        dfout.interpolate('linear',inplace=True)\n",
        "        self.df_base=dfout\n",
        "        return(dfout)\n"
      ],
      "execution_count": 25,
      "outputs": []
    },
    {
      "cell_type": "code",
      "metadata": {
        "colab": {
          "base_uri": "https://localhost:8080/"
        },
        "id": "RCn-tBG3SMnG",
        "outputId": "9524ab58-9acc-466a-8ecf-8f12cb9a327f"
      },
      "source": [
        ""
      ],
      "execution_count": 2,
      "outputs": [
        {
          "output_type": "stream",
          "name": "stdout",
          "text": [
            "hello\n"
          ]
        }
      ]
    },
    {
      "cell_type": "code",
      "metadata": {
        "colab": {
          "base_uri": "https://localhost:8080/"
        },
        "id": "J9K09zzGTGM-",
        "outputId": "142b34c8-7b58-4384-eeca-e532afedc759"
      },
      "source": [
        "!rm *.xlsx*\n",
        "urlname=\"https://github.com/sipocz/XLS_Conv/raw/main/U113_20210621.xlsx\"\n",
        "_,fname= os.path.split(urlname)\n",
        "!wget $urlname"
      ],
      "execution_count": 11,
      "outputs": [
        {
          "output_type": "stream",
          "name": "stdout",
          "text": [
            "rm: cannot remove '*.xlsx*': No such file or directory\n",
            "--2021-09-26 22:50:57--  https://github.com/sipocz/XLS_Conv/raw/main/U113_20210621.xlsx\n",
            "Resolving github.com (github.com)... 192.30.255.112\n",
            "Connecting to github.com (github.com)|192.30.255.112|:443... connected.\n",
            "HTTP request sent, awaiting response... 302 Found\n",
            "Location: https://raw.githubusercontent.com/sipocz/XLS_Conv/main/U113_20210621.xlsx [following]\n",
            "--2021-09-26 22:50:58--  https://raw.githubusercontent.com/sipocz/XLS_Conv/main/U113_20210621.xlsx\n",
            "Resolving raw.githubusercontent.com (raw.githubusercontent.com)... 185.199.109.133, 185.199.108.133, 185.199.111.133, ...\n",
            "Connecting to raw.githubusercontent.com (raw.githubusercontent.com)|185.199.109.133|:443... connected.\n",
            "HTTP request sent, awaiting response... 200 OK\n",
            "Length: 5550077 (5.3M) [application/octet-stream]\n",
            "Saving to: ‘U113_20210621.xlsx’\n",
            "\n",
            "U113_20210621.xlsx  100%[===================>]   5.29M  --.-KB/s    in 0.1s    \n",
            "\n",
            "2021-09-26 22:51:00 (50.9 MB/s) - ‘U113_20210621.xlsx’ saved [5550077/5550077]\n",
            "\n"
          ]
        }
      ]
    },
    {
      "cell_type": "code",
      "metadata": {
        "id": "5k-W3tF1TNzy"
      },
      "source": [
        "a=XLS_timeseries(fname)"
      ],
      "execution_count": 26,
      "outputs": []
    },
    {
      "cell_type": "code",
      "metadata": {
        "colab": {
          "base_uri": "https://localhost:8080/"
        },
        "id": "fRy7jL7UTj8D",
        "outputId": "86288942-f743-4ac8-d172-9171a9bacacf"
      },
      "source": [
        "a.tabs"
      ],
      "execution_count": 19,
      "outputs": [
        {
          "output_type": "execute_result",
          "data": {
            "text/plain": [
              "['AS_P113B',\n",
              " 'AS_PH113',\n",
              " 'AS_T113F',\n",
              " 'AS_T1131',\n",
              " 'AS_T1132',\n",
              " 'AS_T1133',\n",
              " 'AS_T1134',\n",
              " 'AS_T1135']"
            ]
          },
          "metadata": {},
          "execution_count": 19
        }
      ]
    },
    {
      "cell_type": "code",
      "metadata": {
        "colab": {
          "base_uri": "https://localhost:8080/",
          "height": 454
        },
        "id": "cT4WjNHgT4VO",
        "outputId": "88df51ba-6371-4242-87d6-d2a5c81de996"
      },
      "source": [
        "a.get_data1s(a.tabs[0])"
      ],
      "execution_count": 27,
      "outputs": [
        {
          "output_type": "execute_result",
          "data": {
            "text/html": [
              "<div>\n",
              "<style scoped>\n",
              "    .dataframe tbody tr th:only-of-type {\n",
              "        vertical-align: middle;\n",
              "    }\n",
              "\n",
              "    .dataframe tbody tr th {\n",
              "        vertical-align: top;\n",
              "    }\n",
              "\n",
              "    .dataframe thead th {\n",
              "        text-align: right;\n",
              "    }\n",
              "</style>\n",
              "<table border=\"1\" class=\"dataframe\">\n",
              "  <thead>\n",
              "    <tr style=\"text-align: right;\">\n",
              "      <th></th>\n",
              "      <th>Value</th>\n",
              "    </tr>\n",
              "    <tr>\n",
              "      <th>Date</th>\n",
              "      <th></th>\n",
              "    </tr>\n",
              "  </thead>\n",
              "  <tbody>\n",
              "    <tr>\n",
              "      <th>2021-06-21 05:25:13</th>\n",
              "      <td>0.085145</td>\n",
              "    </tr>\n",
              "    <tr>\n",
              "      <th>2021-06-21 05:25:14</th>\n",
              "      <td>0.085145</td>\n",
              "    </tr>\n",
              "    <tr>\n",
              "      <th>2021-06-21 05:25:15</th>\n",
              "      <td>0.085145</td>\n",
              "    </tr>\n",
              "    <tr>\n",
              "      <th>2021-06-21 05:25:16</th>\n",
              "      <td>0.085145</td>\n",
              "    </tr>\n",
              "    <tr>\n",
              "      <th>2021-06-21 05:25:17</th>\n",
              "      <td>0.085145</td>\n",
              "    </tr>\n",
              "    <tr>\n",
              "      <th>...</th>\n",
              "      <td>...</td>\n",
              "    </tr>\n",
              "    <tr>\n",
              "      <th>2021-06-25 23:59:39</th>\n",
              "      <td>0.107805</td>\n",
              "    </tr>\n",
              "    <tr>\n",
              "      <th>2021-06-25 23:59:40</th>\n",
              "      <td>0.107805</td>\n",
              "    </tr>\n",
              "    <tr>\n",
              "      <th>2021-06-25 23:59:41</th>\n",
              "      <td>0.107805</td>\n",
              "    </tr>\n",
              "    <tr>\n",
              "      <th>2021-06-25 23:59:42</th>\n",
              "      <td>0.107805</td>\n",
              "    </tr>\n",
              "    <tr>\n",
              "      <th>2021-06-25 23:59:43</th>\n",
              "      <td>0.107805</td>\n",
              "    </tr>\n",
              "  </tbody>\n",
              "</table>\n",
              "<p>412471 rows × 1 columns</p>\n",
              "</div>"
            ],
            "text/plain": [
              "                        Value\n",
              "Date                         \n",
              "2021-06-21 05:25:13  0.085145\n",
              "2021-06-21 05:25:14  0.085145\n",
              "2021-06-21 05:25:15  0.085145\n",
              "2021-06-21 05:25:16  0.085145\n",
              "2021-06-21 05:25:17  0.085145\n",
              "...                       ...\n",
              "2021-06-25 23:59:39  0.107805\n",
              "2021-06-25 23:59:40  0.107805\n",
              "2021-06-25 23:59:41  0.107805\n",
              "2021-06-25 23:59:42  0.107805\n",
              "2021-06-25 23:59:43  0.107805\n",
              "\n",
              "[412471 rows x 1 columns]"
            ]
          },
          "metadata": {},
          "execution_count": 27
        }
      ]
    },
    {
      "cell_type": "code",
      "metadata": {
        "colab": {
          "base_uri": "https://localhost:8080/",
          "height": 236
        },
        "id": "mzRAjjL8VzP6",
        "outputId": "83706232-b43a-46f9-9cca-bf7bc68861af"
      },
      "source": [
        "a.df_base.head()"
      ],
      "execution_count": 28,
      "outputs": [
        {
          "output_type": "execute_result",
          "data": {
            "text/html": [
              "<div>\n",
              "<style scoped>\n",
              "    .dataframe tbody tr th:only-of-type {\n",
              "        vertical-align: middle;\n",
              "    }\n",
              "\n",
              "    .dataframe tbody tr th {\n",
              "        vertical-align: top;\n",
              "    }\n",
              "\n",
              "    .dataframe thead th {\n",
              "        text-align: right;\n",
              "    }\n",
              "</style>\n",
              "<table border=\"1\" class=\"dataframe\">\n",
              "  <thead>\n",
              "    <tr style=\"text-align: right;\">\n",
              "      <th></th>\n",
              "      <th>Value</th>\n",
              "    </tr>\n",
              "    <tr>\n",
              "      <th>Date</th>\n",
              "      <th></th>\n",
              "    </tr>\n",
              "  </thead>\n",
              "  <tbody>\n",
              "    <tr>\n",
              "      <th>2021-06-21 05:25:13</th>\n",
              "      <td>0.085145</td>\n",
              "    </tr>\n",
              "    <tr>\n",
              "      <th>2021-06-21 05:25:14</th>\n",
              "      <td>0.085145</td>\n",
              "    </tr>\n",
              "    <tr>\n",
              "      <th>2021-06-21 05:25:15</th>\n",
              "      <td>0.085145</td>\n",
              "    </tr>\n",
              "    <tr>\n",
              "      <th>2021-06-21 05:25:16</th>\n",
              "      <td>0.085145</td>\n",
              "    </tr>\n",
              "    <tr>\n",
              "      <th>2021-06-21 05:25:17</th>\n",
              "      <td>0.085145</td>\n",
              "    </tr>\n",
              "  </tbody>\n",
              "</table>\n",
              "</div>"
            ],
            "text/plain": [
              "                        Value\n",
              "Date                         \n",
              "2021-06-21 05:25:13  0.085145\n",
              "2021-06-21 05:25:14  0.085145\n",
              "2021-06-21 05:25:15  0.085145\n",
              "2021-06-21 05:25:16  0.085145\n",
              "2021-06-21 05:25:17  0.085145"
            ]
          },
          "metadata": {},
          "execution_count": 28
        }
      ]
    }
  ]
}